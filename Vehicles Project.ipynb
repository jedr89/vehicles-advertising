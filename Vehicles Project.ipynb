{
 "cells": [
  {
   "cell_type": "markdown",
   "metadata": {},
   "source": [
    "# ¿Qué vende un coche?\n",
    "\n",
    "Cientos de anuncios gratuitos de vehículos se publican en un sitio web cada día. Vamos a estudiar los datos recopilados durante los últimos años y determinar qué factores influyen en el precio de un vehículo."
   ]
  },
  {
   "cell_type": "markdown",
   "metadata": {},
   "source": [
    "Vamos a cargar las librerías necesarias para poder procesar nuestros datos."
   ]
  },
  {
   "cell_type": "code",
   "execution_count": 1,
   "metadata": {},
   "outputs": [],
   "source": [
    "import pandas as pd"
   ]
  },
  {
   "cell_type": "markdown",
   "metadata": {},
   "source": [
    "Vamos ahora a cargar la base datos a utilizar, en este caso es un CSV."
   ]
  },
  {
   "cell_type": "code",
   "execution_count": 2,
   "metadata": {},
   "outputs": [],
   "source": [
    "data = pd.read_csv('/datasets/vehicles_us.csv')"
   ]
  },
  {
   "cell_type": "markdown",
   "metadata": {},
   "source": [
    "El dataset contiene los siguientes campos:\n",
    "- `price`\n",
    "- `model_year`\n",
    "- `model`\n",
    "- `condition`\n",
    "- `cylinders`\n",
    "- `fuel` — gasolina, diesel, etc.\n",
    "- `odometer` — el millaje del vehículo cuando el anuncio fue publicado\n",
    "- `transmission`\n",
    "- `paint_color`\n",
    "- `is_4wd` — si el vehículo tiene tracción a las 4 ruedas (tipo Booleano)\n",
    "- `date_posted` — la fecha en la que el anuncio fue publicado\n",
    "- `days_listed` — desde la publicación hasta que se elimina\n"
   ]
  },
  {
   "cell_type": "code",
   "execution_count": 68,
   "metadata": {},
   "outputs": [
    {
     "name": "stdout",
     "output_type": "stream",
     "text": [
      "<class 'pandas.core.frame.DataFrame'>\n",
      "RangeIndex: 51525 entries, 0 to 51524\n",
      "Data columns (total 13 columns):\n",
      " #   Column        Non-Null Count  Dtype  \n",
      "---  ------        --------------  -----  \n",
      " 0   price         51525 non-null  int64  \n",
      " 1   model_year    47906 non-null  float64\n",
      " 2   model         51525 non-null  object \n",
      " 3   condition     51525 non-null  object \n",
      " 4   cylinders     46265 non-null  float64\n",
      " 5   fuel          51525 non-null  object \n",
      " 6   odometer      43633 non-null  float64\n",
      " 7   transmission  51525 non-null  object \n",
      " 8   type          51525 non-null  object \n",
      " 9   paint_color   42258 non-null  object \n",
      " 10  is_4wd        25572 non-null  float64\n",
      " 11  date_posted   51525 non-null  object \n",
      " 12  days_listed   51525 non-null  int64  \n",
      "dtypes: float64(4), int64(2), object(7)\n",
      "memory usage: 5.1+ MB\n"
     ]
    }
   ],
   "source": [
    "data.info()"
   ]
  },
  {
   "cell_type": "code",
   "execution_count": 69,
   "metadata": {},
   "outputs": [
    {
     "data": {
      "text/html": [
       "<div>\n",
       "<style scoped>\n",
       "    .dataframe tbody tr th:only-of-type {\n",
       "        vertical-align: middle;\n",
       "    }\n",
       "\n",
       "    .dataframe tbody tr th {\n",
       "        vertical-align: top;\n",
       "    }\n",
       "\n",
       "    .dataframe thead th {\n",
       "        text-align: right;\n",
       "    }\n",
       "</style>\n",
       "<table border=\"1\" class=\"dataframe\">\n",
       "  <thead>\n",
       "    <tr style=\"text-align: right;\">\n",
       "      <th></th>\n",
       "      <th>price</th>\n",
       "      <th>model_year</th>\n",
       "      <th>model</th>\n",
       "      <th>condition</th>\n",
       "      <th>cylinders</th>\n",
       "      <th>fuel</th>\n",
       "      <th>odometer</th>\n",
       "      <th>transmission</th>\n",
       "      <th>type</th>\n",
       "      <th>paint_color</th>\n",
       "      <th>is_4wd</th>\n",
       "      <th>date_posted</th>\n",
       "      <th>days_listed</th>\n",
       "    </tr>\n",
       "  </thead>\n",
       "  <tbody>\n",
       "    <tr>\n",
       "      <th>0</th>\n",
       "      <td>9400</td>\n",
       "      <td>2011.0</td>\n",
       "      <td>bmw x5</td>\n",
       "      <td>good</td>\n",
       "      <td>6.0</td>\n",
       "      <td>gas</td>\n",
       "      <td>145000.0</td>\n",
       "      <td>automatic</td>\n",
       "      <td>SUV</td>\n",
       "      <td>NaN</td>\n",
       "      <td>1.0</td>\n",
       "      <td>2018-06-23</td>\n",
       "      <td>19</td>\n",
       "    </tr>\n",
       "    <tr>\n",
       "      <th>1</th>\n",
       "      <td>25500</td>\n",
       "      <td>NaN</td>\n",
       "      <td>ford f-150</td>\n",
       "      <td>good</td>\n",
       "      <td>6.0</td>\n",
       "      <td>gas</td>\n",
       "      <td>88705.0</td>\n",
       "      <td>automatic</td>\n",
       "      <td>pickup</td>\n",
       "      <td>white</td>\n",
       "      <td>1.0</td>\n",
       "      <td>2018-10-19</td>\n",
       "      <td>50</td>\n",
       "    </tr>\n",
       "    <tr>\n",
       "      <th>2</th>\n",
       "      <td>5500</td>\n",
       "      <td>2013.0</td>\n",
       "      <td>hyundai sonata</td>\n",
       "      <td>like new</td>\n",
       "      <td>4.0</td>\n",
       "      <td>gas</td>\n",
       "      <td>110000.0</td>\n",
       "      <td>automatic</td>\n",
       "      <td>sedan</td>\n",
       "      <td>red</td>\n",
       "      <td>NaN</td>\n",
       "      <td>2019-02-07</td>\n",
       "      <td>79</td>\n",
       "    </tr>\n",
       "    <tr>\n",
       "      <th>3</th>\n",
       "      <td>1500</td>\n",
       "      <td>2003.0</td>\n",
       "      <td>ford f-150</td>\n",
       "      <td>fair</td>\n",
       "      <td>8.0</td>\n",
       "      <td>gas</td>\n",
       "      <td>NaN</td>\n",
       "      <td>automatic</td>\n",
       "      <td>pickup</td>\n",
       "      <td>NaN</td>\n",
       "      <td>NaN</td>\n",
       "      <td>2019-03-22</td>\n",
       "      <td>9</td>\n",
       "    </tr>\n",
       "    <tr>\n",
       "      <th>4</th>\n",
       "      <td>14900</td>\n",
       "      <td>2017.0</td>\n",
       "      <td>chrysler 200</td>\n",
       "      <td>excellent</td>\n",
       "      <td>4.0</td>\n",
       "      <td>gas</td>\n",
       "      <td>80903.0</td>\n",
       "      <td>automatic</td>\n",
       "      <td>sedan</td>\n",
       "      <td>black</td>\n",
       "      <td>NaN</td>\n",
       "      <td>2019-04-02</td>\n",
       "      <td>28</td>\n",
       "    </tr>\n",
       "    <tr>\n",
       "      <th>5</th>\n",
       "      <td>14990</td>\n",
       "      <td>2014.0</td>\n",
       "      <td>chrysler 300</td>\n",
       "      <td>excellent</td>\n",
       "      <td>6.0</td>\n",
       "      <td>gas</td>\n",
       "      <td>57954.0</td>\n",
       "      <td>automatic</td>\n",
       "      <td>sedan</td>\n",
       "      <td>black</td>\n",
       "      <td>1.0</td>\n",
       "      <td>2018-06-20</td>\n",
       "      <td>15</td>\n",
       "    </tr>\n",
       "    <tr>\n",
       "      <th>6</th>\n",
       "      <td>12990</td>\n",
       "      <td>2015.0</td>\n",
       "      <td>toyota camry</td>\n",
       "      <td>excellent</td>\n",
       "      <td>4.0</td>\n",
       "      <td>gas</td>\n",
       "      <td>79212.0</td>\n",
       "      <td>automatic</td>\n",
       "      <td>sedan</td>\n",
       "      <td>white</td>\n",
       "      <td>NaN</td>\n",
       "      <td>2018-12-27</td>\n",
       "      <td>73</td>\n",
       "    </tr>\n",
       "    <tr>\n",
       "      <th>7</th>\n",
       "      <td>15990</td>\n",
       "      <td>2013.0</td>\n",
       "      <td>honda pilot</td>\n",
       "      <td>excellent</td>\n",
       "      <td>6.0</td>\n",
       "      <td>gas</td>\n",
       "      <td>109473.0</td>\n",
       "      <td>automatic</td>\n",
       "      <td>SUV</td>\n",
       "      <td>black</td>\n",
       "      <td>1.0</td>\n",
       "      <td>2019-01-07</td>\n",
       "      <td>68</td>\n",
       "    </tr>\n",
       "    <tr>\n",
       "      <th>8</th>\n",
       "      <td>11500</td>\n",
       "      <td>2012.0</td>\n",
       "      <td>kia sorento</td>\n",
       "      <td>excellent</td>\n",
       "      <td>4.0</td>\n",
       "      <td>gas</td>\n",
       "      <td>104174.0</td>\n",
       "      <td>automatic</td>\n",
       "      <td>SUV</td>\n",
       "      <td>NaN</td>\n",
       "      <td>1.0</td>\n",
       "      <td>2018-07-16</td>\n",
       "      <td>19</td>\n",
       "    </tr>\n",
       "    <tr>\n",
       "      <th>9</th>\n",
       "      <td>9200</td>\n",
       "      <td>2008.0</td>\n",
       "      <td>honda pilot</td>\n",
       "      <td>excellent</td>\n",
       "      <td>NaN</td>\n",
       "      <td>gas</td>\n",
       "      <td>147191.0</td>\n",
       "      <td>automatic</td>\n",
       "      <td>SUV</td>\n",
       "      <td>blue</td>\n",
       "      <td>1.0</td>\n",
       "      <td>2019-02-15</td>\n",
       "      <td>17</td>\n",
       "    </tr>\n",
       "  </tbody>\n",
       "</table>\n",
       "</div>"
      ],
      "text/plain": [
       "   price  model_year           model  condition  cylinders fuel  odometer  \\\n",
       "0   9400      2011.0          bmw x5       good        6.0  gas  145000.0   \n",
       "1  25500         NaN      ford f-150       good        6.0  gas   88705.0   \n",
       "2   5500      2013.0  hyundai sonata   like new        4.0  gas  110000.0   \n",
       "3   1500      2003.0      ford f-150       fair        8.0  gas       NaN   \n",
       "4  14900      2017.0    chrysler 200  excellent        4.0  gas   80903.0   \n",
       "5  14990      2014.0    chrysler 300  excellent        6.0  gas   57954.0   \n",
       "6  12990      2015.0    toyota camry  excellent        4.0  gas   79212.0   \n",
       "7  15990      2013.0     honda pilot  excellent        6.0  gas  109473.0   \n",
       "8  11500      2012.0     kia sorento  excellent        4.0  gas  104174.0   \n",
       "9   9200      2008.0     honda pilot  excellent        NaN  gas  147191.0   \n",
       "\n",
       "  transmission    type paint_color  is_4wd date_posted  days_listed  \n",
       "0    automatic     SUV         NaN     1.0  2018-06-23           19  \n",
       "1    automatic  pickup       white     1.0  2018-10-19           50  \n",
       "2    automatic   sedan         red     NaN  2019-02-07           79  \n",
       "3    automatic  pickup         NaN     NaN  2019-03-22            9  \n",
       "4    automatic   sedan       black     NaN  2019-04-02           28  \n",
       "5    automatic   sedan       black     1.0  2018-06-20           15  \n",
       "6    automatic   sedan       white     NaN  2018-12-27           73  \n",
       "7    automatic     SUV       black     1.0  2019-01-07           68  \n",
       "8    automatic     SUV         NaN     1.0  2018-07-16           19  \n",
       "9    automatic     SUV        blue     1.0  2019-02-15           17  "
      ]
     },
     "execution_count": 69,
     "metadata": {},
     "output_type": "execute_result"
    }
   ],
   "source": [
    "data.head(10)"
   ]
  },
  {
   "cell_type": "markdown",
   "metadata": {},
   "source": [
    "Observando la información general de los datos podemos ver que hay datos faltantes en las columnas de 'model_year', 'cylinders', 'odomoter' y 'paint_color'. Algunas de estas se puede rellenar con valores promedios o medianas. Lo cuales veremos más adelante. \n",
    "Además, la columna de date_posted tiene formato object y debe ir con formato datetime.\n",
    "A continuación, ajustamos la columna date_posted."
   ]
  },
  {
   "cell_type": "code",
   "execution_count": 70,
   "metadata": {
    "scrolled": true
   },
   "outputs": [
    {
     "name": "stdout",
     "output_type": "stream",
     "text": [
      "<class 'pandas.core.frame.DataFrame'>\n",
      "RangeIndex: 51525 entries, 0 to 51524\n",
      "Data columns (total 13 columns):\n",
      " #   Column        Non-Null Count  Dtype         \n",
      "---  ------        --------------  -----         \n",
      " 0   price         51525 non-null  int64         \n",
      " 1   model_year    47906 non-null  float64       \n",
      " 2   model         51525 non-null  object        \n",
      " 3   condition     51525 non-null  object        \n",
      " 4   cylinders     46265 non-null  float64       \n",
      " 5   fuel          51525 non-null  object        \n",
      " 6   odometer      43633 non-null  float64       \n",
      " 7   transmission  51525 non-null  object        \n",
      " 8   type          51525 non-null  object        \n",
      " 9   paint_color   42258 non-null  object        \n",
      " 10  is_4wd        25572 non-null  float64       \n",
      " 11  date_posted   51525 non-null  datetime64[ns]\n",
      " 12  days_listed   51525 non-null  int64         \n",
      "dtypes: datetime64[ns](1), float64(4), int64(2), object(6)\n",
      "memory usage: 5.1+ MB\n"
     ]
    }
   ],
   "source": [
    "data['date_posted'] = pd.to_datetime(data['date_posted'], format='%Y-%m-%d')\n",
    "data.info()"
   ]
  },
  {
   "cell_type": "markdown",
   "metadata": {},
   "source": [
    "Cambiaremos los valores nulos de la columna de is_4wd por 0 para utilizarlo como valores booleanos."
   ]
  },
  {
   "cell_type": "code",
   "execution_count": 71,
   "metadata": {},
   "outputs": [
    {
     "data": {
      "text/html": [
       "<div>\n",
       "<style scoped>\n",
       "    .dataframe tbody tr th:only-of-type {\n",
       "        vertical-align: middle;\n",
       "    }\n",
       "\n",
       "    .dataframe tbody tr th {\n",
       "        vertical-align: top;\n",
       "    }\n",
       "\n",
       "    .dataframe thead th {\n",
       "        text-align: right;\n",
       "    }\n",
       "</style>\n",
       "<table border=\"1\" class=\"dataframe\">\n",
       "  <thead>\n",
       "    <tr style=\"text-align: right;\">\n",
       "      <th></th>\n",
       "      <th>price</th>\n",
       "      <th>model_year</th>\n",
       "      <th>model</th>\n",
       "      <th>condition</th>\n",
       "      <th>cylinders</th>\n",
       "      <th>fuel</th>\n",
       "      <th>odometer</th>\n",
       "      <th>transmission</th>\n",
       "      <th>type</th>\n",
       "      <th>paint_color</th>\n",
       "      <th>is_4wd</th>\n",
       "      <th>date_posted</th>\n",
       "      <th>days_listed</th>\n",
       "    </tr>\n",
       "  </thead>\n",
       "  <tbody>\n",
       "    <tr>\n",
       "      <th>0</th>\n",
       "      <td>9400</td>\n",
       "      <td>2011.0</td>\n",
       "      <td>bmw x5</td>\n",
       "      <td>good</td>\n",
       "      <td>6.0</td>\n",
       "      <td>gas</td>\n",
       "      <td>145000.0</td>\n",
       "      <td>automatic</td>\n",
       "      <td>SUV</td>\n",
       "      <td>NaN</td>\n",
       "      <td>1.0</td>\n",
       "      <td>2018-06-23</td>\n",
       "      <td>19</td>\n",
       "    </tr>\n",
       "    <tr>\n",
       "      <th>1</th>\n",
       "      <td>25500</td>\n",
       "      <td>NaN</td>\n",
       "      <td>ford f-150</td>\n",
       "      <td>good</td>\n",
       "      <td>6.0</td>\n",
       "      <td>gas</td>\n",
       "      <td>88705.0</td>\n",
       "      <td>automatic</td>\n",
       "      <td>pickup</td>\n",
       "      <td>white</td>\n",
       "      <td>1.0</td>\n",
       "      <td>2018-10-19</td>\n",
       "      <td>50</td>\n",
       "    </tr>\n",
       "    <tr>\n",
       "      <th>2</th>\n",
       "      <td>5500</td>\n",
       "      <td>2013.0</td>\n",
       "      <td>hyundai sonata</td>\n",
       "      <td>like new</td>\n",
       "      <td>4.0</td>\n",
       "      <td>gas</td>\n",
       "      <td>110000.0</td>\n",
       "      <td>automatic</td>\n",
       "      <td>sedan</td>\n",
       "      <td>red</td>\n",
       "      <td>0.0</td>\n",
       "      <td>2019-02-07</td>\n",
       "      <td>79</td>\n",
       "    </tr>\n",
       "    <tr>\n",
       "      <th>3</th>\n",
       "      <td>1500</td>\n",
       "      <td>2003.0</td>\n",
       "      <td>ford f-150</td>\n",
       "      <td>fair</td>\n",
       "      <td>8.0</td>\n",
       "      <td>gas</td>\n",
       "      <td>NaN</td>\n",
       "      <td>automatic</td>\n",
       "      <td>pickup</td>\n",
       "      <td>NaN</td>\n",
       "      <td>0.0</td>\n",
       "      <td>2019-03-22</td>\n",
       "      <td>9</td>\n",
       "    </tr>\n",
       "    <tr>\n",
       "      <th>4</th>\n",
       "      <td>14900</td>\n",
       "      <td>2017.0</td>\n",
       "      <td>chrysler 200</td>\n",
       "      <td>excellent</td>\n",
       "      <td>4.0</td>\n",
       "      <td>gas</td>\n",
       "      <td>80903.0</td>\n",
       "      <td>automatic</td>\n",
       "      <td>sedan</td>\n",
       "      <td>black</td>\n",
       "      <td>0.0</td>\n",
       "      <td>2019-04-02</td>\n",
       "      <td>28</td>\n",
       "    </tr>\n",
       "  </tbody>\n",
       "</table>\n",
       "</div>"
      ],
      "text/plain": [
       "   price  model_year           model  condition  cylinders fuel  odometer  \\\n",
       "0   9400      2011.0          bmw x5       good        6.0  gas  145000.0   \n",
       "1  25500         NaN      ford f-150       good        6.0  gas   88705.0   \n",
       "2   5500      2013.0  hyundai sonata   like new        4.0  gas  110000.0   \n",
       "3   1500      2003.0      ford f-150       fair        8.0  gas       NaN   \n",
       "4  14900      2017.0    chrysler 200  excellent        4.0  gas   80903.0   \n",
       "\n",
       "  transmission    type paint_color  is_4wd date_posted  days_listed  \n",
       "0    automatic     SUV         NaN     1.0  2018-06-23           19  \n",
       "1    automatic  pickup       white     1.0  2018-10-19           50  \n",
       "2    automatic   sedan         red     0.0  2019-02-07           79  \n",
       "3    automatic  pickup         NaN     0.0  2019-03-22            9  \n",
       "4    automatic   sedan       black     0.0  2019-04-02           28  "
      ]
     },
     "execution_count": 71,
     "metadata": {},
     "output_type": "execute_result"
    }
   ],
   "source": [
    "data['is_4wd'] = data['is_4wd'].fillna(0)\n",
    "data.head()"
   ]
  },
  {
   "cell_type": "markdown",
   "metadata": {},
   "source": [
    "Ajustaremos la columna de is_4wd con números float a números enteros ya que estos deben ser enteros."
   ]
  },
  {
   "cell_type": "code",
   "execution_count": 72,
   "metadata": {},
   "outputs": [
    {
     "data": {
      "text/html": [
       "<div>\n",
       "<style scoped>\n",
       "    .dataframe tbody tr th:only-of-type {\n",
       "        vertical-align: middle;\n",
       "    }\n",
       "\n",
       "    .dataframe tbody tr th {\n",
       "        vertical-align: top;\n",
       "    }\n",
       "\n",
       "    .dataframe thead th {\n",
       "        text-align: right;\n",
       "    }\n",
       "</style>\n",
       "<table border=\"1\" class=\"dataframe\">\n",
       "  <thead>\n",
       "    <tr style=\"text-align: right;\">\n",
       "      <th></th>\n",
       "      <th>price</th>\n",
       "      <th>model_year</th>\n",
       "      <th>model</th>\n",
       "      <th>condition</th>\n",
       "      <th>cylinders</th>\n",
       "      <th>fuel</th>\n",
       "      <th>odometer</th>\n",
       "      <th>transmission</th>\n",
       "      <th>type</th>\n",
       "      <th>paint_color</th>\n",
       "      <th>is_4wd</th>\n",
       "      <th>date_posted</th>\n",
       "      <th>days_listed</th>\n",
       "    </tr>\n",
       "  </thead>\n",
       "  <tbody>\n",
       "    <tr>\n",
       "      <th>0</th>\n",
       "      <td>9400</td>\n",
       "      <td>2011.0</td>\n",
       "      <td>bmw x5</td>\n",
       "      <td>good</td>\n",
       "      <td>6.0</td>\n",
       "      <td>gas</td>\n",
       "      <td>145000.0</td>\n",
       "      <td>automatic</td>\n",
       "      <td>SUV</td>\n",
       "      <td>NaN</td>\n",
       "      <td>1</td>\n",
       "      <td>2018-06-23</td>\n",
       "      <td>19</td>\n",
       "    </tr>\n",
       "    <tr>\n",
       "      <th>1</th>\n",
       "      <td>25500</td>\n",
       "      <td>NaN</td>\n",
       "      <td>ford f-150</td>\n",
       "      <td>good</td>\n",
       "      <td>6.0</td>\n",
       "      <td>gas</td>\n",
       "      <td>88705.0</td>\n",
       "      <td>automatic</td>\n",
       "      <td>pickup</td>\n",
       "      <td>white</td>\n",
       "      <td>1</td>\n",
       "      <td>2018-10-19</td>\n",
       "      <td>50</td>\n",
       "    </tr>\n",
       "    <tr>\n",
       "      <th>2</th>\n",
       "      <td>5500</td>\n",
       "      <td>2013.0</td>\n",
       "      <td>hyundai sonata</td>\n",
       "      <td>like new</td>\n",
       "      <td>4.0</td>\n",
       "      <td>gas</td>\n",
       "      <td>110000.0</td>\n",
       "      <td>automatic</td>\n",
       "      <td>sedan</td>\n",
       "      <td>red</td>\n",
       "      <td>0</td>\n",
       "      <td>2019-02-07</td>\n",
       "      <td>79</td>\n",
       "    </tr>\n",
       "    <tr>\n",
       "      <th>3</th>\n",
       "      <td>1500</td>\n",
       "      <td>2003.0</td>\n",
       "      <td>ford f-150</td>\n",
       "      <td>fair</td>\n",
       "      <td>8.0</td>\n",
       "      <td>gas</td>\n",
       "      <td>NaN</td>\n",
       "      <td>automatic</td>\n",
       "      <td>pickup</td>\n",
       "      <td>NaN</td>\n",
       "      <td>0</td>\n",
       "      <td>2019-03-22</td>\n",
       "      <td>9</td>\n",
       "    </tr>\n",
       "    <tr>\n",
       "      <th>4</th>\n",
       "      <td>14900</td>\n",
       "      <td>2017.0</td>\n",
       "      <td>chrysler 200</td>\n",
       "      <td>excellent</td>\n",
       "      <td>4.0</td>\n",
       "      <td>gas</td>\n",
       "      <td>80903.0</td>\n",
       "      <td>automatic</td>\n",
       "      <td>sedan</td>\n",
       "      <td>black</td>\n",
       "      <td>0</td>\n",
       "      <td>2019-04-02</td>\n",
       "      <td>28</td>\n",
       "    </tr>\n",
       "  </tbody>\n",
       "</table>\n",
       "</div>"
      ],
      "text/plain": [
       "   price  model_year           model  condition  cylinders fuel  odometer  \\\n",
       "0   9400      2011.0          bmw x5       good        6.0  gas  145000.0   \n",
       "1  25500         NaN      ford f-150       good        6.0  gas   88705.0   \n",
       "2   5500      2013.0  hyundai sonata   like new        4.0  gas  110000.0   \n",
       "3   1500      2003.0      ford f-150       fair        8.0  gas       NaN   \n",
       "4  14900      2017.0    chrysler 200  excellent        4.0  gas   80903.0   \n",
       "\n",
       "  transmission    type paint_color  is_4wd date_posted  days_listed  \n",
       "0    automatic     SUV         NaN       1  2018-06-23           19  \n",
       "1    automatic  pickup       white       1  2018-10-19           50  \n",
       "2    automatic   sedan         red       0  2019-02-07           79  \n",
       "3    automatic  pickup         NaN       0  2019-03-22            9  \n",
       "4    automatic   sedan       black       0  2019-04-02           28  "
      ]
     },
     "execution_count": 72,
     "metadata": {},
     "output_type": "execute_result"
    }
   ],
   "source": [
    "data['is_4wd'] = data['is_4wd'].astype(int)\n",
    "data.head()"
   ]
  },
  {
   "cell_type": "markdown",
   "metadata": {},
   "source": [
    "Listo, ya tenemos arreglada la columna de is_4wd"
   ]
  },
  {
   "cell_type": "markdown",
   "metadata": {},
   "source": [
    " "
   ]
  },
  {
   "cell_type": "markdown",
   "metadata": {},
   "source": [
    "### Conclusiones y siguientes pasos\n",
    "\n",
    "Los datos hasta ahora se ven normales para las columnas.\n",
    "\n",
    "Se harán grupos para el año del modelo y el odómetro. Después, se buscarán los promedios y medianas del año del modelo y el odometro para rellenar los datos faltantes de estas columnas."
   ]
  },
  {
   "cell_type": "code",
   "execution_count": 75,
   "metadata": {},
   "outputs": [
    {
     "data": {
      "text/html": [
       "<div>\n",
       "<style scoped>\n",
       "    .dataframe tbody tr th:only-of-type {\n",
       "        vertical-align: middle;\n",
       "    }\n",
       "\n",
       "    .dataframe tbody tr th {\n",
       "        vertical-align: top;\n",
       "    }\n",
       "\n",
       "    .dataframe thead th {\n",
       "        text-align: right;\n",
       "    }\n",
       "</style>\n",
       "<table border=\"1\" class=\"dataframe\">\n",
       "  <thead>\n",
       "    <tr style=\"text-align: right;\">\n",
       "      <th></th>\n",
       "      <th>price</th>\n",
       "      <th>model_year</th>\n",
       "      <th>model</th>\n",
       "      <th>condition</th>\n",
       "      <th>cylinders</th>\n",
       "      <th>fuel</th>\n",
       "      <th>odometer</th>\n",
       "      <th>transmission</th>\n",
       "      <th>type</th>\n",
       "      <th>paint_color</th>\n",
       "      <th>is_4wd</th>\n",
       "      <th>date_posted</th>\n",
       "      <th>days_listed</th>\n",
       "      <th>model_year_grouped</th>\n",
       "      <th>odometer_grouped</th>\n",
       "    </tr>\n",
       "  </thead>\n",
       "  <tbody>\n",
       "    <tr>\n",
       "      <th>0</th>\n",
       "      <td>9400</td>\n",
       "      <td>2011.0</td>\n",
       "      <td>bmw x5</td>\n",
       "      <td>good</td>\n",
       "      <td>6.0</td>\n",
       "      <td>gas</td>\n",
       "      <td>145000.0</td>\n",
       "      <td>automatic</td>\n",
       "      <td>SUV</td>\n",
       "      <td>NaN</td>\n",
       "      <td>1</td>\n",
       "      <td>2018-06-23</td>\n",
       "      <td>19</td>\n",
       "      <td>2011-2020</td>\n",
       "      <td>100,001 - 150,000</td>\n",
       "    </tr>\n",
       "    <tr>\n",
       "      <th>1</th>\n",
       "      <td>25500</td>\n",
       "      <td>NaN</td>\n",
       "      <td>ford f-150</td>\n",
       "      <td>good</td>\n",
       "      <td>6.0</td>\n",
       "      <td>gas</td>\n",
       "      <td>88705.0</td>\n",
       "      <td>automatic</td>\n",
       "      <td>pickup</td>\n",
       "      <td>white</td>\n",
       "      <td>1</td>\n",
       "      <td>2018-10-19</td>\n",
       "      <td>50</td>\n",
       "      <td>None</td>\n",
       "      <td>50,001 - 100,000</td>\n",
       "    </tr>\n",
       "    <tr>\n",
       "      <th>2</th>\n",
       "      <td>5500</td>\n",
       "      <td>2013.0</td>\n",
       "      <td>hyundai sonata</td>\n",
       "      <td>like new</td>\n",
       "      <td>4.0</td>\n",
       "      <td>gas</td>\n",
       "      <td>110000.0</td>\n",
       "      <td>automatic</td>\n",
       "      <td>sedan</td>\n",
       "      <td>red</td>\n",
       "      <td>0</td>\n",
       "      <td>2019-02-07</td>\n",
       "      <td>79</td>\n",
       "      <td>2011-2020</td>\n",
       "      <td>100,001 - 150,000</td>\n",
       "    </tr>\n",
       "    <tr>\n",
       "      <th>3</th>\n",
       "      <td>1500</td>\n",
       "      <td>2003.0</td>\n",
       "      <td>ford f-150</td>\n",
       "      <td>fair</td>\n",
       "      <td>8.0</td>\n",
       "      <td>gas</td>\n",
       "      <td>NaN</td>\n",
       "      <td>automatic</td>\n",
       "      <td>pickup</td>\n",
       "      <td>NaN</td>\n",
       "      <td>0</td>\n",
       "      <td>2019-03-22</td>\n",
       "      <td>9</td>\n",
       "      <td>2001-2010</td>\n",
       "      <td>None</td>\n",
       "    </tr>\n",
       "    <tr>\n",
       "      <th>4</th>\n",
       "      <td>14900</td>\n",
       "      <td>2017.0</td>\n",
       "      <td>chrysler 200</td>\n",
       "      <td>excellent</td>\n",
       "      <td>4.0</td>\n",
       "      <td>gas</td>\n",
       "      <td>80903.0</td>\n",
       "      <td>automatic</td>\n",
       "      <td>sedan</td>\n",
       "      <td>black</td>\n",
       "      <td>0</td>\n",
       "      <td>2019-04-02</td>\n",
       "      <td>28</td>\n",
       "      <td>2011-2020</td>\n",
       "      <td>50,001 - 100,000</td>\n",
       "    </tr>\n",
       "  </tbody>\n",
       "</table>\n",
       "</div>"
      ],
      "text/plain": [
       "   price  model_year           model  condition  cylinders fuel  odometer  \\\n",
       "0   9400      2011.0          bmw x5       good        6.0  gas  145000.0   \n",
       "1  25500         NaN      ford f-150       good        6.0  gas   88705.0   \n",
       "2   5500      2013.0  hyundai sonata   like new        4.0  gas  110000.0   \n",
       "3   1500      2003.0      ford f-150       fair        8.0  gas       NaN   \n",
       "4  14900      2017.0    chrysler 200  excellent        4.0  gas   80903.0   \n",
       "\n",
       "  transmission    type paint_color  is_4wd date_posted  days_listed  \\\n",
       "0    automatic     SUV         NaN       1  2018-06-23           19   \n",
       "1    automatic  pickup       white       1  2018-10-19           50   \n",
       "2    automatic   sedan         red       0  2019-02-07           79   \n",
       "3    automatic  pickup         NaN       0  2019-03-22            9   \n",
       "4    automatic   sedan       black       0  2019-04-02           28   \n",
       "\n",
       "  model_year_grouped   odometer_grouped  \n",
       "0          2011-2020  100,001 - 150,000  \n",
       "1               None   50,001 - 100,000  \n",
       "2          2011-2020  100,001 - 150,000  \n",
       "3          2001-2010               None  \n",
       "4          2011-2020   50,001 - 100,000  "
      ]
     },
     "execution_count": 75,
     "metadata": {},
     "output_type": "execute_result"
    }
   ],
   "source": [
    "def model_year_group (model_year):\n",
    "    if model_year <= 1980:\n",
    "        return '1980 or less'\n",
    "    elif model_year <= 1990:\n",
    "        return '1981-1990'\n",
    "    elif model_year <= 2000:\n",
    "        return '1991-2000'\n",
    "    elif model_year <= 2010:\n",
    "        return '2001-2010'\n",
    "    elif model_year <= 2020:\n",
    "        return '2011-2020'\n",
    "    \n",
    "data['model_year_grouped'] = data['model_year'].apply(model_year_group)\n",
    "\n",
    "\n",
    "def odometer_group (odometer):\n",
    "    if odometer <= 50000:\n",
    "        return '50,000 or less'\n",
    "    elif odometer <= 100000:\n",
    "        return '50,001 - 100,000'\n",
    "    elif odometer <= 150000:\n",
    "        return '100,001 - 150,000'\n",
    "    elif odometer <= 200000:\n",
    "        return '150,001 - 200,000'\n",
    "    elif odometer <= 250000:\n",
    "        return '200,001 - 250,000'\n",
    "    elif odometer > 250000:\n",
    "        return '250,000 or more'\n",
    "    \n",
    "data['odometer_grouped']=data['odometer'].apply(odometer_group)\n",
    "data.head()"
   ]
  },
  {
   "cell_type": "markdown",
   "metadata": {},
   "source": [
    "Vamos a analizar la media y mediana de los valores en odometer agrupados por model_year."
   ]
  },
  {
   "cell_type": "code",
   "execution_count": 76,
   "metadata": {
    "scrolled": true
   },
   "outputs": [
    {
     "data": {
      "text/html": [
       "<div>\n",
       "<style scoped>\n",
       "    .dataframe tbody tr th:only-of-type {\n",
       "        vertical-align: middle;\n",
       "    }\n",
       "\n",
       "    .dataframe tbody tr th {\n",
       "        vertical-align: top;\n",
       "    }\n",
       "\n",
       "    .dataframe thead th {\n",
       "        text-align: right;\n",
       "    }\n",
       "</style>\n",
       "<table border=\"1\" class=\"dataframe\">\n",
       "  <thead>\n",
       "    <tr style=\"text-align: right;\">\n",
       "      <th></th>\n",
       "      <th>odometer</th>\n",
       "    </tr>\n",
       "    <tr>\n",
       "      <th>model_year_grouped</th>\n",
       "      <th></th>\n",
       "    </tr>\n",
       "  </thead>\n",
       "  <tbody>\n",
       "    <tr>\n",
       "      <th>1980 or less</th>\n",
       "      <td>66666.565714</td>\n",
       "    </tr>\n",
       "    <tr>\n",
       "      <th>1981-1990</th>\n",
       "      <td>115529.748000</td>\n",
       "    </tr>\n",
       "    <tr>\n",
       "      <th>1991-2000</th>\n",
       "      <td>172993.704515</td>\n",
       "    </tr>\n",
       "    <tr>\n",
       "      <th>2001-2010</th>\n",
       "      <td>146911.236024</td>\n",
       "    </tr>\n",
       "    <tr>\n",
       "      <th>2011-2020</th>\n",
       "      <td>85032.839936</td>\n",
       "    </tr>\n",
       "  </tbody>\n",
       "</table>\n",
       "</div>"
      ],
      "text/plain": [
       "                         odometer\n",
       "model_year_grouped               \n",
       "1980 or less         66666.565714\n",
       "1981-1990           115529.748000\n",
       "1991-2000           172993.704515\n",
       "2001-2010           146911.236024\n",
       "2011-2020            85032.839936"
      ]
     },
     "execution_count": 76,
     "metadata": {},
     "output_type": "execute_result"
    }
   ],
   "source": [
    "data_pivot_mean = data.pivot_table(index='model_year_grouped', values='odometer')\n",
    "data_pivot_mean"
   ]
  },
  {
   "cell_type": "code",
   "execution_count": 77,
   "metadata": {
    "scrolled": true
   },
   "outputs": [
    {
     "data": {
      "text/html": [
       "<div>\n",
       "<style scoped>\n",
       "    .dataframe tbody tr th:only-of-type {\n",
       "        vertical-align: middle;\n",
       "    }\n",
       "\n",
       "    .dataframe tbody tr th {\n",
       "        vertical-align: top;\n",
       "    }\n",
       "\n",
       "    .dataframe thead th {\n",
       "        text-align: right;\n",
       "    }\n",
       "</style>\n",
       "<table border=\"1\" class=\"dataframe\">\n",
       "  <thead>\n",
       "    <tr style=\"text-align: right;\">\n",
       "      <th></th>\n",
       "      <th>odometer</th>\n",
       "    </tr>\n",
       "    <tr>\n",
       "      <th>model_year_grouped</th>\n",
       "      <th></th>\n",
       "    </tr>\n",
       "  </thead>\n",
       "  <tbody>\n",
       "    <tr>\n",
       "      <th>1980 or less</th>\n",
       "      <td>60982.0</td>\n",
       "    </tr>\n",
       "    <tr>\n",
       "      <th>1981-1990</th>\n",
       "      <td>103991.5</td>\n",
       "    </tr>\n",
       "    <tr>\n",
       "      <th>1991-2000</th>\n",
       "      <td>173850.0</td>\n",
       "    </tr>\n",
       "    <tr>\n",
       "      <th>2001-2010</th>\n",
       "      <td>145000.0</td>\n",
       "    </tr>\n",
       "    <tr>\n",
       "      <th>2011-2020</th>\n",
       "      <td>82985.0</td>\n",
       "    </tr>\n",
       "  </tbody>\n",
       "</table>\n",
       "</div>"
      ],
      "text/plain": [
       "                    odometer\n",
       "model_year_grouped          \n",
       "1980 or less         60982.0\n",
       "1981-1990           103991.5\n",
       "1991-2000           173850.0\n",
       "2001-2010           145000.0\n",
       "2011-2020            82985.0"
      ]
     },
     "execution_count": 77,
     "metadata": {},
     "output_type": "execute_result"
    }
   ],
   "source": [
    "data_pivot_median = data.pivot_table(index='model_year_grouped', values='odometer', aggfunc='median')\n",
    "data_pivot_median"
   ]
  },
  {
   "cell_type": "markdown",
   "metadata": {},
   "source": [
    "Utilizaremos la mediana para rellenar valores ausentes de odometer, ya que para algunos valores la mediana difiere mucho de la media."
   ]
  },
  {
   "cell_type": "code",
   "execution_count": 78,
   "metadata": {
    "scrolled": false
   },
   "outputs": [
    {
     "data": {
      "text/html": [
       "<div>\n",
       "<style scoped>\n",
       "    .dataframe tbody tr th:only-of-type {\n",
       "        vertical-align: middle;\n",
       "    }\n",
       "\n",
       "    .dataframe tbody tr th {\n",
       "        vertical-align: top;\n",
       "    }\n",
       "\n",
       "    .dataframe thead th {\n",
       "        text-align: right;\n",
       "    }\n",
       "</style>\n",
       "<table border=\"1\" class=\"dataframe\">\n",
       "  <thead>\n",
       "    <tr style=\"text-align: right;\">\n",
       "      <th></th>\n",
       "      <th>price</th>\n",
       "      <th>model_year</th>\n",
       "      <th>model</th>\n",
       "      <th>condition</th>\n",
       "      <th>cylinders</th>\n",
       "      <th>fuel</th>\n",
       "      <th>odometer</th>\n",
       "      <th>transmission</th>\n",
       "      <th>type</th>\n",
       "      <th>paint_color</th>\n",
       "      <th>is_4wd</th>\n",
       "      <th>date_posted</th>\n",
       "      <th>days_listed</th>\n",
       "      <th>model_year_grouped</th>\n",
       "      <th>odometer_grouped</th>\n",
       "      <th>odometer_new</th>\n",
       "    </tr>\n",
       "  </thead>\n",
       "  <tbody>\n",
       "    <tr>\n",
       "      <th>0</th>\n",
       "      <td>9400</td>\n",
       "      <td>2011.0</td>\n",
       "      <td>bmw x5</td>\n",
       "      <td>good</td>\n",
       "      <td>6.0</td>\n",
       "      <td>gas</td>\n",
       "      <td>145000.0</td>\n",
       "      <td>automatic</td>\n",
       "      <td>SUV</td>\n",
       "      <td>NaN</td>\n",
       "      <td>1</td>\n",
       "      <td>2018-06-23</td>\n",
       "      <td>19</td>\n",
       "      <td>2011-2020</td>\n",
       "      <td>100,001 - 150,000</td>\n",
       "      <td>145000.0</td>\n",
       "    </tr>\n",
       "    <tr>\n",
       "      <th>1</th>\n",
       "      <td>25500</td>\n",
       "      <td>NaN</td>\n",
       "      <td>ford f-150</td>\n",
       "      <td>good</td>\n",
       "      <td>6.0</td>\n",
       "      <td>gas</td>\n",
       "      <td>88705.0</td>\n",
       "      <td>automatic</td>\n",
       "      <td>pickup</td>\n",
       "      <td>white</td>\n",
       "      <td>1</td>\n",
       "      <td>2018-10-19</td>\n",
       "      <td>50</td>\n",
       "      <td>None</td>\n",
       "      <td>50,001 - 100,000</td>\n",
       "      <td>88705.0</td>\n",
       "    </tr>\n",
       "    <tr>\n",
       "      <th>2</th>\n",
       "      <td>5500</td>\n",
       "      <td>2013.0</td>\n",
       "      <td>hyundai sonata</td>\n",
       "      <td>like new</td>\n",
       "      <td>4.0</td>\n",
       "      <td>gas</td>\n",
       "      <td>110000.0</td>\n",
       "      <td>automatic</td>\n",
       "      <td>sedan</td>\n",
       "      <td>red</td>\n",
       "      <td>0</td>\n",
       "      <td>2019-02-07</td>\n",
       "      <td>79</td>\n",
       "      <td>2011-2020</td>\n",
       "      <td>100,001 - 150,000</td>\n",
       "      <td>110000.0</td>\n",
       "    </tr>\n",
       "    <tr>\n",
       "      <th>3</th>\n",
       "      <td>1500</td>\n",
       "      <td>2003.0</td>\n",
       "      <td>ford f-150</td>\n",
       "      <td>fair</td>\n",
       "      <td>8.0</td>\n",
       "      <td>gas</td>\n",
       "      <td>NaN</td>\n",
       "      <td>automatic</td>\n",
       "      <td>pickup</td>\n",
       "      <td>NaN</td>\n",
       "      <td>0</td>\n",
       "      <td>2019-03-22</td>\n",
       "      <td>9</td>\n",
       "      <td>2001-2010</td>\n",
       "      <td>None</td>\n",
       "      <td>145000.0</td>\n",
       "    </tr>\n",
       "    <tr>\n",
       "      <th>4</th>\n",
       "      <td>14900</td>\n",
       "      <td>2017.0</td>\n",
       "      <td>chrysler 200</td>\n",
       "      <td>excellent</td>\n",
       "      <td>4.0</td>\n",
       "      <td>gas</td>\n",
       "      <td>80903.0</td>\n",
       "      <td>automatic</td>\n",
       "      <td>sedan</td>\n",
       "      <td>black</td>\n",
       "      <td>0</td>\n",
       "      <td>2019-04-02</td>\n",
       "      <td>28</td>\n",
       "      <td>2011-2020</td>\n",
       "      <td>50,001 - 100,000</td>\n",
       "      <td>80903.0</td>\n",
       "    </tr>\n",
       "    <tr>\n",
       "      <th>5</th>\n",
       "      <td>14990</td>\n",
       "      <td>2014.0</td>\n",
       "      <td>chrysler 300</td>\n",
       "      <td>excellent</td>\n",
       "      <td>6.0</td>\n",
       "      <td>gas</td>\n",
       "      <td>57954.0</td>\n",
       "      <td>automatic</td>\n",
       "      <td>sedan</td>\n",
       "      <td>black</td>\n",
       "      <td>1</td>\n",
       "      <td>2018-06-20</td>\n",
       "      <td>15</td>\n",
       "      <td>2011-2020</td>\n",
       "      <td>50,001 - 100,000</td>\n",
       "      <td>57954.0</td>\n",
       "    </tr>\n",
       "    <tr>\n",
       "      <th>6</th>\n",
       "      <td>12990</td>\n",
       "      <td>2015.0</td>\n",
       "      <td>toyota camry</td>\n",
       "      <td>excellent</td>\n",
       "      <td>4.0</td>\n",
       "      <td>gas</td>\n",
       "      <td>79212.0</td>\n",
       "      <td>automatic</td>\n",
       "      <td>sedan</td>\n",
       "      <td>white</td>\n",
       "      <td>0</td>\n",
       "      <td>2018-12-27</td>\n",
       "      <td>73</td>\n",
       "      <td>2011-2020</td>\n",
       "      <td>50,001 - 100,000</td>\n",
       "      <td>79212.0</td>\n",
       "    </tr>\n",
       "    <tr>\n",
       "      <th>7</th>\n",
       "      <td>15990</td>\n",
       "      <td>2013.0</td>\n",
       "      <td>honda pilot</td>\n",
       "      <td>excellent</td>\n",
       "      <td>6.0</td>\n",
       "      <td>gas</td>\n",
       "      <td>109473.0</td>\n",
       "      <td>automatic</td>\n",
       "      <td>SUV</td>\n",
       "      <td>black</td>\n",
       "      <td>1</td>\n",
       "      <td>2019-01-07</td>\n",
       "      <td>68</td>\n",
       "      <td>2011-2020</td>\n",
       "      <td>100,001 - 150,000</td>\n",
       "      <td>109473.0</td>\n",
       "    </tr>\n",
       "    <tr>\n",
       "      <th>8</th>\n",
       "      <td>11500</td>\n",
       "      <td>2012.0</td>\n",
       "      <td>kia sorento</td>\n",
       "      <td>excellent</td>\n",
       "      <td>4.0</td>\n",
       "      <td>gas</td>\n",
       "      <td>104174.0</td>\n",
       "      <td>automatic</td>\n",
       "      <td>SUV</td>\n",
       "      <td>NaN</td>\n",
       "      <td>1</td>\n",
       "      <td>2018-07-16</td>\n",
       "      <td>19</td>\n",
       "      <td>2011-2020</td>\n",
       "      <td>100,001 - 150,000</td>\n",
       "      <td>104174.0</td>\n",
       "    </tr>\n",
       "    <tr>\n",
       "      <th>9</th>\n",
       "      <td>9200</td>\n",
       "      <td>2008.0</td>\n",
       "      <td>honda pilot</td>\n",
       "      <td>excellent</td>\n",
       "      <td>NaN</td>\n",
       "      <td>gas</td>\n",
       "      <td>147191.0</td>\n",
       "      <td>automatic</td>\n",
       "      <td>SUV</td>\n",
       "      <td>blue</td>\n",
       "      <td>1</td>\n",
       "      <td>2019-02-15</td>\n",
       "      <td>17</td>\n",
       "      <td>2001-2010</td>\n",
       "      <td>100,001 - 150,000</td>\n",
       "      <td>147191.0</td>\n",
       "    </tr>\n",
       "  </tbody>\n",
       "</table>\n",
       "</div>"
      ],
      "text/plain": [
       "   price  model_year           model  condition  cylinders fuel  odometer  \\\n",
       "0   9400      2011.0          bmw x5       good        6.0  gas  145000.0   \n",
       "1  25500         NaN      ford f-150       good        6.0  gas   88705.0   \n",
       "2   5500      2013.0  hyundai sonata   like new        4.0  gas  110000.0   \n",
       "3   1500      2003.0      ford f-150       fair        8.0  gas       NaN   \n",
       "4  14900      2017.0    chrysler 200  excellent        4.0  gas   80903.0   \n",
       "5  14990      2014.0    chrysler 300  excellent        6.0  gas   57954.0   \n",
       "6  12990      2015.0    toyota camry  excellent        4.0  gas   79212.0   \n",
       "7  15990      2013.0     honda pilot  excellent        6.0  gas  109473.0   \n",
       "8  11500      2012.0     kia sorento  excellent        4.0  gas  104174.0   \n",
       "9   9200      2008.0     honda pilot  excellent        NaN  gas  147191.0   \n",
       "\n",
       "  transmission    type paint_color  is_4wd date_posted  days_listed  \\\n",
       "0    automatic     SUV         NaN       1  2018-06-23           19   \n",
       "1    automatic  pickup       white       1  2018-10-19           50   \n",
       "2    automatic   sedan         red       0  2019-02-07           79   \n",
       "3    automatic  pickup         NaN       0  2019-03-22            9   \n",
       "4    automatic   sedan       black       0  2019-04-02           28   \n",
       "5    automatic   sedan       black       1  2018-06-20           15   \n",
       "6    automatic   sedan       white       0  2018-12-27           73   \n",
       "7    automatic     SUV       black       1  2019-01-07           68   \n",
       "8    automatic     SUV         NaN       1  2018-07-16           19   \n",
       "9    automatic     SUV        blue       1  2019-02-15           17   \n",
       "\n",
       "  model_year_grouped   odometer_grouped  odometer_new  \n",
       "0          2011-2020  100,001 - 150,000      145000.0  \n",
       "1               None   50,001 - 100,000       88705.0  \n",
       "2          2011-2020  100,001 - 150,000      110000.0  \n",
       "3          2001-2010               None      145000.0  \n",
       "4          2011-2020   50,001 - 100,000       80903.0  \n",
       "5          2011-2020   50,001 - 100,000       57954.0  \n",
       "6          2011-2020   50,001 - 100,000       79212.0  \n",
       "7          2011-2020  100,001 - 150,000      109473.0  \n",
       "8          2011-2020  100,001 - 150,000      104174.0  \n",
       "9          2001-2010  100,001 - 150,000      147191.0  "
      ]
     },
     "execution_count": 78,
     "metadata": {},
     "output_type": "execute_result"
    }
   ],
   "source": [
    "def fill_odometer(row):\n",
    "    model_year_grouped = row['model_year_grouped']\n",
    "    odometer = row['odometer']\n",
    "    \n",
    "    if (pd.isna(odometer) == True) & (model_year_grouped == '1980 or less'):\n",
    "        return data_pivot_median.loc['1980 or less','odometer']\n",
    "    elif (pd.isna(odometer) == True) & (model_year_grouped == '1981-1990'):\n",
    "        return data_pivot_median.loc['1981-1990','odometer']\n",
    "    elif (pd.isna(odometer) == True) & (model_year_grouped == '1991-2000'):\n",
    "        return data_pivot_median.loc['1991-2000','odometer']\n",
    "    elif (pd.isna(odometer) == True) & (model_year_grouped == '2001-2010'):\n",
    "        return data_pivot_median.loc['2001-2010','odometer']\n",
    "    elif (pd.isna(odometer) == True) & (model_year_grouped == '2011-2020'):\n",
    "        return data_pivot_median.loc['2011-2020','odometer']\n",
    "    else:\n",
    "        return odometer\n",
    "    \n",
    "data['odometer_new'] = data.apply(fill_odometer, axis=1)\n",
    "data.head(10)"
   ]
  },
  {
   "cell_type": "markdown",
   "metadata": {},
   "source": [
    "Ya rellenamos los valores ausentes de odometer en una nueva variable llamada odometer_new.\n",
    "Ahora vamos a rellenar los valores ausentes de model_year."
   ]
  },
  {
   "cell_type": "code",
   "execution_count": 79,
   "metadata": {},
   "outputs": [
    {
     "data": {
      "text/html": [
       "<div>\n",
       "<style scoped>\n",
       "    .dataframe tbody tr th:only-of-type {\n",
       "        vertical-align: middle;\n",
       "    }\n",
       "\n",
       "    .dataframe tbody tr th {\n",
       "        vertical-align: top;\n",
       "    }\n",
       "\n",
       "    .dataframe thead th {\n",
       "        text-align: right;\n",
       "    }\n",
       "</style>\n",
       "<table border=\"1\" class=\"dataframe\">\n",
       "  <thead>\n",
       "    <tr style=\"text-align: right;\">\n",
       "      <th></th>\n",
       "      <th>model_year</th>\n",
       "    </tr>\n",
       "    <tr>\n",
       "      <th>odometer_grouped</th>\n",
       "      <th></th>\n",
       "    </tr>\n",
       "  </thead>\n",
       "  <tbody>\n",
       "    <tr>\n",
       "      <th>100,001 - 150,000</th>\n",
       "      <td>2009.154217</td>\n",
       "    </tr>\n",
       "    <tr>\n",
       "      <th>150,001 - 200,000</th>\n",
       "      <td>2006.646250</td>\n",
       "    </tr>\n",
       "    <tr>\n",
       "      <th>200,001 - 250,000</th>\n",
       "      <td>2004.529614</td>\n",
       "    </tr>\n",
       "    <tr>\n",
       "      <th>250,000 or more</th>\n",
       "      <td>2002.960703</td>\n",
       "    </tr>\n",
       "    <tr>\n",
       "      <th>50,000 or less</th>\n",
       "      <td>2014.334834</td>\n",
       "    </tr>\n",
       "    <tr>\n",
       "      <th>50,001 - 100,000</th>\n",
       "      <td>2011.662046</td>\n",
       "    </tr>\n",
       "  </tbody>\n",
       "</table>\n",
       "</div>"
      ],
      "text/plain": [
       "                    model_year\n",
       "odometer_grouped              \n",
       "100,001 - 150,000  2009.154217\n",
       "150,001 - 200,000  2006.646250\n",
       "200,001 - 250,000  2004.529614\n",
       "250,000 or more    2002.960703\n",
       "50,000 or less     2014.334834\n",
       "50,001 - 100,000   2011.662046"
      ]
     },
     "execution_count": 79,
     "metadata": {},
     "output_type": "execute_result"
    }
   ],
   "source": [
    "data_pivot_model_year_mean = data.pivot_table(index='odometer_grouped', values='model_year')\n",
    "data_pivot_model_year_mean"
   ]
  },
  {
   "cell_type": "code",
   "execution_count": 80,
   "metadata": {},
   "outputs": [
    {
     "data": {
      "text/html": [
       "<div>\n",
       "<style scoped>\n",
       "    .dataframe tbody tr th:only-of-type {\n",
       "        vertical-align: middle;\n",
       "    }\n",
       "\n",
       "    .dataframe tbody tr th {\n",
       "        vertical-align: top;\n",
       "    }\n",
       "\n",
       "    .dataframe thead th {\n",
       "        text-align: right;\n",
       "    }\n",
       "</style>\n",
       "<table border=\"1\" class=\"dataframe\">\n",
       "  <thead>\n",
       "    <tr style=\"text-align: right;\">\n",
       "      <th></th>\n",
       "      <th>model_year</th>\n",
       "    </tr>\n",
       "    <tr>\n",
       "      <th>odometer_grouped</th>\n",
       "      <th></th>\n",
       "    </tr>\n",
       "  </thead>\n",
       "  <tbody>\n",
       "    <tr>\n",
       "      <th>100,001 - 150,000</th>\n",
       "      <td>2010.0</td>\n",
       "    </tr>\n",
       "    <tr>\n",
       "      <th>150,001 - 200,000</th>\n",
       "      <td>2007.0</td>\n",
       "    </tr>\n",
       "    <tr>\n",
       "      <th>200,001 - 250,000</th>\n",
       "      <td>2005.0</td>\n",
       "    </tr>\n",
       "    <tr>\n",
       "      <th>250,000 or more</th>\n",
       "      <td>2003.0</td>\n",
       "    </tr>\n",
       "    <tr>\n",
       "      <th>50,000 or less</th>\n",
       "      <td>2016.0</td>\n",
       "    </tr>\n",
       "    <tr>\n",
       "      <th>50,001 - 100,000</th>\n",
       "      <td>2013.0</td>\n",
       "    </tr>\n",
       "  </tbody>\n",
       "</table>\n",
       "</div>"
      ],
      "text/plain": [
       "                   model_year\n",
       "odometer_grouped             \n",
       "100,001 - 150,000      2010.0\n",
       "150,001 - 200,000      2007.0\n",
       "200,001 - 250,000      2005.0\n",
       "250,000 or more        2003.0\n",
       "50,000 or less         2016.0\n",
       "50,001 - 100,000       2013.0"
      ]
     },
     "execution_count": 80,
     "metadata": {},
     "output_type": "execute_result"
    }
   ],
   "source": [
    "data_pivot_model_year_median = data.pivot_table(index='odometer_grouped', values='model_year', aggfunc='median')\n",
    "data_pivot_model_year_median"
   ]
  },
  {
   "cell_type": "markdown",
   "metadata": {},
   "source": [
    "Ahora vamos a rellenar los valores ausentes de model_year con los valores medianos."
   ]
  },
  {
   "cell_type": "code",
   "execution_count": 81,
   "metadata": {},
   "outputs": [
    {
     "data": {
      "text/html": [
       "<div>\n",
       "<style scoped>\n",
       "    .dataframe tbody tr th:only-of-type {\n",
       "        vertical-align: middle;\n",
       "    }\n",
       "\n",
       "    .dataframe tbody tr th {\n",
       "        vertical-align: top;\n",
       "    }\n",
       "\n",
       "    .dataframe thead th {\n",
       "        text-align: right;\n",
       "    }\n",
       "</style>\n",
       "<table border=\"1\" class=\"dataframe\">\n",
       "  <thead>\n",
       "    <tr style=\"text-align: right;\">\n",
       "      <th></th>\n",
       "      <th>price</th>\n",
       "      <th>model_year</th>\n",
       "      <th>model</th>\n",
       "      <th>condition</th>\n",
       "      <th>cylinders</th>\n",
       "      <th>fuel</th>\n",
       "      <th>odometer</th>\n",
       "      <th>transmission</th>\n",
       "      <th>type</th>\n",
       "      <th>paint_color</th>\n",
       "      <th>is_4wd</th>\n",
       "      <th>date_posted</th>\n",
       "      <th>days_listed</th>\n",
       "      <th>model_year_grouped</th>\n",
       "      <th>odometer_grouped</th>\n",
       "      <th>odometer_new</th>\n",
       "      <th>model_year_new</th>\n",
       "    </tr>\n",
       "  </thead>\n",
       "  <tbody>\n",
       "    <tr>\n",
       "      <th>0</th>\n",
       "      <td>9400</td>\n",
       "      <td>2011.0</td>\n",
       "      <td>bmw x5</td>\n",
       "      <td>good</td>\n",
       "      <td>6.0</td>\n",
       "      <td>gas</td>\n",
       "      <td>145000.0</td>\n",
       "      <td>automatic</td>\n",
       "      <td>SUV</td>\n",
       "      <td>NaN</td>\n",
       "      <td>1</td>\n",
       "      <td>2018-06-23</td>\n",
       "      <td>19</td>\n",
       "      <td>2011-2020</td>\n",
       "      <td>100,001 - 150,000</td>\n",
       "      <td>145000.0</td>\n",
       "      <td>2011.0</td>\n",
       "    </tr>\n",
       "    <tr>\n",
       "      <th>1</th>\n",
       "      <td>25500</td>\n",
       "      <td>NaN</td>\n",
       "      <td>ford f-150</td>\n",
       "      <td>good</td>\n",
       "      <td>6.0</td>\n",
       "      <td>gas</td>\n",
       "      <td>88705.0</td>\n",
       "      <td>automatic</td>\n",
       "      <td>pickup</td>\n",
       "      <td>white</td>\n",
       "      <td>1</td>\n",
       "      <td>2018-10-19</td>\n",
       "      <td>50</td>\n",
       "      <td>None</td>\n",
       "      <td>50,001 - 100,000</td>\n",
       "      <td>88705.0</td>\n",
       "      <td>2013.0</td>\n",
       "    </tr>\n",
       "    <tr>\n",
       "      <th>2</th>\n",
       "      <td>5500</td>\n",
       "      <td>2013.0</td>\n",
       "      <td>hyundai sonata</td>\n",
       "      <td>like new</td>\n",
       "      <td>4.0</td>\n",
       "      <td>gas</td>\n",
       "      <td>110000.0</td>\n",
       "      <td>automatic</td>\n",
       "      <td>sedan</td>\n",
       "      <td>red</td>\n",
       "      <td>0</td>\n",
       "      <td>2019-02-07</td>\n",
       "      <td>79</td>\n",
       "      <td>2011-2020</td>\n",
       "      <td>100,001 - 150,000</td>\n",
       "      <td>110000.0</td>\n",
       "      <td>2013.0</td>\n",
       "    </tr>\n",
       "    <tr>\n",
       "      <th>3</th>\n",
       "      <td>1500</td>\n",
       "      <td>2003.0</td>\n",
       "      <td>ford f-150</td>\n",
       "      <td>fair</td>\n",
       "      <td>8.0</td>\n",
       "      <td>gas</td>\n",
       "      <td>NaN</td>\n",
       "      <td>automatic</td>\n",
       "      <td>pickup</td>\n",
       "      <td>NaN</td>\n",
       "      <td>0</td>\n",
       "      <td>2019-03-22</td>\n",
       "      <td>9</td>\n",
       "      <td>2001-2010</td>\n",
       "      <td>None</td>\n",
       "      <td>145000.0</td>\n",
       "      <td>2003.0</td>\n",
       "    </tr>\n",
       "    <tr>\n",
       "      <th>4</th>\n",
       "      <td>14900</td>\n",
       "      <td>2017.0</td>\n",
       "      <td>chrysler 200</td>\n",
       "      <td>excellent</td>\n",
       "      <td>4.0</td>\n",
       "      <td>gas</td>\n",
       "      <td>80903.0</td>\n",
       "      <td>automatic</td>\n",
       "      <td>sedan</td>\n",
       "      <td>black</td>\n",
       "      <td>0</td>\n",
       "      <td>2019-04-02</td>\n",
       "      <td>28</td>\n",
       "      <td>2011-2020</td>\n",
       "      <td>50,001 - 100,000</td>\n",
       "      <td>80903.0</td>\n",
       "      <td>2017.0</td>\n",
       "    </tr>\n",
       "  </tbody>\n",
       "</table>\n",
       "</div>"
      ],
      "text/plain": [
       "   price  model_year           model  condition  cylinders fuel  odometer  \\\n",
       "0   9400      2011.0          bmw x5       good        6.0  gas  145000.0   \n",
       "1  25500         NaN      ford f-150       good        6.0  gas   88705.0   \n",
       "2   5500      2013.0  hyundai sonata   like new        4.0  gas  110000.0   \n",
       "3   1500      2003.0      ford f-150       fair        8.0  gas       NaN   \n",
       "4  14900      2017.0    chrysler 200  excellent        4.0  gas   80903.0   \n",
       "\n",
       "  transmission    type paint_color  is_4wd date_posted  days_listed  \\\n",
       "0    automatic     SUV         NaN       1  2018-06-23           19   \n",
       "1    automatic  pickup       white       1  2018-10-19           50   \n",
       "2    automatic   sedan         red       0  2019-02-07           79   \n",
       "3    automatic  pickup         NaN       0  2019-03-22            9   \n",
       "4    automatic   sedan       black       0  2019-04-02           28   \n",
       "\n",
       "  model_year_grouped   odometer_grouped  odometer_new  model_year_new  \n",
       "0          2011-2020  100,001 - 150,000      145000.0          2011.0  \n",
       "1               None   50,001 - 100,000       88705.0          2013.0  \n",
       "2          2011-2020  100,001 - 150,000      110000.0          2013.0  \n",
       "3          2001-2010               None      145000.0          2003.0  \n",
       "4          2011-2020   50,001 - 100,000       80903.0          2017.0  "
      ]
     },
     "execution_count": 81,
     "metadata": {},
     "output_type": "execute_result"
    }
   ],
   "source": [
    "def fill_model_year(row):\n",
    "    odometer_grouped = row['odometer_grouped']\n",
    "    model_year = row['model_year']\n",
    "    \n",
    "    if (pd.isna(model_year) == True) & (odometer_grouped == '100,001 - 150,000'):\n",
    "        return data_pivot_model_year_median.loc['100,001 - 150,000','model_year']\n",
    "    elif (pd.isna(model_year) == True) & (odometer_grouped == '150,001 - 200,000'):\n",
    "        return data_pivot_model_year_median.loc['150,001 - 200,000','model_year']\n",
    "    elif (pd.isna(model_year) == True) & (odometer_grouped == '200,001 - 250,000'):\n",
    "        return data_pivot_model_year_median.loc['200,001 - 250,000','model_year']\n",
    "    elif (pd.isna(model_year) == True) & (odometer_grouped == '250,000 or more'):\n",
    "        return data_pivot_model_year_median.loc['250,000 or more','model_year']\n",
    "    elif (pd.isna(model_year) == True) & (odometer_grouped == '50,000 or less'):\n",
    "        return data_pivot_model_year_median.loc['50,000 or less','model_year']\n",
    "    elif (pd.isna(model_year) == True) & (odometer_grouped == '50,001 - 100,000'):\n",
    "        return data_pivot_model_year_median.loc['50,001 - 100,000','model_year']\n",
    "    else:\n",
    "        return model_year\n",
    "    \n",
    "data['model_year_new'] = data.apply(fill_model_year, axis=1)\n",
    "data.head()"
   ]
  },
  {
   "cell_type": "code",
   "execution_count": 82,
   "metadata": {},
   "outputs": [
    {
     "name": "stdout",
     "output_type": "stream",
     "text": [
      "<class 'pandas.core.frame.DataFrame'>\n",
      "RangeIndex: 51525 entries, 0 to 51524\n",
      "Data columns (total 17 columns):\n",
      " #   Column              Non-Null Count  Dtype         \n",
      "---  ------              --------------  -----         \n",
      " 0   price               51525 non-null  int64         \n",
      " 1   model_year          47906 non-null  float64       \n",
      " 2   model               51525 non-null  object        \n",
      " 3   condition           51525 non-null  object        \n",
      " 4   cylinders           46265 non-null  float64       \n",
      " 5   fuel                51525 non-null  object        \n",
      " 6   odometer            43633 non-null  float64       \n",
      " 7   transmission        51525 non-null  object        \n",
      " 8   type                51525 non-null  object        \n",
      " 9   paint_color         42258 non-null  object        \n",
      " 10  is_4wd              51525 non-null  int64         \n",
      " 11  date_posted         51525 non-null  datetime64[ns]\n",
      " 12  days_listed         51525 non-null  int64         \n",
      " 13  model_year_grouped  47906 non-null  object        \n",
      " 14  odometer_grouped    43633 non-null  object        \n",
      " 15  odometer_new        50976 non-null  float64       \n",
      " 16  model_year_new      50976 non-null  float64       \n",
      "dtypes: datetime64[ns](1), float64(5), int64(3), object(8)\n",
      "memory usage: 6.7+ MB\n"
     ]
    }
   ],
   "source": [
    "data.info()"
   ]
  },
  {
   "cell_type": "markdown",
   "metadata": {},
   "source": [
    "Confirmamos que hayan quedado los valores. Ahora vamos a ver los valores nulos de la columna cylinders y ver si se relaciona con alguna columna para tratar de sustituirlo con ellos."
   ]
  },
  {
   "cell_type": "code",
   "execution_count": 83,
   "metadata": {},
   "outputs": [
    {
     "data": {
      "text/html": [
       "<div>\n",
       "<style scoped>\n",
       "    .dataframe tbody tr th:only-of-type {\n",
       "        vertical-align: middle;\n",
       "    }\n",
       "\n",
       "    .dataframe tbody tr th {\n",
       "        vertical-align: top;\n",
       "    }\n",
       "\n",
       "    .dataframe thead th {\n",
       "        text-align: right;\n",
       "    }\n",
       "</style>\n",
       "<table border=\"1\" class=\"dataframe\">\n",
       "  <thead>\n",
       "    <tr style=\"text-align: right;\">\n",
       "      <th></th>\n",
       "      <th>price</th>\n",
       "      <th>model_year</th>\n",
       "      <th>cylinders</th>\n",
       "      <th>odometer</th>\n",
       "      <th>is_4wd</th>\n",
       "      <th>days_listed</th>\n",
       "      <th>odometer_new</th>\n",
       "      <th>model_year_new</th>\n",
       "    </tr>\n",
       "  </thead>\n",
       "  <tbody>\n",
       "    <tr>\n",
       "      <th>price</th>\n",
       "      <td>1.000000</td>\n",
       "      <td>0.428656</td>\n",
       "      <td>0.296627</td>\n",
       "      <td>-0.420299</td>\n",
       "      <td>0.315145</td>\n",
       "      <td>-0.000682</td>\n",
       "      <td>-0.414244</td>\n",
       "      <td>0.426636</td>\n",
       "    </tr>\n",
       "    <tr>\n",
       "      <th>model_year</th>\n",
       "      <td>0.428656</td>\n",
       "      <td>1.000000</td>\n",
       "      <td>-0.148040</td>\n",
       "      <td>-0.473948</td>\n",
       "      <td>0.043384</td>\n",
       "      <td>-0.005703</td>\n",
       "      <td>-0.484665</td>\n",
       "      <td>1.000000</td>\n",
       "    </tr>\n",
       "    <tr>\n",
       "      <th>cylinders</th>\n",
       "      <td>0.296627</td>\n",
       "      <td>-0.148040</td>\n",
       "      <td>1.000000</td>\n",
       "      <td>0.090160</td>\n",
       "      <td>0.405770</td>\n",
       "      <td>0.005517</td>\n",
       "      <td>0.090699</td>\n",
       "      <td>-0.145259</td>\n",
       "    </tr>\n",
       "    <tr>\n",
       "      <th>odometer</th>\n",
       "      <td>-0.420299</td>\n",
       "      <td>-0.473948</td>\n",
       "      <td>0.090160</td>\n",
       "      <td>1.000000</td>\n",
       "      <td>0.036267</td>\n",
       "      <td>0.003804</td>\n",
       "      <td>1.000000</td>\n",
       "      <td>-0.489344</td>\n",
       "    </tr>\n",
       "    <tr>\n",
       "      <th>is_4wd</th>\n",
       "      <td>0.315145</td>\n",
       "      <td>0.043384</td>\n",
       "      <td>0.405770</td>\n",
       "      <td>0.036267</td>\n",
       "      <td>1.000000</td>\n",
       "      <td>0.002003</td>\n",
       "      <td>0.032745</td>\n",
       "      <td>0.039740</td>\n",
       "    </tr>\n",
       "    <tr>\n",
       "      <th>days_listed</th>\n",
       "      <td>-0.000682</td>\n",
       "      <td>-0.005703</td>\n",
       "      <td>0.005517</td>\n",
       "      <td>0.003804</td>\n",
       "      <td>0.002003</td>\n",
       "      <td>1.000000</td>\n",
       "      <td>0.003568</td>\n",
       "      <td>-0.005467</td>\n",
       "    </tr>\n",
       "    <tr>\n",
       "      <th>odometer_new</th>\n",
       "      <td>-0.414244</td>\n",
       "      <td>-0.484665</td>\n",
       "      <td>0.090699</td>\n",
       "      <td>1.000000</td>\n",
       "      <td>0.032745</td>\n",
       "      <td>0.003568</td>\n",
       "      <td>1.000000</td>\n",
       "      <td>-0.497437</td>\n",
       "    </tr>\n",
       "    <tr>\n",
       "      <th>model_year_new</th>\n",
       "      <td>0.426636</td>\n",
       "      <td>1.000000</td>\n",
       "      <td>-0.145259</td>\n",
       "      <td>-0.489344</td>\n",
       "      <td>0.039740</td>\n",
       "      <td>-0.005467</td>\n",
       "      <td>-0.497437</td>\n",
       "      <td>1.000000</td>\n",
       "    </tr>\n",
       "  </tbody>\n",
       "</table>\n",
       "</div>"
      ],
      "text/plain": [
       "                   price  model_year  cylinders  odometer    is_4wd  \\\n",
       "price           1.000000    0.428656   0.296627 -0.420299  0.315145   \n",
       "model_year      0.428656    1.000000  -0.148040 -0.473948  0.043384   \n",
       "cylinders       0.296627   -0.148040   1.000000  0.090160  0.405770   \n",
       "odometer       -0.420299   -0.473948   0.090160  1.000000  0.036267   \n",
       "is_4wd          0.315145    0.043384   0.405770  0.036267  1.000000   \n",
       "days_listed    -0.000682   -0.005703   0.005517  0.003804  0.002003   \n",
       "odometer_new   -0.414244   -0.484665   0.090699  1.000000  0.032745   \n",
       "model_year_new  0.426636    1.000000  -0.145259 -0.489344  0.039740   \n",
       "\n",
       "                days_listed  odometer_new  model_year_new  \n",
       "price             -0.000682     -0.414244        0.426636  \n",
       "model_year        -0.005703     -0.484665        1.000000  \n",
       "cylinders          0.005517      0.090699       -0.145259  \n",
       "odometer           0.003804      1.000000       -0.489344  \n",
       "is_4wd             0.002003      0.032745        0.039740  \n",
       "days_listed        1.000000      0.003568       -0.005467  \n",
       "odometer_new       0.003568      1.000000       -0.497437  \n",
       "model_year_new    -0.005467     -0.497437        1.000000  "
      ]
     },
     "execution_count": 83,
     "metadata": {},
     "output_type": "execute_result"
    }
   ],
   "source": [
    "data.corr()"
   ]
  },
  {
   "cell_type": "markdown",
   "metadata": {},
   "source": [
    "La columna de cylinders no se relaciona mucho con las otras variables más que con is_4wd pero aún así no lo suficiente, por lo que dejaremos esta variable así y vemos si podemos eliminar esas filas ya que solo representa el 8% de las filas."
   ]
  },
  {
   "cell_type": "code",
   "execution_count": 84,
   "metadata": {},
   "outputs": [
    {
     "name": "stdout",
     "output_type": "stream",
     "text": [
      "<class 'pandas.core.frame.DataFrame'>\n",
      "Int64Index: 45775 entries, 0 to 51524\n",
      "Data columns (total 17 columns):\n",
      " #   Column              Non-Null Count  Dtype         \n",
      "---  ------              --------------  -----         \n",
      " 0   price               45775 non-null  int64         \n",
      " 1   model_year          43009 non-null  float64       \n",
      " 2   model               45775 non-null  object        \n",
      " 3   condition           45775 non-null  object        \n",
      " 4   cylinders           45775 non-null  float64       \n",
      " 5   fuel                45775 non-null  object        \n",
      " 6   odometer            39185 non-null  float64       \n",
      " 7   transmission        45775 non-null  object        \n",
      " 8   type                45775 non-null  object        \n",
      " 9   paint_color         37546 non-null  object        \n",
      " 10  is_4wd              45775 non-null  int64         \n",
      " 11  date_posted         45775 non-null  datetime64[ns]\n",
      " 12  days_listed         45775 non-null  int64         \n",
      " 13  model_year_grouped  43009 non-null  object        \n",
      " 14  odometer_grouped    39185 non-null  object        \n",
      " 15  odometer_new        45775 non-null  float64       \n",
      " 16  model_year_new      45775 non-null  float64       \n",
      "dtypes: datetime64[ns](1), float64(5), int64(3), object(8)\n",
      "memory usage: 6.3+ MB\n"
     ]
    }
   ],
   "source": [
    "data.dropna(subset=['odometer_new', 'model_year_new','cylinders' ],inplace=True)\n",
    "data.info()"
   ]
  },
  {
   "cell_type": "markdown",
   "metadata": {},
   "source": [
    "Los valores nulos de paint_color no los podemos reemplazar por lo que los dejaremos así."
   ]
  },
  {
   "cell_type": "markdown",
   "metadata": {},
   "source": [
    "## Corregir los tipos de datos"
   ]
  },
  {
   "cell_type": "markdown",
   "metadata": {},
   "source": [
    "Ahora vamos a pasar los tipos de datos float de las nuevas columnas a int."
   ]
  },
  {
   "cell_type": "code",
   "execution_count": 85,
   "metadata": {},
   "outputs": [
    {
     "data": {
      "text/html": [
       "<div>\n",
       "<style scoped>\n",
       "    .dataframe tbody tr th:only-of-type {\n",
       "        vertical-align: middle;\n",
       "    }\n",
       "\n",
       "    .dataframe tbody tr th {\n",
       "        vertical-align: top;\n",
       "    }\n",
       "\n",
       "    .dataframe thead th {\n",
       "        text-align: right;\n",
       "    }\n",
       "</style>\n",
       "<table border=\"1\" class=\"dataframe\">\n",
       "  <thead>\n",
       "    <tr style=\"text-align: right;\">\n",
       "      <th></th>\n",
       "      <th>price</th>\n",
       "      <th>model_year</th>\n",
       "      <th>model</th>\n",
       "      <th>condition</th>\n",
       "      <th>cylinders</th>\n",
       "      <th>fuel</th>\n",
       "      <th>odometer</th>\n",
       "      <th>transmission</th>\n",
       "      <th>type</th>\n",
       "      <th>paint_color</th>\n",
       "      <th>is_4wd</th>\n",
       "      <th>date_posted</th>\n",
       "      <th>days_listed</th>\n",
       "      <th>model_year_grouped</th>\n",
       "      <th>odometer_grouped</th>\n",
       "      <th>odometer_new</th>\n",
       "      <th>model_year_new</th>\n",
       "    </tr>\n",
       "  </thead>\n",
       "  <tbody>\n",
       "    <tr>\n",
       "      <th>0</th>\n",
       "      <td>9400</td>\n",
       "      <td>2011.0</td>\n",
       "      <td>bmw x5</td>\n",
       "      <td>good</td>\n",
       "      <td>6.0</td>\n",
       "      <td>gas</td>\n",
       "      <td>145000.0</td>\n",
       "      <td>automatic</td>\n",
       "      <td>SUV</td>\n",
       "      <td>NaN</td>\n",
       "      <td>1</td>\n",
       "      <td>2018-06-23</td>\n",
       "      <td>19</td>\n",
       "      <td>2011-2020</td>\n",
       "      <td>100,001 - 150,000</td>\n",
       "      <td>145000</td>\n",
       "      <td>2011</td>\n",
       "    </tr>\n",
       "    <tr>\n",
       "      <th>1</th>\n",
       "      <td>25500</td>\n",
       "      <td>NaN</td>\n",
       "      <td>ford f-150</td>\n",
       "      <td>good</td>\n",
       "      <td>6.0</td>\n",
       "      <td>gas</td>\n",
       "      <td>88705.0</td>\n",
       "      <td>automatic</td>\n",
       "      <td>pickup</td>\n",
       "      <td>white</td>\n",
       "      <td>1</td>\n",
       "      <td>2018-10-19</td>\n",
       "      <td>50</td>\n",
       "      <td>None</td>\n",
       "      <td>50,001 - 100,000</td>\n",
       "      <td>88705</td>\n",
       "      <td>2013</td>\n",
       "    </tr>\n",
       "    <tr>\n",
       "      <th>2</th>\n",
       "      <td>5500</td>\n",
       "      <td>2013.0</td>\n",
       "      <td>hyundai sonata</td>\n",
       "      <td>like new</td>\n",
       "      <td>4.0</td>\n",
       "      <td>gas</td>\n",
       "      <td>110000.0</td>\n",
       "      <td>automatic</td>\n",
       "      <td>sedan</td>\n",
       "      <td>red</td>\n",
       "      <td>0</td>\n",
       "      <td>2019-02-07</td>\n",
       "      <td>79</td>\n",
       "      <td>2011-2020</td>\n",
       "      <td>100,001 - 150,000</td>\n",
       "      <td>110000</td>\n",
       "      <td>2013</td>\n",
       "    </tr>\n",
       "    <tr>\n",
       "      <th>3</th>\n",
       "      <td>1500</td>\n",
       "      <td>2003.0</td>\n",
       "      <td>ford f-150</td>\n",
       "      <td>fair</td>\n",
       "      <td>8.0</td>\n",
       "      <td>gas</td>\n",
       "      <td>NaN</td>\n",
       "      <td>automatic</td>\n",
       "      <td>pickup</td>\n",
       "      <td>NaN</td>\n",
       "      <td>0</td>\n",
       "      <td>2019-03-22</td>\n",
       "      <td>9</td>\n",
       "      <td>2001-2010</td>\n",
       "      <td>None</td>\n",
       "      <td>145000</td>\n",
       "      <td>2003</td>\n",
       "    </tr>\n",
       "    <tr>\n",
       "      <th>4</th>\n",
       "      <td>14900</td>\n",
       "      <td>2017.0</td>\n",
       "      <td>chrysler 200</td>\n",
       "      <td>excellent</td>\n",
       "      <td>4.0</td>\n",
       "      <td>gas</td>\n",
       "      <td>80903.0</td>\n",
       "      <td>automatic</td>\n",
       "      <td>sedan</td>\n",
       "      <td>black</td>\n",
       "      <td>0</td>\n",
       "      <td>2019-04-02</td>\n",
       "      <td>28</td>\n",
       "      <td>2011-2020</td>\n",
       "      <td>50,001 - 100,000</td>\n",
       "      <td>80903</td>\n",
       "      <td>2017</td>\n",
       "    </tr>\n",
       "  </tbody>\n",
       "</table>\n",
       "</div>"
      ],
      "text/plain": [
       "   price  model_year           model  condition  cylinders fuel  odometer  \\\n",
       "0   9400      2011.0          bmw x5       good        6.0  gas  145000.0   \n",
       "1  25500         NaN      ford f-150       good        6.0  gas   88705.0   \n",
       "2   5500      2013.0  hyundai sonata   like new        4.0  gas  110000.0   \n",
       "3   1500      2003.0      ford f-150       fair        8.0  gas       NaN   \n",
       "4  14900      2017.0    chrysler 200  excellent        4.0  gas   80903.0   \n",
       "\n",
       "  transmission    type paint_color  is_4wd date_posted  days_listed  \\\n",
       "0    automatic     SUV         NaN       1  2018-06-23           19   \n",
       "1    automatic  pickup       white       1  2018-10-19           50   \n",
       "2    automatic   sedan         red       0  2019-02-07           79   \n",
       "3    automatic  pickup         NaN       0  2019-03-22            9   \n",
       "4    automatic   sedan       black       0  2019-04-02           28   \n",
       "\n",
       "  model_year_grouped   odometer_grouped  odometer_new  model_year_new  \n",
       "0          2011-2020  100,001 - 150,000        145000            2011  \n",
       "1               None   50,001 - 100,000         88705            2013  \n",
       "2          2011-2020  100,001 - 150,000        110000            2013  \n",
       "3          2001-2010               None        145000            2003  \n",
       "4          2011-2020   50,001 - 100,000         80903            2017  "
      ]
     },
     "execution_count": 85,
     "metadata": {},
     "output_type": "execute_result"
    }
   ],
   "source": [
    "data['odometer_new']=data['odometer_new'].astype(int)\n",
    "data['model_year_new']=data['model_year_new'].astype(int)\n",
    "data.head()"
   ]
  },
  {
   "cell_type": "markdown",
   "metadata": {},
   "source": [
    "Revisamos si hay duplicados idénticos."
   ]
  },
  {
   "cell_type": "code",
   "execution_count": 86,
   "metadata": {},
   "outputs": [
    {
     "data": {
      "text/plain": [
       "0"
      ]
     },
     "execution_count": 86,
     "metadata": {},
     "output_type": "execute_result"
    }
   ],
   "source": [
    "data.duplicated().sum()"
   ]
  },
  {
   "cell_type": "markdown",
   "metadata": {},
   "source": [
    "No se encontraron duplicados idénticos."
   ]
  },
  {
   "cell_type": "markdown",
   "metadata": {},
   "source": [
    "Vamos a revisar si hay duplicados no implicitos."
   ]
  },
  {
   "cell_type": "code",
   "execution_count": 87,
   "metadata": {},
   "outputs": [
    {
     "data": {
      "text/plain": [
       "array(['gas', 'diesel', 'hybrid', 'other', 'electric'], dtype=object)"
      ]
     },
     "execution_count": 87,
     "metadata": {},
     "output_type": "execute_result"
    }
   ],
   "source": [
    "data['fuel'].unique()"
   ]
  },
  {
   "cell_type": "code",
   "execution_count": 88,
   "metadata": {},
   "outputs": [
    {
     "data": {
      "text/plain": [
       "array(['automatic', 'manual', 'other'], dtype=object)"
      ]
     },
     "execution_count": 88,
     "metadata": {},
     "output_type": "execute_result"
    }
   ],
   "source": [
    "data['transmission'].unique()"
   ]
  },
  {
   "cell_type": "code",
   "execution_count": 89,
   "metadata": {},
   "outputs": [
    {
     "data": {
      "text/plain": [
       "array(['SUV', 'pickup', 'sedan', 'truck', 'coupe', 'van', 'hatchback',\n",
       "       'wagon', 'mini-van', 'convertible', 'other', 'bus', 'offroad'],\n",
       "      dtype=object)"
      ]
     },
     "execution_count": 89,
     "metadata": {},
     "output_type": "execute_result"
    }
   ],
   "source": [
    "data['type'].unique()"
   ]
  },
  {
   "cell_type": "code",
   "execution_count": 90,
   "metadata": {},
   "outputs": [
    {
     "data": {
      "text/plain": [
       "array(['good', 'like new', 'fair', 'excellent', 'salvage', 'new'],\n",
       "      dtype=object)"
      ]
     },
     "execution_count": 90,
     "metadata": {},
     "output_type": "execute_result"
    }
   ],
   "source": [
    "data['condition'].unique()"
   ]
  },
  {
   "cell_type": "markdown",
   "metadata": {},
   "source": [
    "Estas columnas se ven bien, sin duplicados no implicitos."
   ]
  },
  {
   "cell_type": "markdown",
   "metadata": {},
   "source": [
    "## Enriquecer datos"
   ]
  },
  {
   "cell_type": "markdown",
   "metadata": {},
   "source": [
    "Vamos a agregar columnas con la fecha en la que se publicó el anuncio."
   ]
  },
  {
   "cell_type": "code",
   "execution_count": 91,
   "metadata": {},
   "outputs": [
    {
     "data": {
      "text/html": [
       "<div>\n",
       "<style scoped>\n",
       "    .dataframe tbody tr th:only-of-type {\n",
       "        vertical-align: middle;\n",
       "    }\n",
       "\n",
       "    .dataframe tbody tr th {\n",
       "        vertical-align: top;\n",
       "    }\n",
       "\n",
       "    .dataframe thead th {\n",
       "        text-align: right;\n",
       "    }\n",
       "</style>\n",
       "<table border=\"1\" class=\"dataframe\">\n",
       "  <thead>\n",
       "    <tr style=\"text-align: right;\">\n",
       "      <th></th>\n",
       "      <th>price</th>\n",
       "      <th>model_year</th>\n",
       "      <th>model</th>\n",
       "      <th>condition</th>\n",
       "      <th>cylinders</th>\n",
       "      <th>fuel</th>\n",
       "      <th>odometer</th>\n",
       "      <th>transmission</th>\n",
       "      <th>type</th>\n",
       "      <th>paint_color</th>\n",
       "      <th>is_4wd</th>\n",
       "      <th>date_posted</th>\n",
       "      <th>days_listed</th>\n",
       "      <th>model_year_grouped</th>\n",
       "      <th>odometer_grouped</th>\n",
       "      <th>odometer_new</th>\n",
       "      <th>model_year_new</th>\n",
       "      <th>year_posted</th>\n",
       "      <th>month_posted</th>\n",
       "      <th>day_of_week_posted</th>\n",
       "    </tr>\n",
       "  </thead>\n",
       "  <tbody>\n",
       "    <tr>\n",
       "      <th>0</th>\n",
       "      <td>9400</td>\n",
       "      <td>2011.0</td>\n",
       "      <td>bmw x5</td>\n",
       "      <td>good</td>\n",
       "      <td>6.0</td>\n",
       "      <td>gas</td>\n",
       "      <td>145000.0</td>\n",
       "      <td>automatic</td>\n",
       "      <td>SUV</td>\n",
       "      <td>NaN</td>\n",
       "      <td>1</td>\n",
       "      <td>2018-06-23</td>\n",
       "      <td>19</td>\n",
       "      <td>2011-2020</td>\n",
       "      <td>100,001 - 150,000</td>\n",
       "      <td>145000</td>\n",
       "      <td>2011</td>\n",
       "      <td>2018</td>\n",
       "      <td>6</td>\n",
       "      <td>5</td>\n",
       "    </tr>\n",
       "    <tr>\n",
       "      <th>1</th>\n",
       "      <td>25500</td>\n",
       "      <td>NaN</td>\n",
       "      <td>ford f-150</td>\n",
       "      <td>good</td>\n",
       "      <td>6.0</td>\n",
       "      <td>gas</td>\n",
       "      <td>88705.0</td>\n",
       "      <td>automatic</td>\n",
       "      <td>pickup</td>\n",
       "      <td>white</td>\n",
       "      <td>1</td>\n",
       "      <td>2018-10-19</td>\n",
       "      <td>50</td>\n",
       "      <td>None</td>\n",
       "      <td>50,001 - 100,000</td>\n",
       "      <td>88705</td>\n",
       "      <td>2013</td>\n",
       "      <td>2018</td>\n",
       "      <td>10</td>\n",
       "      <td>4</td>\n",
       "    </tr>\n",
       "    <tr>\n",
       "      <th>2</th>\n",
       "      <td>5500</td>\n",
       "      <td>2013.0</td>\n",
       "      <td>hyundai sonata</td>\n",
       "      <td>like new</td>\n",
       "      <td>4.0</td>\n",
       "      <td>gas</td>\n",
       "      <td>110000.0</td>\n",
       "      <td>automatic</td>\n",
       "      <td>sedan</td>\n",
       "      <td>red</td>\n",
       "      <td>0</td>\n",
       "      <td>2019-02-07</td>\n",
       "      <td>79</td>\n",
       "      <td>2011-2020</td>\n",
       "      <td>100,001 - 150,000</td>\n",
       "      <td>110000</td>\n",
       "      <td>2013</td>\n",
       "      <td>2019</td>\n",
       "      <td>2</td>\n",
       "      <td>3</td>\n",
       "    </tr>\n",
       "    <tr>\n",
       "      <th>3</th>\n",
       "      <td>1500</td>\n",
       "      <td>2003.0</td>\n",
       "      <td>ford f-150</td>\n",
       "      <td>fair</td>\n",
       "      <td>8.0</td>\n",
       "      <td>gas</td>\n",
       "      <td>NaN</td>\n",
       "      <td>automatic</td>\n",
       "      <td>pickup</td>\n",
       "      <td>NaN</td>\n",
       "      <td>0</td>\n",
       "      <td>2019-03-22</td>\n",
       "      <td>9</td>\n",
       "      <td>2001-2010</td>\n",
       "      <td>None</td>\n",
       "      <td>145000</td>\n",
       "      <td>2003</td>\n",
       "      <td>2019</td>\n",
       "      <td>3</td>\n",
       "      <td>4</td>\n",
       "    </tr>\n",
       "    <tr>\n",
       "      <th>4</th>\n",
       "      <td>14900</td>\n",
       "      <td>2017.0</td>\n",
       "      <td>chrysler 200</td>\n",
       "      <td>excellent</td>\n",
       "      <td>4.0</td>\n",
       "      <td>gas</td>\n",
       "      <td>80903.0</td>\n",
       "      <td>automatic</td>\n",
       "      <td>sedan</td>\n",
       "      <td>black</td>\n",
       "      <td>0</td>\n",
       "      <td>2019-04-02</td>\n",
       "      <td>28</td>\n",
       "      <td>2011-2020</td>\n",
       "      <td>50,001 - 100,000</td>\n",
       "      <td>80903</td>\n",
       "      <td>2017</td>\n",
       "      <td>2019</td>\n",
       "      <td>4</td>\n",
       "      <td>1</td>\n",
       "    </tr>\n",
       "  </tbody>\n",
       "</table>\n",
       "</div>"
      ],
      "text/plain": [
       "   price  model_year           model  condition  cylinders fuel  odometer  \\\n",
       "0   9400      2011.0          bmw x5       good        6.0  gas  145000.0   \n",
       "1  25500         NaN      ford f-150       good        6.0  gas   88705.0   \n",
       "2   5500      2013.0  hyundai sonata   like new        4.0  gas  110000.0   \n",
       "3   1500      2003.0      ford f-150       fair        8.0  gas       NaN   \n",
       "4  14900      2017.0    chrysler 200  excellent        4.0  gas   80903.0   \n",
       "\n",
       "  transmission    type paint_color  is_4wd date_posted  days_listed  \\\n",
       "0    automatic     SUV         NaN       1  2018-06-23           19   \n",
       "1    automatic  pickup       white       1  2018-10-19           50   \n",
       "2    automatic   sedan         red       0  2019-02-07           79   \n",
       "3    automatic  pickup         NaN       0  2019-03-22            9   \n",
       "4    automatic   sedan       black       0  2019-04-02           28   \n",
       "\n",
       "  model_year_grouped   odometer_grouped  odometer_new  model_year_new  \\\n",
       "0          2011-2020  100,001 - 150,000        145000            2011   \n",
       "1               None   50,001 - 100,000         88705            2013   \n",
       "2          2011-2020  100,001 - 150,000        110000            2013   \n",
       "3          2001-2010               None        145000            2003   \n",
       "4          2011-2020   50,001 - 100,000         80903            2017   \n",
       "\n",
       "   year_posted  month_posted  day_of_week_posted  \n",
       "0         2018             6                   5  \n",
       "1         2018            10                   4  \n",
       "2         2019             2                   3  \n",
       "3         2019             3                   4  \n",
       "4         2019             4                   1  "
      ]
     },
     "execution_count": 91,
     "metadata": {},
     "output_type": "execute_result"
    }
   ],
   "source": [
    "data['year_posted']=pd.DatetimeIndex(data['date_posted']).year\n",
    "data['month_posted']=pd.DatetimeIndex(data['date_posted']).month\n",
    "data['day_of_week_posted']=pd.DatetimeIndex(data['date_posted']).dayofweek\n",
    "data.head()"
   ]
  },
  {
   "cell_type": "code",
   "execution_count": 92,
   "metadata": {},
   "outputs": [
    {
     "data": {
      "text/html": [
       "<div>\n",
       "<style scoped>\n",
       "    .dataframe tbody tr th:only-of-type {\n",
       "        vertical-align: middle;\n",
       "    }\n",
       "\n",
       "    .dataframe tbody tr th {\n",
       "        vertical-align: top;\n",
       "    }\n",
       "\n",
       "    .dataframe thead th {\n",
       "        text-align: right;\n",
       "    }\n",
       "</style>\n",
       "<table border=\"1\" class=\"dataframe\">\n",
       "  <thead>\n",
       "    <tr style=\"text-align: right;\">\n",
       "      <th></th>\n",
       "      <th>price</th>\n",
       "      <th>model_year</th>\n",
       "      <th>model</th>\n",
       "      <th>condition</th>\n",
       "      <th>cylinders</th>\n",
       "      <th>fuel</th>\n",
       "      <th>odometer</th>\n",
       "      <th>transmission</th>\n",
       "      <th>type</th>\n",
       "      <th>paint_color</th>\n",
       "      <th>...</th>\n",
       "      <th>date_posted</th>\n",
       "      <th>days_listed</th>\n",
       "      <th>model_year_grouped</th>\n",
       "      <th>odometer_grouped</th>\n",
       "      <th>odometer_new</th>\n",
       "      <th>model_year_new</th>\n",
       "      <th>year_posted</th>\n",
       "      <th>month_posted</th>\n",
       "      <th>day_of_week_posted</th>\n",
       "      <th>years_old</th>\n",
       "    </tr>\n",
       "  </thead>\n",
       "  <tbody>\n",
       "    <tr>\n",
       "      <th>0</th>\n",
       "      <td>9400</td>\n",
       "      <td>2011.0</td>\n",
       "      <td>bmw x5</td>\n",
       "      <td>good</td>\n",
       "      <td>6.0</td>\n",
       "      <td>gas</td>\n",
       "      <td>145000.0</td>\n",
       "      <td>automatic</td>\n",
       "      <td>SUV</td>\n",
       "      <td>NaN</td>\n",
       "      <td>...</td>\n",
       "      <td>2018-06-23</td>\n",
       "      <td>19</td>\n",
       "      <td>2011-2020</td>\n",
       "      <td>100,001 - 150,000</td>\n",
       "      <td>145000</td>\n",
       "      <td>2011</td>\n",
       "      <td>2018</td>\n",
       "      <td>6</td>\n",
       "      <td>5</td>\n",
       "      <td>7</td>\n",
       "    </tr>\n",
       "    <tr>\n",
       "      <th>1</th>\n",
       "      <td>25500</td>\n",
       "      <td>NaN</td>\n",
       "      <td>ford f-150</td>\n",
       "      <td>good</td>\n",
       "      <td>6.0</td>\n",
       "      <td>gas</td>\n",
       "      <td>88705.0</td>\n",
       "      <td>automatic</td>\n",
       "      <td>pickup</td>\n",
       "      <td>white</td>\n",
       "      <td>...</td>\n",
       "      <td>2018-10-19</td>\n",
       "      <td>50</td>\n",
       "      <td>None</td>\n",
       "      <td>50,001 - 100,000</td>\n",
       "      <td>88705</td>\n",
       "      <td>2013</td>\n",
       "      <td>2018</td>\n",
       "      <td>10</td>\n",
       "      <td>4</td>\n",
       "      <td>5</td>\n",
       "    </tr>\n",
       "    <tr>\n",
       "      <th>2</th>\n",
       "      <td>5500</td>\n",
       "      <td>2013.0</td>\n",
       "      <td>hyundai sonata</td>\n",
       "      <td>like new</td>\n",
       "      <td>4.0</td>\n",
       "      <td>gas</td>\n",
       "      <td>110000.0</td>\n",
       "      <td>automatic</td>\n",
       "      <td>sedan</td>\n",
       "      <td>red</td>\n",
       "      <td>...</td>\n",
       "      <td>2019-02-07</td>\n",
       "      <td>79</td>\n",
       "      <td>2011-2020</td>\n",
       "      <td>100,001 - 150,000</td>\n",
       "      <td>110000</td>\n",
       "      <td>2013</td>\n",
       "      <td>2019</td>\n",
       "      <td>2</td>\n",
       "      <td>3</td>\n",
       "      <td>6</td>\n",
       "    </tr>\n",
       "    <tr>\n",
       "      <th>3</th>\n",
       "      <td>1500</td>\n",
       "      <td>2003.0</td>\n",
       "      <td>ford f-150</td>\n",
       "      <td>fair</td>\n",
       "      <td>8.0</td>\n",
       "      <td>gas</td>\n",
       "      <td>NaN</td>\n",
       "      <td>automatic</td>\n",
       "      <td>pickup</td>\n",
       "      <td>NaN</td>\n",
       "      <td>...</td>\n",
       "      <td>2019-03-22</td>\n",
       "      <td>9</td>\n",
       "      <td>2001-2010</td>\n",
       "      <td>None</td>\n",
       "      <td>145000</td>\n",
       "      <td>2003</td>\n",
       "      <td>2019</td>\n",
       "      <td>3</td>\n",
       "      <td>4</td>\n",
       "      <td>16</td>\n",
       "    </tr>\n",
       "    <tr>\n",
       "      <th>4</th>\n",
       "      <td>14900</td>\n",
       "      <td>2017.0</td>\n",
       "      <td>chrysler 200</td>\n",
       "      <td>excellent</td>\n",
       "      <td>4.0</td>\n",
       "      <td>gas</td>\n",
       "      <td>80903.0</td>\n",
       "      <td>automatic</td>\n",
       "      <td>sedan</td>\n",
       "      <td>black</td>\n",
       "      <td>...</td>\n",
       "      <td>2019-04-02</td>\n",
       "      <td>28</td>\n",
       "      <td>2011-2020</td>\n",
       "      <td>50,001 - 100,000</td>\n",
       "      <td>80903</td>\n",
       "      <td>2017</td>\n",
       "      <td>2019</td>\n",
       "      <td>4</td>\n",
       "      <td>1</td>\n",
       "      <td>2</td>\n",
       "    </tr>\n",
       "  </tbody>\n",
       "</table>\n",
       "<p>5 rows × 21 columns</p>\n",
       "</div>"
      ],
      "text/plain": [
       "   price  model_year           model  condition  cylinders fuel  odometer  \\\n",
       "0   9400      2011.0          bmw x5       good        6.0  gas  145000.0   \n",
       "1  25500         NaN      ford f-150       good        6.0  gas   88705.0   \n",
       "2   5500      2013.0  hyundai sonata   like new        4.0  gas  110000.0   \n",
       "3   1500      2003.0      ford f-150       fair        8.0  gas       NaN   \n",
       "4  14900      2017.0    chrysler 200  excellent        4.0  gas   80903.0   \n",
       "\n",
       "  transmission    type paint_color  ...  date_posted days_listed  \\\n",
       "0    automatic     SUV         NaN  ...   2018-06-23          19   \n",
       "1    automatic  pickup       white  ...   2018-10-19          50   \n",
       "2    automatic   sedan         red  ...   2019-02-07          79   \n",
       "3    automatic  pickup         NaN  ...   2019-03-22           9   \n",
       "4    automatic   sedan       black  ...   2019-04-02          28   \n",
       "\n",
       "   model_year_grouped   odometer_grouped odometer_new  model_year_new  \\\n",
       "0           2011-2020  100,001 - 150,000       145000            2011   \n",
       "1                None   50,001 - 100,000        88705            2013   \n",
       "2           2011-2020  100,001 - 150,000       110000            2013   \n",
       "3           2001-2010               None       145000            2003   \n",
       "4           2011-2020   50,001 - 100,000        80903            2017   \n",
       "\n",
       "   year_posted  month_posted  day_of_week_posted  years_old  \n",
       "0         2018             6                   5          7  \n",
       "1         2018            10                   4          5  \n",
       "2         2019             2                   3          6  \n",
       "3         2019             3                   4         16  \n",
       "4         2019             4                   1          2  \n",
       "\n",
       "[5 rows x 21 columns]"
      ]
     },
     "execution_count": 92,
     "metadata": {},
     "output_type": "execute_result"
    }
   ],
   "source": [
    "data['years_old'] = data['year_posted'] - data['model_year_new']\n",
    "data.head()"
   ]
  },
  {
   "cell_type": "code",
   "execution_count": 93,
   "metadata": {},
   "outputs": [
    {
     "data": {
      "text/html": [
       "<div>\n",
       "<style scoped>\n",
       "    .dataframe tbody tr th:only-of-type {\n",
       "        vertical-align: middle;\n",
       "    }\n",
       "\n",
       "    .dataframe tbody tr th {\n",
       "        vertical-align: top;\n",
       "    }\n",
       "\n",
       "    .dataframe thead th {\n",
       "        text-align: right;\n",
       "    }\n",
       "</style>\n",
       "<table border=\"1\" class=\"dataframe\">\n",
       "  <thead>\n",
       "    <tr style=\"text-align: right;\">\n",
       "      <th></th>\n",
       "      <th>price</th>\n",
       "      <th>model_year</th>\n",
       "      <th>model</th>\n",
       "      <th>condition</th>\n",
       "      <th>cylinders</th>\n",
       "      <th>fuel</th>\n",
       "      <th>odometer</th>\n",
       "      <th>transmission</th>\n",
       "      <th>type</th>\n",
       "      <th>paint_color</th>\n",
       "      <th>...</th>\n",
       "      <th>days_listed</th>\n",
       "      <th>model_year_grouped</th>\n",
       "      <th>odometer_grouped</th>\n",
       "      <th>odometer_new</th>\n",
       "      <th>model_year_new</th>\n",
       "      <th>year_posted</th>\n",
       "      <th>month_posted</th>\n",
       "      <th>day_of_week_posted</th>\n",
       "      <th>years_old</th>\n",
       "      <th>avg_odometer_per_year</th>\n",
       "    </tr>\n",
       "  </thead>\n",
       "  <tbody>\n",
       "    <tr>\n",
       "      <th>0</th>\n",
       "      <td>9400</td>\n",
       "      <td>2011.0</td>\n",
       "      <td>bmw x5</td>\n",
       "      <td>good</td>\n",
       "      <td>6.0</td>\n",
       "      <td>gas</td>\n",
       "      <td>145000.0</td>\n",
       "      <td>automatic</td>\n",
       "      <td>SUV</td>\n",
       "      <td>NaN</td>\n",
       "      <td>...</td>\n",
       "      <td>19</td>\n",
       "      <td>2011-2020</td>\n",
       "      <td>100,001 - 150,000</td>\n",
       "      <td>145000</td>\n",
       "      <td>2011</td>\n",
       "      <td>2018</td>\n",
       "      <td>6</td>\n",
       "      <td>5</td>\n",
       "      <td>7</td>\n",
       "      <td>20714.285714</td>\n",
       "    </tr>\n",
       "    <tr>\n",
       "      <th>1</th>\n",
       "      <td>25500</td>\n",
       "      <td>NaN</td>\n",
       "      <td>ford f-150</td>\n",
       "      <td>good</td>\n",
       "      <td>6.0</td>\n",
       "      <td>gas</td>\n",
       "      <td>88705.0</td>\n",
       "      <td>automatic</td>\n",
       "      <td>pickup</td>\n",
       "      <td>white</td>\n",
       "      <td>...</td>\n",
       "      <td>50</td>\n",
       "      <td>None</td>\n",
       "      <td>50,001 - 100,000</td>\n",
       "      <td>88705</td>\n",
       "      <td>2013</td>\n",
       "      <td>2018</td>\n",
       "      <td>10</td>\n",
       "      <td>4</td>\n",
       "      <td>5</td>\n",
       "      <td>17741.000000</td>\n",
       "    </tr>\n",
       "    <tr>\n",
       "      <th>2</th>\n",
       "      <td>5500</td>\n",
       "      <td>2013.0</td>\n",
       "      <td>hyundai sonata</td>\n",
       "      <td>like new</td>\n",
       "      <td>4.0</td>\n",
       "      <td>gas</td>\n",
       "      <td>110000.0</td>\n",
       "      <td>automatic</td>\n",
       "      <td>sedan</td>\n",
       "      <td>red</td>\n",
       "      <td>...</td>\n",
       "      <td>79</td>\n",
       "      <td>2011-2020</td>\n",
       "      <td>100,001 - 150,000</td>\n",
       "      <td>110000</td>\n",
       "      <td>2013</td>\n",
       "      <td>2019</td>\n",
       "      <td>2</td>\n",
       "      <td>3</td>\n",
       "      <td>6</td>\n",
       "      <td>18333.333333</td>\n",
       "    </tr>\n",
       "    <tr>\n",
       "      <th>3</th>\n",
       "      <td>1500</td>\n",
       "      <td>2003.0</td>\n",
       "      <td>ford f-150</td>\n",
       "      <td>fair</td>\n",
       "      <td>8.0</td>\n",
       "      <td>gas</td>\n",
       "      <td>NaN</td>\n",
       "      <td>automatic</td>\n",
       "      <td>pickup</td>\n",
       "      <td>NaN</td>\n",
       "      <td>...</td>\n",
       "      <td>9</td>\n",
       "      <td>2001-2010</td>\n",
       "      <td>None</td>\n",
       "      <td>145000</td>\n",
       "      <td>2003</td>\n",
       "      <td>2019</td>\n",
       "      <td>3</td>\n",
       "      <td>4</td>\n",
       "      <td>16</td>\n",
       "      <td>9062.500000</td>\n",
       "    </tr>\n",
       "    <tr>\n",
       "      <th>4</th>\n",
       "      <td>14900</td>\n",
       "      <td>2017.0</td>\n",
       "      <td>chrysler 200</td>\n",
       "      <td>excellent</td>\n",
       "      <td>4.0</td>\n",
       "      <td>gas</td>\n",
       "      <td>80903.0</td>\n",
       "      <td>automatic</td>\n",
       "      <td>sedan</td>\n",
       "      <td>black</td>\n",
       "      <td>...</td>\n",
       "      <td>28</td>\n",
       "      <td>2011-2020</td>\n",
       "      <td>50,001 - 100,000</td>\n",
       "      <td>80903</td>\n",
       "      <td>2017</td>\n",
       "      <td>2019</td>\n",
       "      <td>4</td>\n",
       "      <td>1</td>\n",
       "      <td>2</td>\n",
       "      <td>40451.500000</td>\n",
       "    </tr>\n",
       "  </tbody>\n",
       "</table>\n",
       "<p>5 rows × 22 columns</p>\n",
       "</div>"
      ],
      "text/plain": [
       "   price  model_year           model  condition  cylinders fuel  odometer  \\\n",
       "0   9400      2011.0          bmw x5       good        6.0  gas  145000.0   \n",
       "1  25500         NaN      ford f-150       good        6.0  gas   88705.0   \n",
       "2   5500      2013.0  hyundai sonata   like new        4.0  gas  110000.0   \n",
       "3   1500      2003.0      ford f-150       fair        8.0  gas       NaN   \n",
       "4  14900      2017.0    chrysler 200  excellent        4.0  gas   80903.0   \n",
       "\n",
       "  transmission    type paint_color  ...  days_listed model_year_grouped  \\\n",
       "0    automatic     SUV         NaN  ...           19          2011-2020   \n",
       "1    automatic  pickup       white  ...           50               None   \n",
       "2    automatic   sedan         red  ...           79          2011-2020   \n",
       "3    automatic  pickup         NaN  ...            9          2001-2010   \n",
       "4    automatic   sedan       black  ...           28          2011-2020   \n",
       "\n",
       "    odometer_grouped odometer_new model_year_new  year_posted  month_posted  \\\n",
       "0  100,001 - 150,000       145000           2011         2018             6   \n",
       "1   50,001 - 100,000        88705           2013         2018            10   \n",
       "2  100,001 - 150,000       110000           2013         2019             2   \n",
       "3               None       145000           2003         2019             3   \n",
       "4   50,001 - 100,000        80903           2017         2019             4   \n",
       "\n",
       "   day_of_week_posted  years_old  avg_odometer_per_year  \n",
       "0                   5          7           20714.285714  \n",
       "1                   4          5           17741.000000  \n",
       "2                   3          6           18333.333333  \n",
       "3                   4         16            9062.500000  \n",
       "4                   1          2           40451.500000  \n",
       "\n",
       "[5 rows x 22 columns]"
      ]
     },
     "execution_count": 93,
     "metadata": {},
     "output_type": "execute_result"
    }
   ],
   "source": [
    "data['avg_odometer_per_year'] = data['odometer_new']/data['years_old']\n",
    "data.head()"
   ]
  },
  {
   "cell_type": "code",
   "execution_count": 94,
   "metadata": {
    "scrolled": true
   },
   "outputs": [
    {
     "data": {
      "text/html": [
       "<div>\n",
       "<style scoped>\n",
       "    .dataframe tbody tr th:only-of-type {\n",
       "        vertical-align: middle;\n",
       "    }\n",
       "\n",
       "    .dataframe tbody tr th {\n",
       "        vertical-align: top;\n",
       "    }\n",
       "\n",
       "    .dataframe thead th {\n",
       "        text-align: right;\n",
       "    }\n",
       "</style>\n",
       "<table border=\"1\" class=\"dataframe\">\n",
       "  <thead>\n",
       "    <tr style=\"text-align: right;\">\n",
       "      <th></th>\n",
       "      <th>price</th>\n",
       "      <th>model_year</th>\n",
       "      <th>model</th>\n",
       "      <th>condition</th>\n",
       "      <th>cylinders</th>\n",
       "      <th>fuel</th>\n",
       "      <th>odometer</th>\n",
       "      <th>transmission</th>\n",
       "      <th>type</th>\n",
       "      <th>paint_color</th>\n",
       "      <th>...</th>\n",
       "      <th>model_year_grouped</th>\n",
       "      <th>odometer_grouped</th>\n",
       "      <th>odometer_new</th>\n",
       "      <th>model_year_new</th>\n",
       "      <th>year_posted</th>\n",
       "      <th>month_posted</th>\n",
       "      <th>day_of_week_posted</th>\n",
       "      <th>years_old</th>\n",
       "      <th>avg_odometer_per_year</th>\n",
       "      <th>condition_new</th>\n",
       "    </tr>\n",
       "  </thead>\n",
       "  <tbody>\n",
       "    <tr>\n",
       "      <th>0</th>\n",
       "      <td>9400</td>\n",
       "      <td>2011.0</td>\n",
       "      <td>bmw x5</td>\n",
       "      <td>good</td>\n",
       "      <td>6.0</td>\n",
       "      <td>gas</td>\n",
       "      <td>145000.0</td>\n",
       "      <td>automatic</td>\n",
       "      <td>SUV</td>\n",
       "      <td>NaN</td>\n",
       "      <td>...</td>\n",
       "      <td>2011-2020</td>\n",
       "      <td>100,001 - 150,000</td>\n",
       "      <td>145000</td>\n",
       "      <td>2011</td>\n",
       "      <td>2018</td>\n",
       "      <td>6</td>\n",
       "      <td>5</td>\n",
       "      <td>7</td>\n",
       "      <td>20714.285714</td>\n",
       "      <td>2</td>\n",
       "    </tr>\n",
       "    <tr>\n",
       "      <th>1</th>\n",
       "      <td>25500</td>\n",
       "      <td>NaN</td>\n",
       "      <td>ford f-150</td>\n",
       "      <td>good</td>\n",
       "      <td>6.0</td>\n",
       "      <td>gas</td>\n",
       "      <td>88705.0</td>\n",
       "      <td>automatic</td>\n",
       "      <td>pickup</td>\n",
       "      <td>white</td>\n",
       "      <td>...</td>\n",
       "      <td>None</td>\n",
       "      <td>50,001 - 100,000</td>\n",
       "      <td>88705</td>\n",
       "      <td>2013</td>\n",
       "      <td>2018</td>\n",
       "      <td>10</td>\n",
       "      <td>4</td>\n",
       "      <td>5</td>\n",
       "      <td>17741.000000</td>\n",
       "      <td>2</td>\n",
       "    </tr>\n",
       "    <tr>\n",
       "      <th>2</th>\n",
       "      <td>5500</td>\n",
       "      <td>2013.0</td>\n",
       "      <td>hyundai sonata</td>\n",
       "      <td>like new</td>\n",
       "      <td>4.0</td>\n",
       "      <td>gas</td>\n",
       "      <td>110000.0</td>\n",
       "      <td>automatic</td>\n",
       "      <td>sedan</td>\n",
       "      <td>red</td>\n",
       "      <td>...</td>\n",
       "      <td>2011-2020</td>\n",
       "      <td>100,001 - 150,000</td>\n",
       "      <td>110000</td>\n",
       "      <td>2013</td>\n",
       "      <td>2019</td>\n",
       "      <td>2</td>\n",
       "      <td>3</td>\n",
       "      <td>6</td>\n",
       "      <td>18333.333333</td>\n",
       "      <td>4</td>\n",
       "    </tr>\n",
       "    <tr>\n",
       "      <th>3</th>\n",
       "      <td>1500</td>\n",
       "      <td>2003.0</td>\n",
       "      <td>ford f-150</td>\n",
       "      <td>fair</td>\n",
       "      <td>8.0</td>\n",
       "      <td>gas</td>\n",
       "      <td>NaN</td>\n",
       "      <td>automatic</td>\n",
       "      <td>pickup</td>\n",
       "      <td>NaN</td>\n",
       "      <td>...</td>\n",
       "      <td>2001-2010</td>\n",
       "      <td>None</td>\n",
       "      <td>145000</td>\n",
       "      <td>2003</td>\n",
       "      <td>2019</td>\n",
       "      <td>3</td>\n",
       "      <td>4</td>\n",
       "      <td>16</td>\n",
       "      <td>9062.500000</td>\n",
       "      <td>1</td>\n",
       "    </tr>\n",
       "    <tr>\n",
       "      <th>4</th>\n",
       "      <td>14900</td>\n",
       "      <td>2017.0</td>\n",
       "      <td>chrysler 200</td>\n",
       "      <td>excellent</td>\n",
       "      <td>4.0</td>\n",
       "      <td>gas</td>\n",
       "      <td>80903.0</td>\n",
       "      <td>automatic</td>\n",
       "      <td>sedan</td>\n",
       "      <td>black</td>\n",
       "      <td>...</td>\n",
       "      <td>2011-2020</td>\n",
       "      <td>50,001 - 100,000</td>\n",
       "      <td>80903</td>\n",
       "      <td>2017</td>\n",
       "      <td>2019</td>\n",
       "      <td>4</td>\n",
       "      <td>1</td>\n",
       "      <td>2</td>\n",
       "      <td>40451.500000</td>\n",
       "      <td>3</td>\n",
       "    </tr>\n",
       "  </tbody>\n",
       "</table>\n",
       "<p>5 rows × 23 columns</p>\n",
       "</div>"
      ],
      "text/plain": [
       "   price  model_year           model  condition  cylinders fuel  odometer  \\\n",
       "0   9400      2011.0          bmw x5       good        6.0  gas  145000.0   \n",
       "1  25500         NaN      ford f-150       good        6.0  gas   88705.0   \n",
       "2   5500      2013.0  hyundai sonata   like new        4.0  gas  110000.0   \n",
       "3   1500      2003.0      ford f-150       fair        8.0  gas       NaN   \n",
       "4  14900      2017.0    chrysler 200  excellent        4.0  gas   80903.0   \n",
       "\n",
       "  transmission    type paint_color  ...  model_year_grouped  \\\n",
       "0    automatic     SUV         NaN  ...           2011-2020   \n",
       "1    automatic  pickup       white  ...                None   \n",
       "2    automatic   sedan         red  ...           2011-2020   \n",
       "3    automatic  pickup         NaN  ...           2001-2010   \n",
       "4    automatic   sedan       black  ...           2011-2020   \n",
       "\n",
       "    odometer_grouped  odometer_new model_year_new year_posted  month_posted  \\\n",
       "0  100,001 - 150,000        145000           2011        2018             6   \n",
       "1   50,001 - 100,000         88705           2013        2018            10   \n",
       "2  100,001 - 150,000        110000           2013        2019             2   \n",
       "3               None        145000           2003        2019             3   \n",
       "4   50,001 - 100,000         80903           2017        2019             4   \n",
       "\n",
       "   day_of_week_posted  years_old  avg_odometer_per_year  condition_new  \n",
       "0                   5          7           20714.285714              2  \n",
       "1                   4          5           17741.000000              2  \n",
       "2                   3          6           18333.333333              4  \n",
       "3                   4         16            9062.500000              1  \n",
       "4                   1          2           40451.500000              3  \n",
       "\n",
       "[5 rows x 23 columns]"
      ]
     },
     "execution_count": 94,
     "metadata": {},
     "output_type": "execute_result"
    }
   ],
   "source": [
    "def condition_def(condition):\n",
    "    if condition == 'new':\n",
    "        return 5\n",
    "    elif condition == 'like new':\n",
    "        return 4\n",
    "    elif condition == 'excellent':\n",
    "        return 3\n",
    "    elif condition == 'good':\n",
    "        return 2\n",
    "    elif condition == 'fair':\n",
    "        return 1\n",
    "    elif condition == 'salvage':\n",
    "        return 0\n",
    "    \n",
    "data['condition_new'] = data['condition'].apply(condition_def)\n",
    "data.head()"
   ]
  },
  {
   "cell_type": "markdown",
   "metadata": {},
   "source": [
    "## Comprobar datos limpios"
   ]
  },
  {
   "cell_type": "markdown",
   "metadata": {},
   "source": [
    "Vamos a comprobar que los datos estén listos para el análisis tomando un vistazo general."
   ]
  },
  {
   "cell_type": "code",
   "execution_count": 95,
   "metadata": {},
   "outputs": [
    {
     "name": "stdout",
     "output_type": "stream",
     "text": [
      "<class 'pandas.core.frame.DataFrame'>\n",
      "Int64Index: 45775 entries, 0 to 51524\n",
      "Data columns (total 23 columns):\n",
      " #   Column                 Non-Null Count  Dtype         \n",
      "---  ------                 --------------  -----         \n",
      " 0   price                  45775 non-null  int64         \n",
      " 1   model_year             43009 non-null  float64       \n",
      " 2   model                  45775 non-null  object        \n",
      " 3   condition              45775 non-null  object        \n",
      " 4   cylinders              45775 non-null  float64       \n",
      " 5   fuel                   45775 non-null  object        \n",
      " 6   odometer               39185 non-null  float64       \n",
      " 7   transmission           45775 non-null  object        \n",
      " 8   type                   45775 non-null  object        \n",
      " 9   paint_color            37546 non-null  object        \n",
      " 10  is_4wd                 45775 non-null  int64         \n",
      " 11  date_posted            45775 non-null  datetime64[ns]\n",
      " 12  days_listed            45775 non-null  int64         \n",
      " 13  model_year_grouped     43009 non-null  object        \n",
      " 14  odometer_grouped       39185 non-null  object        \n",
      " 15  odometer_new           45775 non-null  int64         \n",
      " 16  model_year_new         45775 non-null  int64         \n",
      " 17  year_posted            45775 non-null  int64         \n",
      " 18  month_posted           45775 non-null  int64         \n",
      " 19  day_of_week_posted     45775 non-null  int64         \n",
      " 20  years_old              45775 non-null  int64         \n",
      " 21  avg_odometer_per_year  45774 non-null  float64       \n",
      " 22  condition_new          45775 non-null  int64         \n",
      "dtypes: datetime64[ns](1), float64(4), int64(10), object(8)\n",
      "memory usage: 8.4+ MB\n"
     ]
    }
   ],
   "source": [
    "data.info()"
   ]
  },
  {
   "cell_type": "code",
   "execution_count": 96,
   "metadata": {
    "scrolled": false
   },
   "outputs": [
    {
     "data": {
      "text/html": [
       "<div>\n",
       "<style scoped>\n",
       "    .dataframe tbody tr th:only-of-type {\n",
       "        vertical-align: middle;\n",
       "    }\n",
       "\n",
       "    .dataframe tbody tr th {\n",
       "        vertical-align: top;\n",
       "    }\n",
       "\n",
       "    .dataframe thead th {\n",
       "        text-align: right;\n",
       "    }\n",
       "</style>\n",
       "<table border=\"1\" class=\"dataframe\">\n",
       "  <thead>\n",
       "    <tr style=\"text-align: right;\">\n",
       "      <th></th>\n",
       "      <th>price</th>\n",
       "      <th>model_year</th>\n",
       "      <th>model</th>\n",
       "      <th>condition</th>\n",
       "      <th>cylinders</th>\n",
       "      <th>fuel</th>\n",
       "      <th>odometer</th>\n",
       "      <th>transmission</th>\n",
       "      <th>type</th>\n",
       "      <th>paint_color</th>\n",
       "      <th>...</th>\n",
       "      <th>model_year_grouped</th>\n",
       "      <th>odometer_grouped</th>\n",
       "      <th>odometer_new</th>\n",
       "      <th>model_year_new</th>\n",
       "      <th>year_posted</th>\n",
       "      <th>month_posted</th>\n",
       "      <th>day_of_week_posted</th>\n",
       "      <th>years_old</th>\n",
       "      <th>avg_odometer_per_year</th>\n",
       "      <th>condition_new</th>\n",
       "    </tr>\n",
       "  </thead>\n",
       "  <tbody>\n",
       "    <tr>\n",
       "      <th>0</th>\n",
       "      <td>9400</td>\n",
       "      <td>2011.0</td>\n",
       "      <td>bmw x5</td>\n",
       "      <td>good</td>\n",
       "      <td>6.0</td>\n",
       "      <td>gas</td>\n",
       "      <td>145000.0</td>\n",
       "      <td>automatic</td>\n",
       "      <td>SUV</td>\n",
       "      <td>NaN</td>\n",
       "      <td>...</td>\n",
       "      <td>2011-2020</td>\n",
       "      <td>100,001 - 150,000</td>\n",
       "      <td>145000</td>\n",
       "      <td>2011</td>\n",
       "      <td>2018</td>\n",
       "      <td>6</td>\n",
       "      <td>5</td>\n",
       "      <td>7</td>\n",
       "      <td>20714.285714</td>\n",
       "      <td>2</td>\n",
       "    </tr>\n",
       "    <tr>\n",
       "      <th>1</th>\n",
       "      <td>25500</td>\n",
       "      <td>NaN</td>\n",
       "      <td>ford f-150</td>\n",
       "      <td>good</td>\n",
       "      <td>6.0</td>\n",
       "      <td>gas</td>\n",
       "      <td>88705.0</td>\n",
       "      <td>automatic</td>\n",
       "      <td>pickup</td>\n",
       "      <td>white</td>\n",
       "      <td>...</td>\n",
       "      <td>None</td>\n",
       "      <td>50,001 - 100,000</td>\n",
       "      <td>88705</td>\n",
       "      <td>2013</td>\n",
       "      <td>2018</td>\n",
       "      <td>10</td>\n",
       "      <td>4</td>\n",
       "      <td>5</td>\n",
       "      <td>17741.000000</td>\n",
       "      <td>2</td>\n",
       "    </tr>\n",
       "    <tr>\n",
       "      <th>2</th>\n",
       "      <td>5500</td>\n",
       "      <td>2013.0</td>\n",
       "      <td>hyundai sonata</td>\n",
       "      <td>like new</td>\n",
       "      <td>4.0</td>\n",
       "      <td>gas</td>\n",
       "      <td>110000.0</td>\n",
       "      <td>automatic</td>\n",
       "      <td>sedan</td>\n",
       "      <td>red</td>\n",
       "      <td>...</td>\n",
       "      <td>2011-2020</td>\n",
       "      <td>100,001 - 150,000</td>\n",
       "      <td>110000</td>\n",
       "      <td>2013</td>\n",
       "      <td>2019</td>\n",
       "      <td>2</td>\n",
       "      <td>3</td>\n",
       "      <td>6</td>\n",
       "      <td>18333.333333</td>\n",
       "      <td>4</td>\n",
       "    </tr>\n",
       "    <tr>\n",
       "      <th>3</th>\n",
       "      <td>1500</td>\n",
       "      <td>2003.0</td>\n",
       "      <td>ford f-150</td>\n",
       "      <td>fair</td>\n",
       "      <td>8.0</td>\n",
       "      <td>gas</td>\n",
       "      <td>NaN</td>\n",
       "      <td>automatic</td>\n",
       "      <td>pickup</td>\n",
       "      <td>NaN</td>\n",
       "      <td>...</td>\n",
       "      <td>2001-2010</td>\n",
       "      <td>None</td>\n",
       "      <td>145000</td>\n",
       "      <td>2003</td>\n",
       "      <td>2019</td>\n",
       "      <td>3</td>\n",
       "      <td>4</td>\n",
       "      <td>16</td>\n",
       "      <td>9062.500000</td>\n",
       "      <td>1</td>\n",
       "    </tr>\n",
       "    <tr>\n",
       "      <th>4</th>\n",
       "      <td>14900</td>\n",
       "      <td>2017.0</td>\n",
       "      <td>chrysler 200</td>\n",
       "      <td>excellent</td>\n",
       "      <td>4.0</td>\n",
       "      <td>gas</td>\n",
       "      <td>80903.0</td>\n",
       "      <td>automatic</td>\n",
       "      <td>sedan</td>\n",
       "      <td>black</td>\n",
       "      <td>...</td>\n",
       "      <td>2011-2020</td>\n",
       "      <td>50,001 - 100,000</td>\n",
       "      <td>80903</td>\n",
       "      <td>2017</td>\n",
       "      <td>2019</td>\n",
       "      <td>4</td>\n",
       "      <td>1</td>\n",
       "      <td>2</td>\n",
       "      <td>40451.500000</td>\n",
       "      <td>3</td>\n",
       "    </tr>\n",
       "    <tr>\n",
       "      <th>5</th>\n",
       "      <td>14990</td>\n",
       "      <td>2014.0</td>\n",
       "      <td>chrysler 300</td>\n",
       "      <td>excellent</td>\n",
       "      <td>6.0</td>\n",
       "      <td>gas</td>\n",
       "      <td>57954.0</td>\n",
       "      <td>automatic</td>\n",
       "      <td>sedan</td>\n",
       "      <td>black</td>\n",
       "      <td>...</td>\n",
       "      <td>2011-2020</td>\n",
       "      <td>50,001 - 100,000</td>\n",
       "      <td>57954</td>\n",
       "      <td>2014</td>\n",
       "      <td>2018</td>\n",
       "      <td>6</td>\n",
       "      <td>2</td>\n",
       "      <td>4</td>\n",
       "      <td>14488.500000</td>\n",
       "      <td>3</td>\n",
       "    </tr>\n",
       "    <tr>\n",
       "      <th>6</th>\n",
       "      <td>12990</td>\n",
       "      <td>2015.0</td>\n",
       "      <td>toyota camry</td>\n",
       "      <td>excellent</td>\n",
       "      <td>4.0</td>\n",
       "      <td>gas</td>\n",
       "      <td>79212.0</td>\n",
       "      <td>automatic</td>\n",
       "      <td>sedan</td>\n",
       "      <td>white</td>\n",
       "      <td>...</td>\n",
       "      <td>2011-2020</td>\n",
       "      <td>50,001 - 100,000</td>\n",
       "      <td>79212</td>\n",
       "      <td>2015</td>\n",
       "      <td>2018</td>\n",
       "      <td>12</td>\n",
       "      <td>3</td>\n",
       "      <td>3</td>\n",
       "      <td>26404.000000</td>\n",
       "      <td>3</td>\n",
       "    </tr>\n",
       "    <tr>\n",
       "      <th>7</th>\n",
       "      <td>15990</td>\n",
       "      <td>2013.0</td>\n",
       "      <td>honda pilot</td>\n",
       "      <td>excellent</td>\n",
       "      <td>6.0</td>\n",
       "      <td>gas</td>\n",
       "      <td>109473.0</td>\n",
       "      <td>automatic</td>\n",
       "      <td>SUV</td>\n",
       "      <td>black</td>\n",
       "      <td>...</td>\n",
       "      <td>2011-2020</td>\n",
       "      <td>100,001 - 150,000</td>\n",
       "      <td>109473</td>\n",
       "      <td>2013</td>\n",
       "      <td>2019</td>\n",
       "      <td>1</td>\n",
       "      <td>0</td>\n",
       "      <td>6</td>\n",
       "      <td>18245.500000</td>\n",
       "      <td>3</td>\n",
       "    </tr>\n",
       "    <tr>\n",
       "      <th>8</th>\n",
       "      <td>11500</td>\n",
       "      <td>2012.0</td>\n",
       "      <td>kia sorento</td>\n",
       "      <td>excellent</td>\n",
       "      <td>4.0</td>\n",
       "      <td>gas</td>\n",
       "      <td>104174.0</td>\n",
       "      <td>automatic</td>\n",
       "      <td>SUV</td>\n",
       "      <td>NaN</td>\n",
       "      <td>...</td>\n",
       "      <td>2011-2020</td>\n",
       "      <td>100,001 - 150,000</td>\n",
       "      <td>104174</td>\n",
       "      <td>2012</td>\n",
       "      <td>2018</td>\n",
       "      <td>7</td>\n",
       "      <td>0</td>\n",
       "      <td>6</td>\n",
       "      <td>17362.333333</td>\n",
       "      <td>3</td>\n",
       "    </tr>\n",
       "    <tr>\n",
       "      <th>10</th>\n",
       "      <td>19500</td>\n",
       "      <td>2011.0</td>\n",
       "      <td>chevrolet silverado 1500</td>\n",
       "      <td>excellent</td>\n",
       "      <td>8.0</td>\n",
       "      <td>gas</td>\n",
       "      <td>128413.0</td>\n",
       "      <td>automatic</td>\n",
       "      <td>pickup</td>\n",
       "      <td>black</td>\n",
       "      <td>...</td>\n",
       "      <td>2011-2020</td>\n",
       "      <td>100,001 - 150,000</td>\n",
       "      <td>128413</td>\n",
       "      <td>2011</td>\n",
       "      <td>2018</td>\n",
       "      <td>9</td>\n",
       "      <td>0</td>\n",
       "      <td>7</td>\n",
       "      <td>18344.714286</td>\n",
       "      <td>3</td>\n",
       "    </tr>\n",
       "  </tbody>\n",
       "</table>\n",
       "<p>10 rows × 23 columns</p>\n",
       "</div>"
      ],
      "text/plain": [
       "    price  model_year                     model  condition  cylinders fuel  \\\n",
       "0    9400      2011.0                    bmw x5       good        6.0  gas   \n",
       "1   25500         NaN                ford f-150       good        6.0  gas   \n",
       "2    5500      2013.0            hyundai sonata   like new        4.0  gas   \n",
       "3    1500      2003.0                ford f-150       fair        8.0  gas   \n",
       "4   14900      2017.0              chrysler 200  excellent        4.0  gas   \n",
       "5   14990      2014.0              chrysler 300  excellent        6.0  gas   \n",
       "6   12990      2015.0              toyota camry  excellent        4.0  gas   \n",
       "7   15990      2013.0               honda pilot  excellent        6.0  gas   \n",
       "8   11500      2012.0               kia sorento  excellent        4.0  gas   \n",
       "10  19500      2011.0  chevrolet silverado 1500  excellent        8.0  gas   \n",
       "\n",
       "    odometer transmission    type paint_color  ...  model_year_grouped  \\\n",
       "0   145000.0    automatic     SUV         NaN  ...           2011-2020   \n",
       "1    88705.0    automatic  pickup       white  ...                None   \n",
       "2   110000.0    automatic   sedan         red  ...           2011-2020   \n",
       "3        NaN    automatic  pickup         NaN  ...           2001-2010   \n",
       "4    80903.0    automatic   sedan       black  ...           2011-2020   \n",
       "5    57954.0    automatic   sedan       black  ...           2011-2020   \n",
       "6    79212.0    automatic   sedan       white  ...           2011-2020   \n",
       "7   109473.0    automatic     SUV       black  ...           2011-2020   \n",
       "8   104174.0    automatic     SUV         NaN  ...           2011-2020   \n",
       "10  128413.0    automatic  pickup       black  ...           2011-2020   \n",
       "\n",
       "     odometer_grouped  odometer_new model_year_new year_posted  month_posted  \\\n",
       "0   100,001 - 150,000        145000           2011        2018             6   \n",
       "1    50,001 - 100,000         88705           2013        2018            10   \n",
       "2   100,001 - 150,000        110000           2013        2019             2   \n",
       "3                None        145000           2003        2019             3   \n",
       "4    50,001 - 100,000         80903           2017        2019             4   \n",
       "5    50,001 - 100,000         57954           2014        2018             6   \n",
       "6    50,001 - 100,000         79212           2015        2018            12   \n",
       "7   100,001 - 150,000        109473           2013        2019             1   \n",
       "8   100,001 - 150,000        104174           2012        2018             7   \n",
       "10  100,001 - 150,000        128413           2011        2018             9   \n",
       "\n",
       "    day_of_week_posted  years_old  avg_odometer_per_year  condition_new  \n",
       "0                    5          7           20714.285714              2  \n",
       "1                    4          5           17741.000000              2  \n",
       "2                    3          6           18333.333333              4  \n",
       "3                    4         16            9062.500000              1  \n",
       "4                    1          2           40451.500000              3  \n",
       "5                    2          4           14488.500000              3  \n",
       "6                    3          3           26404.000000              3  \n",
       "7                    0          6           18245.500000              3  \n",
       "8                    0          6           17362.333333              3  \n",
       "10                   0          7           18344.714286              3  \n",
       "\n",
       "[10 rows x 23 columns]"
      ]
     },
     "execution_count": 96,
     "metadata": {},
     "output_type": "execute_result"
    }
   ],
   "source": [
    "data.head(10)"
   ]
  },
  {
   "cell_type": "markdown",
   "metadata": {},
   "source": [
    "## Estudiar parámetros principales\n",
    "\n",
    "Vamos a analizar las algunas variables de la base de datos para ver sus valores atípicos.\n",
    "\n",
    "Las variables son:\n",
    "- Precio\n",
    "- Los años del vehículo cuando el anuncio se colocó\n",
    "- Millaje\n",
    "- Número de cilindros\n",
    "- Estado"
   ]
  },
  {
   "cell_type": "markdown",
   "metadata": {},
   "source": [
    "Vamos a definir una función que nos ayude a hacer este proceso más rápido."
   ]
  },
  {
   "cell_type": "code",
   "execution_count": 97,
   "metadata": {},
   "outputs": [
    {
     "data": {
      "image/png": "[encoded data removed]",
      "text/plain": [
       "<Figure size 432x288 with 1 Axes>"
      ]
     },
     "metadata": {
      "needs_background": "light"
     },
     "output_type": "display_data"
    }
   ],
   "source": [
    "def histograma(variable, numbins, xlim1, xlim2):\n",
    "    data[variable].plot(kind='hist', bins=numbins, xlim=(data[xlim1].min(),data[xlim2].max()))\n",
    "    \n",
    "histograma('price', 50,'price','price')"
   ]
  },
  {
   "cell_type": "code",
   "execution_count": 98,
   "metadata": {},
   "outputs": [
    {
     "data": {
      "image/png": "[encoded data removed]",
      "text/plain": [
       "<Figure size 432x288 with 1 Axes>"
      ]
     },
     "metadata": {
      "needs_background": "light"
     },
     "output_type": "display_data"
    }
   ],
   "source": [
    "histograma('years_old', 50,'years_old','years_old')"
   ]
  },
  {
   "cell_type": "code",
   "execution_count": 99,
   "metadata": {},
   "outputs": [
    {
     "data": {
      "image/png": "[encoded data removed]",
      "text/plain": [
       "<Figure size 432x288 with 1 Axes>"
      ]
     },
     "metadata": {
      "needs_background": "light"
     },
     "output_type": "display_data"
    }
   ],
   "source": [
    "histograma('odometer_new', 50,'odometer_new','odometer_new')"
   ]
  },
  {
   "cell_type": "code",
   "execution_count": 100,
   "metadata": {},
   "outputs": [
    {
     "data": {
      "image/png": "[encoded data removed]",
      "text/plain": [
       "<Figure size 432x288 with 1 Axes>"
      ]
     },
     "metadata": {
      "needs_background": "light"
     },
     "output_type": "display_data"
    }
   ],
   "source": [
    "histograma('cylinders', 12,'cylinders','cylinders')\n"
   ]
  },
  {
   "cell_type": "code",
   "execution_count": 101,
   "metadata": {},
   "outputs": [
    {
     "data": {
      "image/png": "[encoded data removed]",
      "text/plain": [
       "<Figure size 432x288 with 1 Axes>"
      ]
     },
     "metadata": {
      "needs_background": "light"
     },
     "output_type": "display_data"
    }
   ],
   "source": [
    "histograma('condition_new', 6,'condition_new','condition_new')\n"
   ]
  },
  {
   "cell_type": "markdown",
   "metadata": {},
   "source": [
    "## Estudiar y tratar valores atípicos\n",
    "\n",
    "Los histogramas anteriores nos dieron una idea de cuales son los valores atípicos en esas variables, por lo que vamos a pasar a filtrar esos valores atípicos para tener una muestra más acertada."
   ]
  },
  {
   "cell_type": "code",
   "execution_count": 111,
   "metadata": {},
   "outputs": [],
   "source": [
    "data_filtered = data.query('price > 200 & cylinders > 3 & odometer_new >100')\n"
   ]
  },
  {
   "cell_type": "code",
   "execution_count": 115,
   "metadata": {},
   "outputs": [],
   "source": [
    "data_filtered = data_filtered.query('price < 55000 & cylinders <= 8 & years_old <=40 & odometer_new <=400000')"
   ]
  },
  {
   "cell_type": "markdown",
   "metadata": {},
   "source": [
    "## Estudiar parámetros principales sin valores atípicos"
   ]
  },
  {
   "cell_type": "markdown",
   "metadata": {},
   "source": [
    "Con estos nuevos datos filtrados, vamos a ver si los histogramas tienen una distribución más equitativa."
   ]
  },
  {
   "cell_type": "code",
   "execution_count": 116,
   "metadata": {},
   "outputs": [
    {
     "data": {
      "text/plain": [
       "<AxesSubplot:ylabel='Frequency'>"
      ]
     },
     "execution_count": 116,
     "metadata": {},
     "output_type": "execute_result"
    },
    {
     "data": {
      "image/png": "[encoded data removed]",
      "text/plain": [
       "<Figure size 432x288 with 1 Axes>"
      ]
     },
     "metadata": {
      "needs_background": "light"
     },
     "output_type": "display_data"
    }
   ],
   "source": [
    "data_filtered['price'].plot(kind='hist', bins=50)"
   ]
  },
  {
   "cell_type": "markdown",
   "metadata": {},
   "source": [
    "Correcto, los histogramas tienen una mejor distribución."
   ]
  },
  {
   "cell_type": "markdown",
   "metadata": {},
   "source": [
    "## Periodo de colocación de los anuncios\n",
    "\n",
    "Vamos a ver cual es la media y la mediana de días de anuncio activos, y ver si se relaciona con alguna otra variable."
   ]
  },
  {
   "cell_type": "code",
   "execution_count": 129,
   "metadata": {},
   "outputs": [
    {
     "name": "stdout",
     "output_type": "stream",
     "text": [
      "Media de días por anuncio activo:\n",
      "39.55307465395961\n",
      "Mediana de días por anuncio activo:\n",
      "33.0\n"
     ]
    }
   ],
   "source": [
    "print('Media de días por anuncio activo:') \n",
    "print(data_filtered['days_listed'].mean())\n",
    "print('Mediana de días por anuncio activo:') \n",
    "print(data_filtered['days_listed'].median())"
   ]
  },
  {
   "cell_type": "code",
   "execution_count": 128,
   "metadata": {},
   "outputs": [
    {
     "data": {
      "text/html": [
       "<div>\n",
       "<style scoped>\n",
       "    .dataframe tbody tr th:only-of-type {\n",
       "        vertical-align: middle;\n",
       "    }\n",
       "\n",
       "    .dataframe tbody tr th {\n",
       "        vertical-align: top;\n",
       "    }\n",
       "\n",
       "    .dataframe thead th {\n",
       "        text-align: right;\n",
       "    }\n",
       "</style>\n",
       "<table border=\"1\" class=\"dataframe\">\n",
       "  <thead>\n",
       "    <tr style=\"text-align: right;\">\n",
       "      <th></th>\n",
       "      <th>price</th>\n",
       "      <th>model_year</th>\n",
       "      <th>cylinders</th>\n",
       "      <th>odometer</th>\n",
       "      <th>is_4wd</th>\n",
       "      <th>days_listed</th>\n",
       "      <th>odometer_new</th>\n",
       "      <th>model_year_new</th>\n",
       "      <th>year_posted</th>\n",
       "      <th>month_posted</th>\n",
       "      <th>day_of_week_posted</th>\n",
       "      <th>years_old</th>\n",
       "      <th>avg_odometer_per_year</th>\n",
       "      <th>condition_new</th>\n",
       "    </tr>\n",
       "  </thead>\n",
       "  <tbody>\n",
       "    <tr>\n",
       "      <th>price</th>\n",
       "      <td>1.000000</td>\n",
       "      <td>0.568890</td>\n",
       "      <td>0.343576</td>\n",
       "      <td>-0.509633</td>\n",
       "      <td>0.368057</td>\n",
       "      <td>-0.001252</td>\n",
       "      <td>-0.503579</td>\n",
       "      <td>0.563349</td>\n",
       "      <td>0.006462</td>\n",
       "      <td>-0.003441</td>\n",
       "      <td>-0.002549</td>\n",
       "      <td>-0.561732</td>\n",
       "      <td>0.297406</td>\n",
       "      <td>0.245110</td>\n",
       "    </tr>\n",
       "    <tr>\n",
       "      <th>model_year</th>\n",
       "      <td>0.568890</td>\n",
       "      <td>1.000000</td>\n",
       "      <td>-0.161686</td>\n",
       "      <td>-0.550394</td>\n",
       "      <td>0.018304</td>\n",
       "      <td>-0.003062</td>\n",
       "      <td>-0.566345</td>\n",
       "      <td>1.000000</td>\n",
       "      <td>0.017705</td>\n",
       "      <td>-0.016435</td>\n",
       "      <td>-0.003862</td>\n",
       "      <td>-0.996768</td>\n",
       "      <td>0.536683</td>\n",
       "      <td>0.294864</td>\n",
       "    </tr>\n",
       "    <tr>\n",
       "      <th>cylinders</th>\n",
       "      <td>0.343576</td>\n",
       "      <td>-0.161686</td>\n",
       "      <td>1.000000</td>\n",
       "      <td>0.122505</td>\n",
       "      <td>0.409186</td>\n",
       "      <td>0.004277</td>\n",
       "      <td>0.122068</td>\n",
       "      <td>-0.159100</td>\n",
       "      <td>-0.001284</td>\n",
       "      <td>0.002416</td>\n",
       "      <td>-0.006623</td>\n",
       "      <td>0.158687</td>\n",
       "      <td>-0.048857</td>\n",
       "      <td>-0.073076</td>\n",
       "    </tr>\n",
       "    <tr>\n",
       "      <th>odometer</th>\n",
       "      <td>-0.509633</td>\n",
       "      <td>-0.550394</td>\n",
       "      <td>0.122505</td>\n",
       "      <td>1.000000</td>\n",
       "      <td>0.046977</td>\n",
       "      <td>0.005505</td>\n",
       "      <td>1.000000</td>\n",
       "      <td>-0.564603</td>\n",
       "      <td>-0.009522</td>\n",
       "      <td>0.013182</td>\n",
       "      <td>0.006427</td>\n",
       "      <td>0.562826</td>\n",
       "      <td>0.085687</td>\n",
       "      <td>-0.301418</td>\n",
       "    </tr>\n",
       "    <tr>\n",
       "      <th>is_4wd</th>\n",
       "      <td>0.368057</td>\n",
       "      <td>0.018304</td>\n",
       "      <td>0.409186</td>\n",
       "      <td>0.046977</td>\n",
       "      <td>1.000000</td>\n",
       "      <td>0.006763</td>\n",
       "      <td>0.042795</td>\n",
       "      <td>0.015143</td>\n",
       "      <td>-0.000987</td>\n",
       "      <td>0.003839</td>\n",
       "      <td>0.003370</td>\n",
       "      <td>-0.015194</td>\n",
       "      <td>0.046465</td>\n",
       "      <td>0.007336</td>\n",
       "    </tr>\n",
       "    <tr>\n",
       "      <th>days_listed</th>\n",
       "      <td>-0.001252</td>\n",
       "      <td>-0.003062</td>\n",
       "      <td>0.004277</td>\n",
       "      <td>0.005505</td>\n",
       "      <td>0.006763</td>\n",
       "      <td>1.000000</td>\n",
       "      <td>0.005034</td>\n",
       "      <td>-0.003248</td>\n",
       "      <td>0.011237</td>\n",
       "      <td>-0.010750</td>\n",
       "      <td>0.001440</td>\n",
       "      <td>0.004163</td>\n",
       "      <td>-0.003127</td>\n",
       "      <td>-0.003417</td>\n",
       "    </tr>\n",
       "    <tr>\n",
       "      <th>odometer_new</th>\n",
       "      <td>-0.503579</td>\n",
       "      <td>-0.566345</td>\n",
       "      <td>0.122068</td>\n",
       "      <td>1.000000</td>\n",
       "      <td>0.042795</td>\n",
       "      <td>0.005034</td>\n",
       "      <td>1.000000</td>\n",
       "      <td>-0.577655</td>\n",
       "      <td>-0.008652</td>\n",
       "      <td>0.012210</td>\n",
       "      <td>0.005294</td>\n",
       "      <td>0.575831</td>\n",
       "      <td>0.023870</td>\n",
       "      <td>-0.293060</td>\n",
       "    </tr>\n",
       "    <tr>\n",
       "      <th>model_year_new</th>\n",
       "      <td>0.563349</td>\n",
       "      <td>1.000000</td>\n",
       "      <td>-0.159100</td>\n",
       "      <td>-0.564603</td>\n",
       "      <td>0.015143</td>\n",
       "      <td>-0.003248</td>\n",
       "      <td>-0.577655</td>\n",
       "      <td>1.000000</td>\n",
       "      <td>0.017462</td>\n",
       "      <td>-0.016071</td>\n",
       "      <td>-0.003276</td>\n",
       "      <td>-0.996638</td>\n",
       "      <td>0.520482</td>\n",
       "      <td>0.292458</td>\n",
       "    </tr>\n",
       "    <tr>\n",
       "      <th>year_posted</th>\n",
       "      <td>0.006462</td>\n",
       "      <td>0.017705</td>\n",
       "      <td>-0.001284</td>\n",
       "      <td>-0.009522</td>\n",
       "      <td>-0.000987</td>\n",
       "      <td>0.011237</td>\n",
       "      <td>-0.008652</td>\n",
       "      <td>0.017462</td>\n",
       "      <td>1.000000</td>\n",
       "      <td>-0.817813</td>\n",
       "      <td>-0.009206</td>\n",
       "      <td>0.064515</td>\n",
       "      <td>-0.113158</td>\n",
       "      <td>0.004118</td>\n",
       "    </tr>\n",
       "    <tr>\n",
       "      <th>month_posted</th>\n",
       "      <td>-0.003441</td>\n",
       "      <td>-0.016435</td>\n",
       "      <td>0.002416</td>\n",
       "      <td>0.013182</td>\n",
       "      <td>0.003839</td>\n",
       "      <td>-0.010750</td>\n",
       "      <td>0.012210</td>\n",
       "      <td>-0.016071</td>\n",
       "      <td>-0.817813</td>\n",
       "      <td>1.000000</td>\n",
       "      <td>0.007771</td>\n",
       "      <td>-0.050975</td>\n",
       "      <td>0.097982</td>\n",
       "      <td>-0.000946</td>\n",
       "    </tr>\n",
       "    <tr>\n",
       "      <th>day_of_week_posted</th>\n",
       "      <td>-0.002549</td>\n",
       "      <td>-0.003862</td>\n",
       "      <td>-0.006623</td>\n",
       "      <td>0.006427</td>\n",
       "      <td>0.003370</td>\n",
       "      <td>0.001440</td>\n",
       "      <td>0.005294</td>\n",
       "      <td>-0.003276</td>\n",
       "      <td>-0.009206</td>\n",
       "      <td>0.007771</td>\n",
       "      <td>1.000000</td>\n",
       "      <td>0.002515</td>\n",
       "      <td>-0.003275</td>\n",
       "      <td>0.000773</td>\n",
       "    </tr>\n",
       "    <tr>\n",
       "      <th>years_old</th>\n",
       "      <td>-0.561732</td>\n",
       "      <td>-0.996768</td>\n",
       "      <td>0.158687</td>\n",
       "      <td>0.562826</td>\n",
       "      <td>-0.015194</td>\n",
       "      <td>0.004163</td>\n",
       "      <td>0.575831</td>\n",
       "      <td>-0.996638</td>\n",
       "      <td>0.064515</td>\n",
       "      <td>-0.050975</td>\n",
       "      <td>0.002515</td>\n",
       "      <td>1.000000</td>\n",
       "      <td>-0.529635</td>\n",
       "      <td>-0.291555</td>\n",
       "    </tr>\n",
       "    <tr>\n",
       "      <th>avg_odometer_per_year</th>\n",
       "      <td>0.297406</td>\n",
       "      <td>0.536683</td>\n",
       "      <td>-0.048857</td>\n",
       "      <td>0.085687</td>\n",
       "      <td>0.046465</td>\n",
       "      <td>-0.003127</td>\n",
       "      <td>0.023870</td>\n",
       "      <td>0.520482</td>\n",
       "      <td>-0.113158</td>\n",
       "      <td>0.097982</td>\n",
       "      <td>-0.003275</td>\n",
       "      <td>-0.529635</td>\n",
       "      <td>1.000000</td>\n",
       "      <td>0.100475</td>\n",
       "    </tr>\n",
       "    <tr>\n",
       "      <th>condition_new</th>\n",
       "      <td>0.245110</td>\n",
       "      <td>0.294864</td>\n",
       "      <td>-0.073076</td>\n",
       "      <td>-0.301418</td>\n",
       "      <td>0.007336</td>\n",
       "      <td>-0.003417</td>\n",
       "      <td>-0.293060</td>\n",
       "      <td>0.292458</td>\n",
       "      <td>0.004118</td>\n",
       "      <td>-0.000946</td>\n",
       "      <td>0.000773</td>\n",
       "      <td>-0.291555</td>\n",
       "      <td>0.100475</td>\n",
       "      <td>1.000000</td>\n",
       "    </tr>\n",
       "  </tbody>\n",
       "</table>\n",
       "</div>"
      ],
      "text/plain": [
       "                          price  model_year  cylinders  odometer    is_4wd  \\\n",
       "price                  1.000000    0.568890   0.343576 -0.509633  0.368057   \n",
       "model_year             0.568890    1.000000  -0.161686 -0.550394  0.018304   \n",
       "cylinders              0.343576   -0.161686   1.000000  0.122505  0.409186   \n",
       "odometer              -0.509633   -0.550394   0.122505  1.000000  0.046977   \n",
       "is_4wd                 0.368057    0.018304   0.409186  0.046977  1.000000   \n",
       "days_listed           -0.001252   -0.003062   0.004277  0.005505  0.006763   \n",
       "odometer_new          -0.503579   -0.566345   0.122068  1.000000  0.042795   \n",
       "model_year_new         0.563349    1.000000  -0.159100 -0.564603  0.015143   \n",
       "year_posted            0.006462    0.017705  -0.001284 -0.009522 -0.000987   \n",
       "month_posted          -0.003441   -0.016435   0.002416  0.013182  0.003839   \n",
       "day_of_week_posted    -0.002549   -0.003862  -0.006623  0.006427  0.003370   \n",
       "years_old             -0.561732   -0.996768   0.158687  0.562826 -0.015194   \n",
       "avg_odometer_per_year  0.297406    0.536683  -0.048857  0.085687  0.046465   \n",
       "condition_new          0.245110    0.294864  -0.073076 -0.301418  0.007336   \n",
       "\n",
       "                       days_listed  odometer_new  model_year_new  year_posted  \\\n",
       "price                    -0.001252     -0.503579        0.563349     0.006462   \n",
       "model_year               -0.003062     -0.566345        1.000000     0.017705   \n",
       "cylinders                 0.004277      0.122068       -0.159100    -0.001284   \n",
       "odometer                  0.005505      1.000000       -0.564603    -0.009522   \n",
       "is_4wd                    0.006763      0.042795        0.015143    -0.000987   \n",
       "days_listed               1.000000      0.005034       -0.003248     0.011237   \n",
       "odometer_new              0.005034      1.000000       -0.577655    -0.008652   \n",
       "model_year_new           -0.003248     -0.577655        1.000000     0.017462   \n",
       "year_posted               0.011237     -0.008652        0.017462     1.000000   \n",
       "month_posted             -0.010750      0.012210       -0.016071    -0.817813   \n",
       "day_of_week_posted        0.001440      0.005294       -0.003276    -0.009206   \n",
       "years_old                 0.004163      0.575831       -0.996638     0.064515   \n",
       "avg_odometer_per_year    -0.003127      0.023870        0.520482    -0.113158   \n",
       "condition_new            -0.003417     -0.293060        0.292458     0.004118   \n",
       "\n",
       "                       month_posted  day_of_week_posted  years_old  \\\n",
       "price                     -0.003441           -0.002549  -0.561732   \n",
       "model_year                -0.016435           -0.003862  -0.996768   \n",
       "cylinders                  0.002416           -0.006623   0.158687   \n",
       "odometer                   0.013182            0.006427   0.562826   \n",
       "is_4wd                     0.003839            0.003370  -0.015194   \n",
       "days_listed               -0.010750            0.001440   0.004163   \n",
       "odometer_new               0.012210            0.005294   0.575831   \n",
       "model_year_new            -0.016071           -0.003276  -0.996638   \n",
       "year_posted               -0.817813           -0.009206   0.064515   \n",
       "month_posted               1.000000            0.007771  -0.050975   \n",
       "day_of_week_posted         0.007771            1.000000   0.002515   \n",
       "years_old                 -0.050975            0.002515   1.000000   \n",
       "avg_odometer_per_year      0.097982           -0.003275  -0.529635   \n",
       "condition_new             -0.000946            0.000773  -0.291555   \n",
       "\n",
       "                       avg_odometer_per_year  condition_new  \n",
       "price                               0.297406       0.245110  \n",
       "model_year                          0.536683       0.294864  \n",
       "cylinders                          -0.048857      -0.073076  \n",
       "odometer                            0.085687      -0.301418  \n",
       "is_4wd                              0.046465       0.007336  \n",
       "days_listed                        -0.003127      -0.003417  \n",
       "odometer_new                        0.023870      -0.293060  \n",
       "model_year_new                      0.520482       0.292458  \n",
       "year_posted                        -0.113158       0.004118  \n",
       "month_posted                        0.097982      -0.000946  \n",
       "day_of_week_posted                 -0.003275       0.000773  \n",
       "years_old                          -0.529635      -0.291555  \n",
       "avg_odometer_per_year               1.000000       0.100475  \n",
       "condition_new                       0.100475       1.000000  "
      ]
     },
     "execution_count": 128,
     "metadata": {},
     "output_type": "execute_result"
    }
   ],
   "source": [
    "data_filtered.corr()"
   ]
  },
  {
   "cell_type": "markdown",
   "metadata": {},
   "source": [
    "Los anuncios se encuentran activos en un promedio de 33 días. Sin embargo, no se relacionan con alguna otra variable de los datos que tenemos."
   ]
  },
  {
   "cell_type": "markdown",
   "metadata": {},
   "source": [
    "## Precio promedio por cada tipo de vehículo"
   ]
  },
  {
   "cell_type": "markdown",
   "metadata": {},
   "source": [
    "Vamos a analizar el promedio de precio y el número de anuncios por tipo de vehiculo. Con esto, determinaremos qué tipos de vehículos tienen el mayor número de anuncios."
   ]
  },
  {
   "cell_type": "code",
   "execution_count": 136,
   "metadata": {},
   "outputs": [
    {
     "data": {
      "text/html": [
       "<div>\n",
       "<style scoped>\n",
       "    .dataframe tbody tr th:only-of-type {\n",
       "        vertical-align: middle;\n",
       "    }\n",
       "\n",
       "    .dataframe tbody tr th {\n",
       "        vertical-align: top;\n",
       "    }\n",
       "\n",
       "    .dataframe thead th {\n",
       "        text-align: right;\n",
       "    }\n",
       "</style>\n",
       "<table border=\"1\" class=\"dataframe\">\n",
       "  <thead>\n",
       "    <tr style=\"text-align: right;\">\n",
       "      <th></th>\n",
       "      <th>price_mean</th>\n",
       "      <th>count</th>\n",
       "    </tr>\n",
       "    <tr>\n",
       "      <th>type</th>\n",
       "      <th></th>\n",
       "      <th></th>\n",
       "    </tr>\n",
       "  </thead>\n",
       "  <tbody>\n",
       "    <tr>\n",
       "      <th>SUV</th>\n",
       "      <td>11323.162815</td>\n",
       "      <td>10730</td>\n",
       "    </tr>\n",
       "    <tr>\n",
       "      <th>bus</th>\n",
       "      <td>6139.285714</td>\n",
       "      <td>7</td>\n",
       "    </tr>\n",
       "    <tr>\n",
       "      <th>convertible</th>\n",
       "      <td>13193.835165</td>\n",
       "      <td>364</td>\n",
       "    </tr>\n",
       "    <tr>\n",
       "      <th>coupe</th>\n",
       "      <td>14254.793651</td>\n",
       "      <td>1890</td>\n",
       "    </tr>\n",
       "    <tr>\n",
       "      <th>hatchback</th>\n",
       "      <td>6875.744921</td>\n",
       "      <td>886</td>\n",
       "    </tr>\n",
       "    <tr>\n",
       "      <th>mini-van</th>\n",
       "      <td>8079.843719</td>\n",
       "      <td>1011</td>\n",
       "    </tr>\n",
       "    <tr>\n",
       "      <th>offroad</th>\n",
       "      <td>14564.684492</td>\n",
       "      <td>187</td>\n",
       "    </tr>\n",
       "    <tr>\n",
       "      <th>other</th>\n",
       "      <td>11322.457547</td>\n",
       "      <td>212</td>\n",
       "    </tr>\n",
       "    <tr>\n",
       "      <th>pickup</th>\n",
       "      <td>16061.980299</td>\n",
       "      <td>6091</td>\n",
       "    </tr>\n",
       "    <tr>\n",
       "      <th>sedan</th>\n",
       "      <td>7070.255384</td>\n",
       "      <td>10447</td>\n",
       "    </tr>\n",
       "    <tr>\n",
       "      <th>truck</th>\n",
       "      <td>16797.825043</td>\n",
       "      <td>10374</td>\n",
       "    </tr>\n",
       "    <tr>\n",
       "      <th>van</th>\n",
       "      <td>10358.092279</td>\n",
       "      <td>531</td>\n",
       "    </tr>\n",
       "    <tr>\n",
       "      <th>wagon</th>\n",
       "      <td>9084.452985</td>\n",
       "      <td>1340</td>\n",
       "    </tr>\n",
       "  </tbody>\n",
       "</table>\n",
       "</div>"
      ],
      "text/plain": [
       "               price_mean  count\n",
       "type                            \n",
       "SUV          11323.162815  10730\n",
       "bus           6139.285714      7\n",
       "convertible  13193.835165    364\n",
       "coupe        14254.793651   1890\n",
       "hatchback     6875.744921    886\n",
       "mini-van      8079.843719   1011\n",
       "offroad      14564.684492    187\n",
       "other        11322.457547    212\n",
       "pickup       16061.980299   6091\n",
       "sedan         7070.255384  10447\n",
       "truck        16797.825043  10374\n",
       "van          10358.092279    531\n",
       "wagon         9084.452985   1340"
      ]
     },
     "execution_count": 136,
     "metadata": {},
     "output_type": "execute_result"
    }
   ],
   "source": [
    "data_filtered_pivot = data_filtered.pivot_table(index='type', values='price',aggfunc=['mean','count'])\n",
    "data_filtered_pivot.columns=['price_mean','count']\n",
    "data_filtered_pivot"
   ]
  },
  {
   "cell_type": "code",
   "execution_count": 142,
   "metadata": {},
   "outputs": [
    {
     "data": {
      "text/plain": [
       "<AxesSubplot:xlabel='type'>"
      ]
     },
     "execution_count": 142,
     "metadata": {},
     "output_type": "execute_result"
    },
    {
     "data": {
      "image/png": "[encoded data removed]",
      "text/plain": [
       "<Figure size 432x288 with 1 Axes>"
      ]
     },
     "metadata": {
      "needs_background": "light"
     },
     "output_type": "display_data"
    }
   ],
   "source": [
    "data_filtered_pivot['price_mean'].plot(kind='bar')"
   ]
  },
  {
   "cell_type": "code",
   "execution_count": 141,
   "metadata": {},
   "outputs": [
    {
     "data": {
      "text/plain": [
       "<AxesSubplot:xlabel='type'>"
      ]
     },
     "execution_count": 141,
     "metadata": {},
     "output_type": "execute_result"
    },
    {
     "data": {
      "image/png": "[encoded data removed]",
      "text/plain": [
       "<Figure size 432x288 with 1 Axes>"
      ]
     },
     "metadata": {
      "needs_background": "light"
     },
     "output_type": "display_data"
    }
   ],
   "source": [
    "data_filtered_pivot['count'].plot(kind='bar')"
   ]
  },
  {
   "cell_type": "markdown",
   "metadata": {},
   "source": [
    "Los tipos 'truck' y 'pickup' tienen los promedios de precio más altos de todos los vehículos.\n",
    "Sin embargo, 'SUV' tiene el mayor número de anuncios, seguido por 'sedan'."
   ]
  },
  {
   "cell_type": "markdown",
   "metadata": {},
   "source": [
    "## Factores de precio"
   ]
  },
  {
   "cell_type": "markdown",
   "metadata": {},
   "source": [
    "Vamos a analizar que variables tienen más impacto sobre el precio de los autos SUV y sedan.\n",
    "Para las variables númericas utilizaremos el gráfico de dispersión y para las categóricas utilizaremos gráficos de barras."
   ]
  },
  {
   "cell_type": "code",
   "execution_count": 152,
   "metadata": {},
   "outputs": [
    {
     "data": {
      "text/html": [
       "<div>\n",
       "<style scoped>\n",
       "    .dataframe tbody tr th:only-of-type {\n",
       "        vertical-align: middle;\n",
       "    }\n",
       "\n",
       "    .dataframe tbody tr th {\n",
       "        vertical-align: top;\n",
       "    }\n",
       "\n",
       "    .dataframe thead th {\n",
       "        text-align: right;\n",
       "    }\n",
       "</style>\n",
       "<table border=\"1\" class=\"dataframe\">\n",
       "  <thead>\n",
       "    <tr style=\"text-align: right;\">\n",
       "      <th></th>\n",
       "      <th>price</th>\n",
       "      <th>model_year</th>\n",
       "      <th>cylinders</th>\n",
       "      <th>odometer</th>\n",
       "      <th>is_4wd</th>\n",
       "      <th>days_listed</th>\n",
       "      <th>odometer_new</th>\n",
       "      <th>model_year_new</th>\n",
       "      <th>year_posted</th>\n",
       "      <th>month_posted</th>\n",
       "      <th>day_of_week_posted</th>\n",
       "      <th>years_old</th>\n",
       "      <th>avg_odometer_per_year</th>\n",
       "      <th>condition_new</th>\n",
       "    </tr>\n",
       "  </thead>\n",
       "  <tbody>\n",
       "    <tr>\n",
       "      <th>price</th>\n",
       "      <td>1.000000</td>\n",
       "      <td>0.584110</td>\n",
       "      <td>0.205400</td>\n",
       "      <td>-0.532399</td>\n",
       "      <td>0.301070</td>\n",
       "      <td>-0.003393</td>\n",
       "      <td>-0.526245</td>\n",
       "      <td>0.578466</td>\n",
       "      <td>0.015313</td>\n",
       "      <td>-0.011231</td>\n",
       "      <td>0.001403</td>\n",
       "      <td>-0.575507</td>\n",
       "      <td>0.294872</td>\n",
       "      <td>0.274507</td>\n",
       "    </tr>\n",
       "    <tr>\n",
       "      <th>model_year</th>\n",
       "      <td>0.584110</td>\n",
       "      <td>1.000000</td>\n",
       "      <td>-0.256904</td>\n",
       "      <td>-0.617661</td>\n",
       "      <td>-0.099575</td>\n",
       "      <td>-0.008907</td>\n",
       "      <td>-0.632209</td>\n",
       "      <td>1.000000</td>\n",
       "      <td>0.016155</td>\n",
       "      <td>-0.016666</td>\n",
       "      <td>-0.001982</td>\n",
       "      <td>-0.995871</td>\n",
       "      <td>0.547797</td>\n",
       "      <td>0.323837</td>\n",
       "    </tr>\n",
       "    <tr>\n",
       "      <th>cylinders</th>\n",
       "      <td>0.205400</td>\n",
       "      <td>-0.256904</td>\n",
       "      <td>1.000000</td>\n",
       "      <td>0.213665</td>\n",
       "      <td>0.416935</td>\n",
       "      <td>0.014604</td>\n",
       "      <td>0.215937</td>\n",
       "      <td>-0.253772</td>\n",
       "      <td>0.004724</td>\n",
       "      <td>-0.001500</td>\n",
       "      <td>-0.005196</td>\n",
       "      <td>0.253533</td>\n",
       "      <td>-0.118089</td>\n",
       "      <td>-0.073407</td>\n",
       "    </tr>\n",
       "    <tr>\n",
       "      <th>odometer</th>\n",
       "      <td>-0.532399</td>\n",
       "      <td>-0.617661</td>\n",
       "      <td>0.213665</td>\n",
       "      <td>1.000000</td>\n",
       "      <td>0.072234</td>\n",
       "      <td>0.014385</td>\n",
       "      <td>1.000000</td>\n",
       "      <td>-0.631292</td>\n",
       "      <td>-0.011117</td>\n",
       "      <td>0.014523</td>\n",
       "      <td>0.007163</td>\n",
       "      <td>0.628554</td>\n",
       "      <td>0.033755</td>\n",
       "      <td>-0.339156</td>\n",
       "    </tr>\n",
       "    <tr>\n",
       "      <th>is_4wd</th>\n",
       "      <td>0.301070</td>\n",
       "      <td>-0.099575</td>\n",
       "      <td>0.416935</td>\n",
       "      <td>0.072234</td>\n",
       "      <td>1.000000</td>\n",
       "      <td>0.007600</td>\n",
       "      <td>0.075475</td>\n",
       "      <td>-0.099392</td>\n",
       "      <td>0.001448</td>\n",
       "      <td>0.001823</td>\n",
       "      <td>0.004572</td>\n",
       "      <td>0.099261</td>\n",
       "      <td>-0.030305</td>\n",
       "      <td>-0.012324</td>\n",
       "    </tr>\n",
       "    <tr>\n",
       "      <th>days_listed</th>\n",
       "      <td>-0.003393</td>\n",
       "      <td>-0.008907</td>\n",
       "      <td>0.014604</td>\n",
       "      <td>0.014385</td>\n",
       "      <td>0.007600</td>\n",
       "      <td>1.000000</td>\n",
       "      <td>0.012514</td>\n",
       "      <td>-0.010227</td>\n",
       "      <td>0.003981</td>\n",
       "      <td>-0.005592</td>\n",
       "      <td>-0.000697</td>\n",
       "      <td>0.010568</td>\n",
       "      <td>-0.009762</td>\n",
       "      <td>-0.016305</td>\n",
       "    </tr>\n",
       "    <tr>\n",
       "      <th>odometer_new</th>\n",
       "      <td>-0.526245</td>\n",
       "      <td>-0.632209</td>\n",
       "      <td>0.215937</td>\n",
       "      <td>1.000000</td>\n",
       "      <td>0.075475</td>\n",
       "      <td>0.012514</td>\n",
       "      <td>1.000000</td>\n",
       "      <td>-0.642839</td>\n",
       "      <td>-0.010540</td>\n",
       "      <td>0.014329</td>\n",
       "      <td>0.005923</td>\n",
       "      <td>0.640150</td>\n",
       "      <td>-0.025241</td>\n",
       "      <td>-0.326498</td>\n",
       "    </tr>\n",
       "    <tr>\n",
       "      <th>model_year_new</th>\n",
       "      <td>0.578466</td>\n",
       "      <td>1.000000</td>\n",
       "      <td>-0.253772</td>\n",
       "      <td>-0.631292</td>\n",
       "      <td>-0.099392</td>\n",
       "      <td>-0.010227</td>\n",
       "      <td>-0.642839</td>\n",
       "      <td>1.000000</td>\n",
       "      <td>0.017521</td>\n",
       "      <td>-0.018192</td>\n",
       "      <td>-0.001370</td>\n",
       "      <td>-0.995712</td>\n",
       "      <td>0.530848</td>\n",
       "      <td>0.322954</td>\n",
       "    </tr>\n",
       "    <tr>\n",
       "      <th>year_posted</th>\n",
       "      <td>0.015313</td>\n",
       "      <td>0.016155</td>\n",
       "      <td>0.004724</td>\n",
       "      <td>-0.011117</td>\n",
       "      <td>0.001448</td>\n",
       "      <td>0.003981</td>\n",
       "      <td>-0.010540</td>\n",
       "      <td>0.017521</td>\n",
       "      <td>1.000000</td>\n",
       "      <td>-0.817683</td>\n",
       "      <td>-0.012180</td>\n",
       "      <td>0.075044</td>\n",
       "      <td>-0.118329</td>\n",
       "      <td>0.003067</td>\n",
       "    </tr>\n",
       "    <tr>\n",
       "      <th>month_posted</th>\n",
       "      <td>-0.011231</td>\n",
       "      <td>-0.016666</td>\n",
       "      <td>-0.001500</td>\n",
       "      <td>0.014523</td>\n",
       "      <td>0.001823</td>\n",
       "      <td>-0.005592</td>\n",
       "      <td>0.014329</td>\n",
       "      <td>-0.018192</td>\n",
       "      <td>-0.817683</td>\n",
       "      <td>1.000000</td>\n",
       "      <td>0.013017</td>\n",
       "      <td>-0.057508</td>\n",
       "      <td>0.100225</td>\n",
       "      <td>-0.001623</td>\n",
       "    </tr>\n",
       "    <tr>\n",
       "      <th>day_of_week_posted</th>\n",
       "      <td>0.001403</td>\n",
       "      <td>-0.001982</td>\n",
       "      <td>-0.005196</td>\n",
       "      <td>0.007163</td>\n",
       "      <td>0.004572</td>\n",
       "      <td>-0.000697</td>\n",
       "      <td>0.005923</td>\n",
       "      <td>-0.001370</td>\n",
       "      <td>-0.012180</td>\n",
       "      <td>0.013017</td>\n",
       "      <td>1.000000</td>\n",
       "      <td>0.000239</td>\n",
       "      <td>-0.003868</td>\n",
       "      <td>0.003450</td>\n",
       "    </tr>\n",
       "    <tr>\n",
       "      <th>years_old</th>\n",
       "      <td>-0.575507</td>\n",
       "      <td>-0.995871</td>\n",
       "      <td>0.253533</td>\n",
       "      <td>0.628554</td>\n",
       "      <td>0.099261</td>\n",
       "      <td>0.010568</td>\n",
       "      <td>0.640150</td>\n",
       "      <td>-0.995712</td>\n",
       "      <td>0.075044</td>\n",
       "      <td>-0.057508</td>\n",
       "      <td>0.000239</td>\n",
       "      <td>1.000000</td>\n",
       "      <td>-0.541243</td>\n",
       "      <td>-0.321809</td>\n",
       "    </tr>\n",
       "    <tr>\n",
       "      <th>avg_odometer_per_year</th>\n",
       "      <td>0.294872</td>\n",
       "      <td>0.547797</td>\n",
       "      <td>-0.118089</td>\n",
       "      <td>0.033755</td>\n",
       "      <td>-0.030305</td>\n",
       "      <td>-0.009762</td>\n",
       "      <td>-0.025241</td>\n",
       "      <td>0.530848</td>\n",
       "      <td>-0.118329</td>\n",
       "      <td>0.100225</td>\n",
       "      <td>-0.003868</td>\n",
       "      <td>-0.541243</td>\n",
       "      <td>1.000000</td>\n",
       "      <td>0.098842</td>\n",
       "    </tr>\n",
       "    <tr>\n",
       "      <th>condition_new</th>\n",
       "      <td>0.274507</td>\n",
       "      <td>0.323837</td>\n",
       "      <td>-0.073407</td>\n",
       "      <td>-0.339156</td>\n",
       "      <td>-0.012324</td>\n",
       "      <td>-0.016305</td>\n",
       "      <td>-0.326498</td>\n",
       "      <td>0.322954</td>\n",
       "      <td>0.003067</td>\n",
       "      <td>-0.001623</td>\n",
       "      <td>0.003450</td>\n",
       "      <td>-0.321809</td>\n",
       "      <td>0.098842</td>\n",
       "      <td>1.000000</td>\n",
       "    </tr>\n",
       "  </tbody>\n",
       "</table>\n",
       "</div>"
      ],
      "text/plain": [
       "                          price  model_year  cylinders  odometer    is_4wd  \\\n",
       "price                  1.000000    0.584110   0.205400 -0.532399  0.301070   \n",
       "model_year             0.584110    1.000000  -0.256904 -0.617661 -0.099575   \n",
       "cylinders              0.205400   -0.256904   1.000000  0.213665  0.416935   \n",
       "odometer              -0.532399   -0.617661   0.213665  1.000000  0.072234   \n",
       "is_4wd                 0.301070   -0.099575   0.416935  0.072234  1.000000   \n",
       "days_listed           -0.003393   -0.008907   0.014604  0.014385  0.007600   \n",
       "odometer_new          -0.526245   -0.632209   0.215937  1.000000  0.075475   \n",
       "model_year_new         0.578466    1.000000  -0.253772 -0.631292 -0.099392   \n",
       "year_posted            0.015313    0.016155   0.004724 -0.011117  0.001448   \n",
       "month_posted          -0.011231   -0.016666  -0.001500  0.014523  0.001823   \n",
       "day_of_week_posted     0.001403   -0.001982  -0.005196  0.007163  0.004572   \n",
       "years_old             -0.575507   -0.995871   0.253533  0.628554  0.099261   \n",
       "avg_odometer_per_year  0.294872    0.547797  -0.118089  0.033755 -0.030305   \n",
       "condition_new          0.274507    0.323837  -0.073407 -0.339156 -0.012324   \n",
       "\n",
       "                       days_listed  odometer_new  model_year_new  year_posted  \\\n",
       "price                    -0.003393     -0.526245        0.578466     0.015313   \n",
       "model_year               -0.008907     -0.632209        1.000000     0.016155   \n",
       "cylinders                 0.014604      0.215937       -0.253772     0.004724   \n",
       "odometer                  0.014385      1.000000       -0.631292    -0.011117   \n",
       "is_4wd                    0.007600      0.075475       -0.099392     0.001448   \n",
       "days_listed               1.000000      0.012514       -0.010227     0.003981   \n",
       "odometer_new              0.012514      1.000000       -0.642839    -0.010540   \n",
       "model_year_new           -0.010227     -0.642839        1.000000     0.017521   \n",
       "year_posted               0.003981     -0.010540        0.017521     1.000000   \n",
       "month_posted             -0.005592      0.014329       -0.018192    -0.817683   \n",
       "day_of_week_posted       -0.000697      0.005923       -0.001370    -0.012180   \n",
       "years_old                 0.010568      0.640150       -0.995712     0.075044   \n",
       "avg_odometer_per_year    -0.009762     -0.025241        0.530848    -0.118329   \n",
       "condition_new            -0.016305     -0.326498        0.322954     0.003067   \n",
       "\n",
       "                       month_posted  day_of_week_posted  years_old  \\\n",
       "price                     -0.011231            0.001403  -0.575507   \n",
       "model_year                -0.016666           -0.001982  -0.995871   \n",
       "cylinders                 -0.001500           -0.005196   0.253533   \n",
       "odometer                   0.014523            0.007163   0.628554   \n",
       "is_4wd                     0.001823            0.004572   0.099261   \n",
       "days_listed               -0.005592           -0.000697   0.010568   \n",
       "odometer_new               0.014329            0.005923   0.640150   \n",
       "model_year_new            -0.018192           -0.001370  -0.995712   \n",
       "year_posted               -0.817683           -0.012180   0.075044   \n",
       "month_posted               1.000000            0.013017  -0.057508   \n",
       "day_of_week_posted         0.013017            1.000000   0.000239   \n",
       "years_old                 -0.057508            0.000239   1.000000   \n",
       "avg_odometer_per_year      0.100225           -0.003868  -0.541243   \n",
       "condition_new             -0.001623            0.003450  -0.321809   \n",
       "\n",
       "                       avg_odometer_per_year  condition_new  \n",
       "price                               0.294872       0.274507  \n",
       "model_year                          0.547797       0.323837  \n",
       "cylinders                          -0.118089      -0.073407  \n",
       "odometer                            0.033755      -0.339156  \n",
       "is_4wd                             -0.030305      -0.012324  \n",
       "days_listed                        -0.009762      -0.016305  \n",
       "odometer_new                       -0.025241      -0.326498  \n",
       "model_year_new                      0.530848       0.322954  \n",
       "year_posted                        -0.118329       0.003067  \n",
       "month_posted                        0.100225      -0.001623  \n",
       "day_of_week_posted                 -0.003868       0.003450  \n",
       "years_old                          -0.541243      -0.321809  \n",
       "avg_odometer_per_year               1.000000       0.098842  \n",
       "condition_new                       0.098842       1.000000  "
      ]
     },
     "execution_count": 152,
     "metadata": {},
     "output_type": "execute_result"
    }
   ],
   "source": [
    "data_filtered_type = data_filtered.query('type == \"SUV\" | type == \"sedan\"')\n",
    "data_filtered_type.corr()"
   ]
  },
  {
   "cell_type": "code",
   "execution_count": 157,
   "metadata": {},
   "outputs": [
    {
     "data": {
      "text/plain": [
       "<AxesSubplot:xlabel='years_old', ylabel='price'>"
      ]
     },
     "execution_count": 157,
     "metadata": {},
     "output_type": "execute_result"
    },
    {
     "data": {
      "image/png": "[encoded data removed]",
      "text/plain": [
       "<Figure size 432x288 with 1 Axes>"
      ]
     },
     "metadata": {
      "needs_background": "light"
     },
     "output_type": "display_data"
    }
   ],
   "source": [
    "data_filtered_type.plot.scatter(x = 'years_old', y = 'price', alpha=.03)"
   ]
  },
  {
   "cell_type": "markdown",
   "metadata": {},
   "source": [
    "Para la variable de edad del auto, encontramos que el precio va disminuyendo conforme la edad sea mayor."
   ]
  },
  {
   "cell_type": "code",
   "execution_count": 158,
   "metadata": {},
   "outputs": [
    {
     "data": {
      "text/plain": [
       "<AxesSubplot:xlabel='odometer_new', ylabel='price'>"
      ]
     },
     "execution_count": 158,
     "metadata": {},
     "output_type": "execute_result"
    },
    {
     "data": {
      "image/png": "[encoded data removed]",
      "text/plain": [
       "<Figure size 432x288 with 1 Axes>"
      ]
     },
     "metadata": {
      "needs_background": "light"
     },
     "output_type": "display_data"
    }
   ],
   "source": [
    "data_filtered_type.plot.scatter(x = 'odometer_new', y = 'price', alpha=.03)"
   ]
  },
  {
   "cell_type": "markdown",
   "metadata": {},
   "source": [
    "Para la variable de millaje, encontramos que el precio disminuye conforme el millaje es mayor."
   ]
  },
  {
   "cell_type": "code",
   "execution_count": 159,
   "metadata": {},
   "outputs": [
    {
     "data": {
      "text/plain": [
       "<AxesSubplot:xlabel='condition_new', ylabel='price'>"
      ]
     },
     "execution_count": 159,
     "metadata": {},
     "output_type": "execute_result"
    },
    {
     "data": {
      "image/png": "[encoded data removed]",
      "text/plain": [
       "<Figure size 432x288 with 1 Axes>"
      ]
     },
     "metadata": {
      "needs_background": "light"
     },
     "output_type": "display_data"
    }
   ],
   "source": [
    "data_filtered_type.plot.scatter(x = 'condition_new', y = 'price', alpha=.03)"
   ]
  },
  {
   "cell_type": "markdown",
   "metadata": {},
   "source": [
    "Para la variable de condición, sí hay una correlación entre el precio y condición del auto, sin embargo, esta correlación no es tan fuerte como las anteriores."
   ]
  },
  {
   "cell_type": "code",
   "execution_count": 173,
   "metadata": {},
   "outputs": [
    {
     "data": {
      "text/plain": [
       "<AxesSubplot:xlabel='transmission'>"
      ]
     },
     "execution_count": 173,
     "metadata": {},
     "output_type": "execute_result"
    },
    {
     "data": {
      "image/png": "[encoded data removed]",
      "text/plain": [
       "<Figure size 432x288 with 1 Axes>"
      ]
     },
     "metadata": {
      "needs_background": "light"
     },
     "output_type": "display_data"
    }
   ],
   "source": [
    "data_filtered_type.pivot_table(index='transmission', values='price', aggfunc=['median', 'count']).plot(kind='bar')"
   ]
  },
  {
   "cell_type": "markdown",
   "metadata": {},
   "source": [
    "En promedio, los autos con transmisión automática tienen un costo un poco más elevado que los manuales. Sin embargo, la transmisión 'otra' tiene un costo más elevado pero con una muestra de datos muy baja."
   ]
  },
  {
   "cell_type": "code",
   "execution_count": 172,
   "metadata": {},
   "outputs": [
    {
     "data": {
      "text/plain": [
       "<AxesSubplot:xlabel='paint_color'>"
      ]
     },
     "execution_count": 172,
     "metadata": {},
     "output_type": "execute_result"
    },
    {
     "data": {
      "image/png": "[encoded data removed]",
      "text/plain": [
       "<Figure size 432x288 with 1 Axes>"
      ]
     },
     "metadata": {
      "needs_background": "light"
     },
     "output_type": "display_data"
    }
   ],
   "source": [
    "data_filtered_type.pivot_table(index='paint_color', values='price', aggfunc=['median', 'count']).plot(kind='bar')"
   ]
  },
  {
   "cell_type": "markdown",
   "metadata": {},
   "source": [
    "En promedio, el costo de los autos naranjas suele ser el más elevado de los colores, seguido por el color negro. Sin embargo, la muestra de los autos naranjas es muy baja."
   ]
  },
  {
   "cell_type": "markdown",
   "metadata": {},
   "source": [
    "## Conclusión general\n"
   ]
  },
  {
   "cell_type": "markdown",
   "metadata": {},
   "source": [
    "En un inicio pudimos ver que hay datos faltantes en las columnas de 'model_year', 'cylinders', 'odomoter' y 'paint_color'. Algunas de estas las rellenamos con la media dependiendo de otras varibles. Además, la columna de date_posted fue ajustada a un formato datetime.\n",
    "\n",
    "Ajustamos la columna de is_4wd ya que tenía valores de 1 y NaN. Sin embargo el NaN debía ser 0 porque era una variable con datos booleanos.\n",
    "\n",
    "La columna de cylinders no se relaciona con las otras variables más que con is_4wd pero aún así, no lo suficiente, por lo que dejaremos esta variable así y eliminaremos esas filas ya que solo representa el 8% de las filas.\n",
    "\n",
    "Se revisó si había datos duplicados pero no se encontraron duplicados.\n",
    "\n",
    "Agregamos nuevas columnas tomando datos de la fecha para poder tener el año del auto. Después, se calculó la edad del auto y se asignó a una nueva variable. También, se calculó el promedio de millaje por cada año de uso del auto y se asignó a una nueva variable.\n",
    "\n",
    "Transformamos la variable catégotica de condition a variable númerica para poder hacer análisis más adelante.\n",
    "\n",
    "Se comenzó a hacer una análisis para ver valores atípicos en las variables y determinamos los mínimos y máximos para cada una de esas variables, resultando en un dataframe filtrado.\n",
    "\n",
    "Finalmente se hicieron análisis para determinar el precio promedio y el número de anuncios por cada tipo de vehículo.\n",
    "\n",
    "Determinamos que los SUVs y los sedan, eran los que más anuncios tenían, por lo que seguimos a realizar un análisis más profundo solamente con este tipo de autos y determinamos lo siguiente:\n",
    "- Para la variable de edad del auto, encontramos que el precio va disminuyendo conforme la edad sea mayor.\n",
    "- Para la variable de millaje, encontramos que el precio disminuye conforme el millaje es mayor.\n",
    "- Para la variable de condición, sí hay una correlación entre el precio y condición del auto, sin embargo, esta correlación no es tan fuerte como las anteriores.\n",
    "- En promedio, los autos con transmisión automática tienen un costo un poco más elevado que los manuales. Sin embargo, la transmisión 'otra' tiene un costo más elevado pero con una muestra de datos muy baja.\n",
    "- En promedio, el costo de los autos naranjas suele ser el más elevado de los colores, seguido por el color negro. Sin embargo, la muestra de los autos naranjas es muy baja."
   ]
  }
 ],
 "metadata": {
  "ExecuteTimeLog": [
   {
    "duration": 828,
    "start_time": "2021-11-16T09:21:11.304Z"
   },
   {
    "duration": 893,
    "start_time": "2021-11-16T09:21:17.728Z"
   },
   {
    "duration": 1150,
    "start_time": "2021-11-16T09:21:29.568Z"
   },
   {
    "duration": 3,
    "start_time": "2021-11-16T09:24:14.495Z"
   },
   {
    "duration": 120,
    "start_time": "2021-11-16T09:24:46.630Z"
   },
   {
    "duration": 3,
    "start_time": "2021-11-16T09:28:27.882Z"
   },
   {
    "duration": 4,
    "start_time": "2021-11-16T09:29:54.281Z"
   },
   {
    "duration": 3,
    "start_time": "2021-11-16T09:30:45.936Z"
   },
   {
    "duration": 4,
    "start_time": "2021-11-16T09:31:06.300Z"
   },
   {
    "duration": 113,
    "start_time": "2021-11-16T09:31:37.208Z"
   },
   {
    "duration": 143,
    "start_time": "2021-11-16T09:31:48.656Z"
   },
   {
    "duration": 98,
    "start_time": "2021-11-16T09:31:55.678Z"
   },
   {
    "duration": 3,
    "start_time": "2021-11-16T09:32:08.535Z"
   },
   {
    "duration": 111,
    "start_time": "2021-11-16T09:32:10.120Z"
   },
   {
    "duration": 3,
    "start_time": "2021-11-16T09:32:15.732Z"
   },
   {
    "duration": 4,
    "start_time": "2021-11-16T09:32:29.423Z"
   },
   {
    "duration": 3,
    "start_time": "2021-11-16T10:03:03.074Z"
   },
   {
    "duration": 3,
    "start_time": "2021-11-16T10:10:01.288Z"
   },
   {
    "duration": 3,
    "start_time": "2021-11-16T10:10:46.923Z"
   },
   {
    "duration": 121,
    "start_time": "2021-11-16T10:37:46.494Z"
   },
   {
    "duration": 125,
    "start_time": "2021-11-16T10:38:20.632Z"
   },
   {
    "duration": 112,
    "start_time": "2021-11-16T10:46:53.001Z"
   },
   {
    "duration": 110,
    "start_time": "2021-11-16T10:48:25.775Z"
   },
   {
    "duration": 3,
    "start_time": "2021-11-16T10:50:18.720Z"
   },
   {
    "duration": 4,
    "start_time": "2021-11-16T10:50:37.649Z"
   },
   {
    "duration": 2,
    "start_time": "2021-11-16T10:50:51.884Z"
   },
   {
    "duration": 3,
    "start_time": "2021-11-16T10:51:56.237Z"
   },
   {
    "duration": 101,
    "start_time": "2021-11-16T10:53:13.791Z"
   },
   {
    "duration": 3,
    "start_time": "2021-11-16T10:55:59.186Z"
   },
   {
    "duration": 3,
    "start_time": "2021-11-16T10:56:10.751Z"
   },
   {
    "duration": 3,
    "start_time": "2021-11-16T10:56:49.038Z"
   },
   {
    "duration": 3,
    "start_time": "2021-11-16T10:56:49.174Z"
   },
   {
    "duration": 4,
    "start_time": "2021-11-16T10:56:49.414Z"
   },
   {
    "duration": 3,
    "start_time": "2021-11-16T10:56:49.680Z"
   },
   {
    "duration": 3,
    "start_time": "2021-11-16T10:56:50.370Z"
   },
   {
    "duration": 114,
    "start_time": "2021-11-16T10:59:34.518Z"
   },
   {
    "duration": 3,
    "start_time": "2021-11-16T11:01:41.201Z"
   },
   {
    "duration": 116,
    "start_time": "2021-11-16T11:01:48.754Z"
   },
   {
    "duration": 3,
    "start_time": "2021-11-16T11:02:16.685Z"
   },
   {
    "duration": 3,
    "start_time": "2021-11-16T11:02:19.479Z"
   },
   {
    "duration": 3,
    "start_time": "2021-11-16T11:02:47.067Z"
   },
   {
    "duration": 3,
    "start_time": "2021-11-16T11:02:49.353Z"
   },
   {
    "duration": 3,
    "start_time": "2021-11-16T11:03:07.835Z"
   },
   {
    "duration": 3,
    "start_time": "2021-11-16T11:03:07.953Z"
   },
   {
    "duration": 112,
    "start_time": "2021-11-16T11:07:52.072Z"
   },
   {
    "duration": 187,
    "start_time": "2021-11-16T11:09:23.468Z"
   },
   {
    "duration": 4,
    "start_time": "2021-11-16T11:10:01.455Z"
   },
   {
    "duration": 3,
    "start_time": "2021-11-16T11:10:05.069Z"
   },
   {
    "duration": 4,
    "start_time": "2021-11-16T11:10:13.376Z"
   },
   {
    "duration": 3,
    "start_time": "2021-11-16T11:10:14.434Z"
   },
   {
    "duration": 3,
    "start_time": "2021-11-16T11:10:22.853Z"
   },
   {
    "duration": 4,
    "start_time": "2021-11-16T11:27:29.279Z"
   },
   {
    "duration": 4,
    "start_time": "2021-11-16T11:29:08.919Z"
   },
   {
    "duration": 118,
    "start_time": "2021-11-16T11:29:46.703Z"
   },
   {
    "duration": 437,
    "start_time": "2021-11-16T11:36:02.181Z"
   },
   {
    "duration": 157,
    "start_time": "2021-11-16T11:36:14.388Z"
   },
   {
    "duration": 207,
    "start_time": "2021-11-16T11:47:15.898Z"
   },
   {
    "duration": 3,
    "start_time": "2021-11-16T11:53:52.092Z"
   },
   {
    "duration": 3,
    "start_time": "2021-11-16T11:53:52.236Z"
   },
   {
    "duration": 3,
    "start_time": "2021-11-16T11:59:12.005Z"
   },
   {
    "duration": 112,
    "start_time": "2021-11-16T12:00:33.446Z"
   },
   {
    "duration": 3,
    "start_time": "2021-11-16T12:02:14.453Z"
   },
   {
    "duration": 3,
    "start_time": "2021-11-16T12:02:39.512Z"
   },
   {
    "duration": 106,
    "start_time": "2021-11-16T12:03:03.460Z"
   },
   {
    "duration": 3,
    "start_time": "2022-06-08T21:18:31.194Z"
   },
   {
    "duration": 108,
    "start_time": "2022-06-08T21:18:42.983Z"
   },
   {
    "duration": 27,
    "start_time": "2022-06-08T21:19:24.511Z"
   },
   {
    "duration": 23,
    "start_time": "2022-06-08T21:20:25.526Z"
   },
   {
    "duration": 18,
    "start_time": "2022-06-08T21:20:27.212Z"
   },
   {
    "duration": 16,
    "start_time": "2022-06-08T21:22:33.307Z"
   },
   {
    "duration": 19,
    "start_time": "2022-06-08T21:26:31.643Z"
   },
   {
    "duration": 4,
    "start_time": "2022-06-08T21:26:56.340Z"
   },
   {
    "duration": 7,
    "start_time": "2022-06-08T22:07:34.599Z"
   },
   {
    "duration": 1397,
    "start_time": "2022-06-08T22:10:27.995Z"
   },
   {
    "duration": 1437,
    "start_time": "2022-06-08T22:11:37.382Z"
   },
   {
    "duration": 1308,
    "start_time": "2022-06-08T22:19:20.225Z"
   },
   {
    "duration": 1368,
    "start_time": "2022-06-08T22:19:34.605Z"
   },
   {
    "duration": 1573,
    "start_time": "2022-06-08T22:29:27.386Z"
   },
   {
    "duration": 28,
    "start_time": "2022-06-08T22:30:05.884Z"
   },
   {
    "duration": 1448,
    "start_time": "2022-06-08T22:30:15.089Z"
   },
   {
    "duration": 68,
    "start_time": "2022-06-08T22:30:54.278Z"
   },
   {
    "duration": 1295,
    "start_time": "2022-06-08T22:31:06.894Z"
   },
   {
    "duration": 25,
    "start_time": "2022-06-08T22:37:34.829Z"
   },
   {
    "duration": 11,
    "start_time": "2022-06-09T22:15:05.149Z"
   },
   {
    "duration": 44,
    "start_time": "2022-06-10T23:40:29.354Z"
   },
   {
    "duration": 370,
    "start_time": "2022-06-10T23:40:33.339Z"
   },
   {
    "duration": 169,
    "start_time": "2022-06-10T23:40:33.711Z"
   },
   {
    "duration": 28,
    "start_time": "2022-06-10T23:40:33.882Z"
   },
   {
    "duration": 38,
    "start_time": "2022-06-10T23:40:33.911Z"
   },
   {
    "duration": 17,
    "start_time": "2022-06-10T23:40:33.952Z"
   },
   {
    "duration": 26,
    "start_time": "2022-06-10T23:43:29.610Z"
   },
   {
    "duration": 23,
    "start_time": "2022-06-10T23:44:21.508Z"
   },
   {
    "duration": 20,
    "start_time": "2022-06-10T23:44:39.511Z"
   },
   {
    "duration": 17,
    "start_time": "2022-06-10T23:44:43.251Z"
   },
   {
    "duration": 31,
    "start_time": "2022-06-10T23:44:48.770Z"
   },
   {
    "duration": 15,
    "start_time": "2022-06-10T23:44:59.705Z"
   },
   {
    "duration": 2,
    "start_time": "2022-06-10T23:45:47.800Z"
   },
   {
    "duration": 108,
    "start_time": "2022-06-10T23:45:47.804Z"
   },
   {
    "duration": 21,
    "start_time": "2022-06-10T23:45:47.914Z"
   },
   {
    "duration": 19,
    "start_time": "2022-06-10T23:45:47.937Z"
   },
   {
    "duration": 11,
    "start_time": "2022-06-10T23:45:50.686Z"
   },
   {
    "duration": 10,
    "start_time": "2022-06-10T23:46:08.023Z"
   },
   {
    "duration": 5,
    "start_time": "2022-06-10T23:52:36.505Z"
   },
   {
    "duration": 13,
    "start_time": "2022-06-10T23:52:43.105Z"
   },
   {
    "duration": 17,
    "start_time": "2022-06-10T23:54:36.104Z"
   },
   {
    "duration": 16,
    "start_time": "2022-06-10T23:55:23.569Z"
   },
   {
    "duration": 16,
    "start_time": "2022-06-10T23:55:56.042Z"
   },
   {
    "duration": 10,
    "start_time": "2022-06-10T23:58:39.090Z"
   },
   {
    "duration": 14,
    "start_time": "2022-06-10T23:59:16.542Z"
   },
   {
    "duration": 362,
    "start_time": "2022-06-10T23:59:40.961Z"
   },
   {
    "duration": 100,
    "start_time": "2022-06-10T23:59:41.325Z"
   },
   {
    "duration": 23,
    "start_time": "2022-06-10T23:59:41.427Z"
   },
   {
    "duration": 20,
    "start_time": "2022-06-10T23:59:41.452Z"
   },
   {
    "duration": 16,
    "start_time": "2022-06-10T23:59:43.953Z"
   },
   {
    "duration": 11,
    "start_time": "2022-06-10T23:59:47.090Z"
   },
   {
    "duration": 6,
    "start_time": "2022-06-10T23:59:55.163Z"
   },
   {
    "duration": 448,
    "start_time": "2022-06-11T00:03:33.670Z"
   },
   {
    "duration": 7,
    "start_time": "2022-06-11T00:03:56.740Z"
   },
   {
    "duration": 2,
    "start_time": "2022-06-11T01:13:57.866Z"
   },
   {
    "duration": 110,
    "start_time": "2022-06-11T01:13:57.870Z"
   },
   {
    "duration": 23,
    "start_time": "2022-06-11T01:13:57.982Z"
   },
   {
    "duration": 22,
    "start_time": "2022-06-11T01:13:58.007Z"
   },
   {
    "duration": 15,
    "start_time": "2022-06-11T01:13:58.030Z"
   },
   {
    "duration": 109,
    "start_time": "2022-06-11T01:14:00.094Z"
   },
   {
    "duration": 148,
    "start_time": "2022-06-11T01:14:26.221Z"
   },
   {
    "duration": 3,
    "start_time": "2022-06-11T01:18:56.217Z"
   },
   {
    "duration": 141,
    "start_time": "2022-06-11T01:18:56.225Z"
   },
   {
    "duration": 35,
    "start_time": "2022-06-11T01:18:56.368Z"
   },
   {
    "duration": 14,
    "start_time": "2022-06-11T01:18:56.430Z"
   },
   {
    "duration": 2,
    "start_time": "2022-06-11T01:18:58.319Z"
   },
   {
    "duration": 70,
    "start_time": "2022-06-11T01:18:59.372Z"
   },
   {
    "duration": 14,
    "start_time": "2022-06-11T01:19:09.346Z"
   },
   {
    "duration": 2,
    "start_time": "2022-06-11T01:19:34.876Z"
   },
   {
    "duration": 12,
    "start_time": "2022-06-11T01:21:18.233Z"
   },
   {
    "duration": 31,
    "start_time": "2022-06-11T01:21:30.406Z"
   },
   {
    "duration": 29,
    "start_time": "2022-06-11T01:21:48.670Z"
   },
   {
    "duration": 38,
    "start_time": "2022-06-11T01:22:03.867Z"
   },
   {
    "duration": 31,
    "start_time": "2022-06-11T01:38:23.446Z"
   },
   {
    "duration": 10,
    "start_time": "2022-06-11T01:40:20.315Z"
   },
   {
    "duration": 13,
    "start_time": "2022-06-11T01:40:49.525Z"
   },
   {
    "duration": 10,
    "start_time": "2022-06-11T01:40:56.900Z"
   },
   {
    "duration": 104,
    "start_time": "2022-06-11T01:41:43.071Z"
   },
   {
    "duration": 161,
    "start_time": "2022-06-11T01:42:07.376Z"
   },
   {
    "duration": 150,
    "start_time": "2022-06-11T01:42:45.547Z"
   },
   {
    "duration": 203,
    "start_time": "2022-06-11T01:42:52.936Z"
   },
   {
    "duration": 231,
    "start_time": "2022-06-11T01:43:14.633Z"
   },
   {
    "duration": 210,
    "start_time": "2022-06-11T01:43:26.529Z"
   },
   {
    "duration": 27,
    "start_time": "2022-06-11T01:44:02.297Z"
   },
   {
    "duration": 210,
    "start_time": "2022-06-11T01:44:11.670Z"
   },
   {
    "duration": 408,
    "start_time": "2022-06-11T01:51:13.640Z"
   },
   {
    "duration": 202,
    "start_time": "2022-06-11T01:51:29.431Z"
   },
   {
    "duration": 202,
    "start_time": "2022-06-11T01:53:06.866Z"
   },
   {
    "duration": 45,
    "start_time": "2022-06-11T01:59:38.770Z"
   },
   {
    "duration": 25,
    "start_time": "2022-06-11T16:53:34.915Z"
   },
   {
    "duration": 25,
    "start_time": "2022-06-11T16:53:49.859Z"
   },
   {
    "duration": 43,
    "start_time": "2022-06-11T16:59:38.276Z"
   },
   {
    "duration": 34,
    "start_time": "2022-06-11T17:24:27.386Z"
   },
   {
    "duration": 15,
    "start_time": "2022-06-11T17:25:53.060Z"
   },
   {
    "duration": 13,
    "start_time": "2022-06-11T17:26:06.244Z"
   },
   {
    "duration": 4,
    "start_time": "2022-06-11T17:31:40.377Z"
   },
   {
    "duration": 260,
    "start_time": "2022-06-11T17:31:40.383Z"
   },
   {
    "duration": 31,
    "start_time": "2022-06-11T17:31:40.644Z"
   },
   {
    "duration": 34,
    "start_time": "2022-06-11T17:31:40.678Z"
   },
   {
    "duration": 35,
    "start_time": "2022-06-11T17:31:40.715Z"
   },
   {
    "duration": 326,
    "start_time": "2022-06-11T17:31:40.752Z"
   },
   {
    "duration": 257,
    "start_time": "2022-06-11T17:31:41.081Z"
   },
   {
    "duration": 66,
    "start_time": "2022-06-11T17:31:41.339Z"
   },
   {
    "duration": 19,
    "start_time": "2022-06-11T17:31:41.406Z"
   },
   {
    "duration": 48,
    "start_time": "2022-06-11T17:31:41.426Z"
   },
   {
    "duration": 439,
    "start_time": "2022-06-11T17:31:43.958Z"
   },
   {
    "duration": 799,
    "start_time": "2022-06-11T17:32:58.746Z"
   },
   {
    "duration": 471,
    "start_time": "2022-06-11T17:35:49.145Z"
   },
   {
    "duration": 240,
    "start_time": "2022-06-11T17:38:07.528Z"
   },
   {
    "duration": 232,
    "start_time": "2022-06-11T17:40:24.909Z"
   },
   {
    "duration": 651,
    "start_time": "2022-06-11T17:40:51.045Z"
   },
   {
    "duration": 205,
    "start_time": "2022-06-11T17:41:41.370Z"
   },
   {
    "duration": 674,
    "start_time": "2022-06-11T17:42:01.342Z"
   },
   {
    "duration": 2,
    "start_time": "2022-06-11T17:47:15.017Z"
   },
   {
    "duration": 154,
    "start_time": "2022-06-11T17:47:15.021Z"
   },
   {
    "duration": 22,
    "start_time": "2022-06-11T17:47:15.177Z"
   },
   {
    "duration": 15,
    "start_time": "2022-06-11T17:47:15.202Z"
   },
   {
    "duration": 51,
    "start_time": "2022-06-11T17:47:15.219Z"
   },
   {
    "duration": 22,
    "start_time": "2022-06-11T17:47:18.275Z"
   },
   {
    "duration": 5,
    "start_time": "2022-06-11T17:48:27.404Z"
   },
   {
    "duration": 21,
    "start_time": "2022-06-11T17:48:33.753Z"
   },
   {
    "duration": 38,
    "start_time": "2022-06-11T17:49:36.579Z"
   },
   {
    "duration": 22,
    "start_time": "2022-06-11T17:56:46.389Z"
   },
   {
    "duration": 13,
    "start_time": "2022-06-11T17:57:55.279Z"
   },
   {
    "duration": 2,
    "start_time": "2022-06-11T17:59:34.797Z"
   },
   {
    "duration": 120,
    "start_time": "2022-06-11T17:59:34.801Z"
   },
   {
    "duration": 24,
    "start_time": "2022-06-11T17:59:34.923Z"
   },
   {
    "duration": 28,
    "start_time": "2022-06-11T17:59:34.949Z"
   },
   {
    "duration": 34,
    "start_time": "2022-06-11T17:59:34.979Z"
   },
   {
    "duration": 15,
    "start_time": "2022-06-11T17:59:35.014Z"
   },
   {
    "duration": 29,
    "start_time": "2022-06-11T17:59:35.031Z"
   },
   {
    "duration": 225,
    "start_time": "2022-06-11T17:59:35.061Z"
   },
   {
    "duration": 311,
    "start_time": "2022-06-11T17:59:35.288Z"
   },
   {
    "duration": 59,
    "start_time": "2022-06-11T17:59:35.601Z"
   },
   {
    "duration": 19,
    "start_time": "2022-06-11T17:59:35.662Z"
   },
   {
    "duration": 14,
    "start_time": "2022-06-11T17:59:35.683Z"
   },
   {
    "duration": 690,
    "start_time": "2022-06-11T17:59:35.699Z"
   },
   {
    "duration": 17,
    "start_time": "2022-06-11T17:59:38.680Z"
   },
   {
    "duration": 15,
    "start_time": "2022-06-11T17:59:40.252Z"
   },
   {
    "duration": 608,
    "start_time": "2022-06-11T18:04:06.311Z"
   },
   {
    "duration": 754,
    "start_time": "2022-06-11T18:04:25.635Z"
   },
   {
    "duration": 35,
    "start_time": "2022-06-11T18:04:47.378Z"
   },
   {
    "duration": 18,
    "start_time": "2022-06-11T18:08:06.058Z"
   },
   {
    "duration": 23,
    "start_time": "2022-06-11T18:09:19.473Z"
   },
   {
    "duration": 25,
    "start_time": "2022-06-11T18:13:58.972Z"
   },
   {
    "duration": 27,
    "start_time": "2022-06-11T18:15:56.368Z"
   },
   {
    "duration": 3,
    "start_time": "2022-06-11T18:16:06.558Z"
   },
   {
    "duration": 112,
    "start_time": "2022-06-11T18:16:06.563Z"
   },
   {
    "duration": 25,
    "start_time": "2022-06-11T18:16:06.676Z"
   },
   {
    "duration": 14,
    "start_time": "2022-06-11T18:16:06.703Z"
   },
   {
    "duration": 55,
    "start_time": "2022-06-11T18:16:06.719Z"
   },
   {
    "duration": 18,
    "start_time": "2022-06-11T18:16:06.776Z"
   },
   {
    "duration": 14,
    "start_time": "2022-06-11T18:16:06.795Z"
   },
   {
    "duration": 236,
    "start_time": "2022-06-11T18:16:06.811Z"
   },
   {
    "duration": 376,
    "start_time": "2022-06-11T18:16:07.049Z"
   },
   {
    "duration": 52,
    "start_time": "2022-06-11T18:16:07.427Z"
   },
   {
    "duration": 23,
    "start_time": "2022-06-11T18:16:07.481Z"
   },
   {
    "duration": 14,
    "start_time": "2022-06-11T18:16:07.505Z"
   },
   {
    "duration": 688,
    "start_time": "2022-06-11T18:16:07.521Z"
   },
   {
    "duration": 14,
    "start_time": "2022-06-11T18:16:08.210Z"
   },
   {
    "duration": 15,
    "start_time": "2022-06-11T18:16:08.226Z"
   },
   {
    "duration": 750,
    "start_time": "2022-06-11T18:16:08.242Z"
   },
   {
    "duration": 25,
    "start_time": "2022-06-11T18:16:08.994Z"
   },
   {
    "duration": 40,
    "start_time": "2022-06-11T18:16:09.020Z"
   },
   {
    "duration": 25,
    "start_time": "2022-06-11T18:16:11.058Z"
   },
   {
    "duration": 31,
    "start_time": "2022-06-11T18:17:35.810Z"
   },
   {
    "duration": 712,
    "start_time": "2022-06-11T18:18:12.563Z"
   },
   {
    "duration": 771,
    "start_time": "2022-06-11T18:18:47.729Z"
   },
   {
    "duration": 3,
    "start_time": "2022-06-11T18:20:13.622Z"
   },
   {
    "duration": 109,
    "start_time": "2022-06-11T18:20:13.627Z"
   },
   {
    "duration": 26,
    "start_time": "2022-06-11T18:20:13.738Z"
   },
   {
    "duration": 15,
    "start_time": "2022-06-11T18:20:13.766Z"
   },
   {
    "duration": 33,
    "start_time": "2022-06-11T18:20:13.783Z"
   },
   {
    "duration": 43,
    "start_time": "2022-06-11T18:20:13.818Z"
   },
   {
    "duration": 15,
    "start_time": "2022-06-11T18:20:13.862Z"
   },
   {
    "duration": 238,
    "start_time": "2022-06-11T18:20:13.879Z"
   },
   {
    "duration": 273,
    "start_time": "2022-06-11T18:20:14.120Z"
   },
   {
    "duration": 47,
    "start_time": "2022-06-11T18:20:14.395Z"
   },
   {
    "duration": 31,
    "start_time": "2022-06-11T18:20:14.444Z"
   },
   {
    "duration": 16,
    "start_time": "2022-06-11T18:20:14.478Z"
   },
   {
    "duration": 822,
    "start_time": "2022-06-11T18:20:14.496Z"
   },
   {
    "duration": 16,
    "start_time": "2022-06-11T18:20:15.319Z"
   },
   {
    "duration": 32,
    "start_time": "2022-06-11T18:20:15.336Z"
   },
   {
    "duration": 654,
    "start_time": "2022-06-11T18:20:15.369Z"
   },
   {
    "duration": 35,
    "start_time": "2022-06-11T18:20:16.026Z"
   },
   {
    "duration": 23,
    "start_time": "2022-06-11T18:20:16.063Z"
   },
   {
    "duration": 28,
    "start_time": "2022-06-11T18:20:17.564Z"
   },
   {
    "duration": 24,
    "start_time": "2022-06-11T18:22:55.113Z"
   },
   {
    "duration": 18,
    "start_time": "2022-06-11T18:23:04.979Z"
   },
   {
    "duration": 34,
    "start_time": "2022-06-11T18:23:13.506Z"
   },
   {
    "duration": 34,
    "start_time": "2022-06-11T18:23:43.824Z"
   },
   {
    "duration": 30,
    "start_time": "2022-06-11T18:24:02.348Z"
   },
   {
    "duration": 2,
    "start_time": "2022-06-11T18:24:10.311Z"
   },
   {
    "duration": 118,
    "start_time": "2022-06-11T18:24:10.315Z"
   },
   {
    "duration": 31,
    "start_time": "2022-06-11T18:24:10.434Z"
   },
   {
    "duration": 16,
    "start_time": "2022-06-11T18:24:10.467Z"
   },
   {
    "duration": 32,
    "start_time": "2022-06-11T18:24:10.485Z"
   },
   {
    "duration": 41,
    "start_time": "2022-06-11T18:24:10.519Z"
   },
   {
    "duration": 17,
    "start_time": "2022-06-11T18:24:10.562Z"
   },
   {
    "duration": 320,
    "start_time": "2022-06-11T18:24:10.581Z"
   },
   {
    "duration": 217,
    "start_time": "2022-06-11T18:24:10.902Z"
   },
   {
    "duration": 52,
    "start_time": "2022-06-11T18:24:11.121Z"
   },
   {
    "duration": 19,
    "start_time": "2022-06-11T18:24:11.175Z"
   },
   {
    "duration": 16,
    "start_time": "2022-06-11T18:24:11.196Z"
   },
   {
    "duration": 687,
    "start_time": "2022-06-11T18:24:11.214Z"
   },
   {
    "duration": 16,
    "start_time": "2022-06-11T18:24:11.903Z"
   },
   {
    "duration": 17,
    "start_time": "2022-06-11T18:24:11.921Z"
   },
   {
    "duration": 762,
    "start_time": "2022-06-11T18:24:11.960Z"
   },
   {
    "duration": 38,
    "start_time": "2022-06-11T18:24:12.724Z"
   },
   {
    "duration": 25,
    "start_time": "2022-06-11T18:24:12.764Z"
   },
   {
    "duration": 51,
    "start_time": "2022-06-11T18:24:17.186Z"
   },
   {
    "duration": 41,
    "start_time": "2022-06-11T18:25:11.789Z"
   },
   {
    "duration": 21,
    "start_time": "2022-06-11T18:26:56.613Z"
   },
   {
    "duration": 26,
    "start_time": "2022-06-11T18:27:42.332Z"
   },
   {
    "duration": 12,
    "start_time": "2022-06-11T18:32:57.702Z"
   },
   {
    "duration": 7,
    "start_time": "2022-06-11T18:33:14.049Z"
   },
   {
    "duration": 6,
    "start_time": "2022-06-11T18:34:10.654Z"
   },
   {
    "duration": 9,
    "start_time": "2022-06-11T18:34:22.445Z"
   },
   {
    "duration": 6,
    "start_time": "2022-06-11T18:34:35.076Z"
   },
   {
    "duration": 6,
    "start_time": "2022-06-11T18:34:40.004Z"
   },
   {
    "duration": 5,
    "start_time": "2022-06-11T18:34:55.135Z"
   },
   {
    "duration": 6,
    "start_time": "2022-06-11T18:35:44.311Z"
   },
   {
    "duration": 9,
    "start_time": "2022-06-11T18:37:54.264Z"
   },
   {
    "duration": 12,
    "start_time": "2022-06-11T18:39:16.796Z"
   },
   {
    "duration": 20,
    "start_time": "2022-06-11T18:40:49.336Z"
   },
   {
    "duration": 44,
    "start_time": "2022-06-11T18:42:56.660Z"
   },
   {
    "duration": 50,
    "start_time": "2022-06-11T18:45:23.361Z"
   },
   {
    "duration": 3,
    "start_time": "2022-06-11T18:45:39.908Z"
   },
   {
    "duration": 123,
    "start_time": "2022-06-11T18:45:39.912Z"
   },
   {
    "duration": 30,
    "start_time": "2022-06-11T18:45:40.038Z"
   },
   {
    "duration": 24,
    "start_time": "2022-06-11T18:45:40.070Z"
   },
   {
    "duration": 71,
    "start_time": "2022-06-11T18:45:40.097Z"
   },
   {
    "duration": 22,
    "start_time": "2022-06-11T18:45:40.170Z"
   },
   {
    "duration": 21,
    "start_time": "2022-06-11T18:45:40.194Z"
   },
   {
    "duration": 269,
    "start_time": "2022-06-11T18:45:40.217Z"
   },
   {
    "duration": 265,
    "start_time": "2022-06-11T18:45:40.487Z"
   },
   {
    "duration": 51,
    "start_time": "2022-06-11T18:45:40.758Z"
   },
   {
    "duration": 53,
    "start_time": "2022-06-11T18:45:40.813Z"
   },
   {
    "duration": 21,
    "start_time": "2022-06-11T18:45:40.868Z"
   },
   {
    "duration": 967,
    "start_time": "2022-06-11T18:45:40.891Z"
   },
   {
    "duration": 17,
    "start_time": "2022-06-11T18:45:41.860Z"
   },
   {
    "duration": 17,
    "start_time": "2022-06-11T18:45:41.879Z"
   },
   {
    "duration": 855,
    "start_time": "2022-06-11T18:45:41.897Z"
   },
   {
    "duration": 41,
    "start_time": "2022-06-11T18:45:42.758Z"
   },
   {
    "duration": 35,
    "start_time": "2022-06-11T18:45:42.801Z"
   },
   {
    "duration": 66,
    "start_time": "2022-06-11T18:45:42.838Z"
   },
   {
    "duration": 20,
    "start_time": "2022-06-11T18:45:42.906Z"
   },
   {
    "duration": 73,
    "start_time": "2022-06-11T18:45:42.929Z"
   },
   {
    "duration": 12,
    "start_time": "2022-06-11T18:45:43.004Z"
   },
   {
    "duration": 21,
    "start_time": "2022-06-11T18:45:43.020Z"
   },
   {
    "duration": 19,
    "start_time": "2022-06-11T18:45:43.043Z"
   },
   {
    "duration": 32,
    "start_time": "2022-06-11T18:45:48.270Z"
   },
   {
    "duration": 34,
    "start_time": "2022-06-11T18:47:06.776Z"
   },
   {
    "duration": 22,
    "start_time": "2022-06-11T18:50:37.005Z"
   },
   {
    "duration": 8,
    "start_time": "2022-06-11T18:53:08.875Z"
   },
   {
    "duration": 20,
    "start_time": "2022-06-11T18:56:27.262Z"
   },
   {
    "duration": 35,
    "start_time": "2022-06-11T18:56:39.383Z"
   },
   {
    "duration": 24,
    "start_time": "2022-06-11T18:58:05.969Z"
   },
   {
    "duration": 22,
    "start_time": "2022-06-11T18:58:14.230Z"
   },
   {
    "duration": 342,
    "start_time": "2022-06-11T19:02:35.489Z"
   },
   {
    "duration": 22,
    "start_time": "2022-06-11T19:05:33.392Z"
   },
   {
    "duration": 14,
    "start_time": "2022-06-11T19:06:52.061Z"
   },
   {
    "duration": 200,
    "start_time": "2022-06-11T19:06:59.152Z"
   },
   {
    "duration": 205,
    "start_time": "2022-06-11T19:07:19.584Z"
   },
   {
    "duration": 1493,
    "start_time": "2022-06-11T19:07:27.778Z"
   },
   {
    "duration": 115,
    "start_time": "2022-06-11T19:08:23.140Z"
   },
   {
    "duration": 118,
    "start_time": "2022-06-11T19:08:30.984Z"
   },
   {
    "duration": 453,
    "start_time": "2022-06-12T15:32:03.077Z"
   },
   {
    "duration": 187,
    "start_time": "2022-06-12T15:32:03.532Z"
   },
   {
    "duration": 25,
    "start_time": "2022-06-12T15:32:03.721Z"
   },
   {
    "duration": 21,
    "start_time": "2022-06-12T15:32:03.748Z"
   },
   {
    "duration": 38,
    "start_time": "2022-06-12T15:32:03.771Z"
   },
   {
    "duration": 16,
    "start_time": "2022-06-12T15:32:03.810Z"
   },
   {
    "duration": 14,
    "start_time": "2022-06-12T15:32:03.829Z"
   },
   {
    "duration": 738,
    "start_time": "2022-06-12T15:32:03.845Z"
   },
   {
    "duration": 271,
    "start_time": "2022-06-12T15:32:04.585Z"
   },
   {
    "duration": 130,
    "start_time": "2022-06-12T15:32:04.858Z"
   },
   {
    "duration": 40,
    "start_time": "2022-06-12T15:32:04.990Z"
   },
   {
    "duration": 15,
    "start_time": "2022-06-12T15:32:05.032Z"
   },
   {
    "duration": 753,
    "start_time": "2022-06-12T15:32:05.049Z"
   },
   {
    "duration": 18,
    "start_time": "2022-06-12T15:32:05.805Z"
   },
   {
    "duration": 14,
    "start_time": "2022-06-12T15:32:05.825Z"
   },
   {
    "duration": 797,
    "start_time": "2022-06-12T15:32:05.841Z"
   },
   {
    "duration": 28,
    "start_time": "2022-06-12T15:32:06.639Z"
   },
   {
    "duration": 52,
    "start_time": "2022-06-12T15:32:06.669Z"
   },
   {
    "duration": 32,
    "start_time": "2022-06-12T15:32:06.722Z"
   },
   {
    "duration": 52,
    "start_time": "2022-06-12T15:32:06.756Z"
   },
   {
    "duration": 40,
    "start_time": "2022-06-12T15:32:06.810Z"
   },
   {
    "duration": 6,
    "start_time": "2022-06-12T15:32:06.852Z"
   },
   {
    "duration": 9,
    "start_time": "2022-06-12T15:32:06.860Z"
   },
   {
    "duration": 7,
    "start_time": "2022-06-12T15:32:06.870Z"
   },
   {
    "duration": 26,
    "start_time": "2022-06-12T15:32:06.878Z"
   },
   {
    "duration": 39,
    "start_time": "2022-06-12T15:32:06.908Z"
   },
   {
    "duration": 27,
    "start_time": "2022-06-12T15:32:06.949Z"
   },
   {
    "duration": 36,
    "start_time": "2022-06-12T15:32:06.977Z"
   },
   {
    "duration": 56,
    "start_time": "2022-06-12T15:32:07.016Z"
   },
   {
    "duration": 48,
    "start_time": "2022-06-12T15:32:07.074Z"
   },
   {
    "duration": 25,
    "start_time": "2022-06-12T15:32:07.124Z"
   },
   {
    "duration": 175,
    "start_time": "2022-06-12T15:32:10.414Z"
   },
   {
    "duration": 194,
    "start_time": "2022-06-12T15:38:26.113Z"
   },
   {
    "duration": 181,
    "start_time": "2022-06-12T15:39:00.996Z"
   },
   {
    "duration": 176,
    "start_time": "2022-06-12T15:40:10.306Z"
   },
   {
    "duration": 179,
    "start_time": "2022-06-12T15:41:11.610Z"
   },
   {
    "duration": 158,
    "start_time": "2022-06-12T15:43:24.630Z"
   },
   {
    "duration": 109,
    "start_time": "2022-06-12T15:43:37.243Z"
   },
   {
    "duration": 159,
    "start_time": "2022-06-12T15:43:52.952Z"
   },
   {
    "duration": 21,
    "start_time": "2022-06-12T15:49:48.409Z"
   },
   {
    "duration": 308,
    "start_time": "2022-06-12T15:49:58.203Z"
   },
   {
    "duration": 202,
    "start_time": "2022-06-12T15:50:11.255Z"
   },
   {
    "duration": 213,
    "start_time": "2022-06-12T15:50:20.006Z"
   },
   {
    "duration": 27,
    "start_time": "2022-06-12T17:10:57.928Z"
   },
   {
    "duration": 43,
    "start_time": "2022-06-12T17:11:04.253Z"
   },
   {
    "duration": 437,
    "start_time": "2022-06-12T17:11:11.915Z"
   },
   {
    "duration": 157,
    "start_time": "2022-06-12T17:11:12.354Z"
   },
   {
    "duration": 34,
    "start_time": "2022-06-12T17:11:12.512Z"
   },
   {
    "duration": 31,
    "start_time": "2022-06-12T17:11:12.548Z"
   },
   {
    "duration": 50,
    "start_time": "2022-06-12T17:11:12.582Z"
   },
   {
    "duration": 20,
    "start_time": "2022-06-12T17:11:12.634Z"
   },
   {
    "duration": 25,
    "start_time": "2022-06-12T17:11:12.656Z"
   },
   {
    "duration": 682,
    "start_time": "2022-06-12T17:11:12.683Z"
   },
   {
    "duration": 236,
    "start_time": "2022-06-12T17:11:13.367Z"
   },
   {
    "duration": 107,
    "start_time": "2022-06-12T17:11:13.605Z"
   },
   {
    "duration": 37,
    "start_time": "2022-06-12T17:11:13.714Z"
   },
   {
    "duration": 15,
    "start_time": "2022-06-12T17:11:13.753Z"
   },
   {
    "duration": 710,
    "start_time": "2022-06-12T17:11:13.769Z"
   },
   {
    "duration": 15,
    "start_time": "2022-06-12T17:11:14.482Z"
   },
   {
    "duration": 28,
    "start_time": "2022-06-12T17:11:14.498Z"
   },
   {
    "duration": 760,
    "start_time": "2022-06-12T17:11:14.528Z"
   },
   {
    "duration": 34,
    "start_time": "2022-06-12T17:11:15.290Z"
   },
   {
    "duration": 25,
    "start_time": "2022-06-12T17:11:15.326Z"
   },
   {
    "duration": 31,
    "start_time": "2022-06-12T17:11:15.353Z"
   },
   {
    "duration": 43,
    "start_time": "2022-06-12T17:11:15.386Z"
   },
   {
    "duration": 39,
    "start_time": "2022-06-12T17:11:15.430Z"
   },
   {
    "duration": 6,
    "start_time": "2022-06-12T17:11:15.471Z"
   },
   {
    "duration": 8,
    "start_time": "2022-06-12T17:11:15.479Z"
   },
   {
    "duration": 10,
    "start_time": "2022-06-12T17:11:15.489Z"
   },
   {
    "duration": 6,
    "start_time": "2022-06-12T17:11:15.524Z"
   },
   {
    "duration": 36,
    "start_time": "2022-06-12T17:11:15.531Z"
   },
   {
    "duration": 24,
    "start_time": "2022-06-12T17:11:15.569Z"
   },
   {
    "duration": 49,
    "start_time": "2022-06-12T17:11:15.595Z"
   },
   {
    "duration": 37,
    "start_time": "2022-06-12T17:11:15.646Z"
   },
   {
    "duration": 59,
    "start_time": "2022-06-12T17:11:15.684Z"
   },
   {
    "duration": 31,
    "start_time": "2022-06-12T17:11:15.745Z"
   },
   {
    "duration": 211,
    "start_time": "2022-06-12T17:11:15.778Z"
   },
   {
    "duration": 189,
    "start_time": "2022-06-12T17:11:15.991Z"
   },
   {
    "duration": 181,
    "start_time": "2022-06-12T17:11:16.182Z"
   },
   {
    "duration": 166,
    "start_time": "2022-06-12T17:11:16.365Z"
   },
   {
    "duration": 116,
    "start_time": "2022-06-12T17:11:16.533Z"
   },
   {
    "duration": 89,
    "start_time": "2022-06-12T17:11:18.849Z"
   },
   {
    "duration": 80,
    "start_time": "2022-06-12T17:13:19.423Z"
   },
   {
    "duration": 67,
    "start_time": "2022-06-12T17:14:33.235Z"
   },
   {
    "duration": 53,
    "start_time": "2022-06-12T17:15:16.979Z"
   },
   {
    "duration": 214,
    "start_time": "2022-06-12T17:22:24.710Z"
   },
   {
    "duration": 229,
    "start_time": "2022-06-12T17:22:51.943Z"
   },
   {
    "duration": 201,
    "start_time": "2022-06-12T17:22:56.980Z"
   },
   {
    "duration": 4,
    "start_time": "2022-06-12T17:23:00.374Z"
   },
   {
    "duration": 52,
    "start_time": "2022-06-12T17:23:55.650Z"
   },
   {
    "duration": 46,
    "start_time": "2022-06-12T17:24:07.706Z"
   },
   {
    "duration": 9,
    "start_time": "2022-06-12T17:24:50.164Z"
   },
   {
    "duration": 8,
    "start_time": "2022-06-12T17:25:01.994Z"
   },
   {
    "duration": 8,
    "start_time": "2022-06-12T17:25:49.879Z"
   },
   {
    "duration": 296,
    "start_time": "2022-06-12T17:26:53.751Z"
   },
   {
    "duration": 202,
    "start_time": "2022-06-12T17:27:09.679Z"
   },
   {
    "duration": 136,
    "start_time": "2022-06-12T17:27:18.644Z"
   },
   {
    "duration": 251,
    "start_time": "2022-06-12T17:27:26.453Z"
   },
   {
    "duration": 2,
    "start_time": "2022-06-12T17:27:36.663Z"
   },
   {
    "duration": 242,
    "start_time": "2022-06-12T17:27:55.772Z"
   },
   {
    "duration": 871,
    "start_time": "2022-06-12T17:28:06.680Z"
   },
   {
    "duration": 767,
    "start_time": "2022-06-12T17:28:37.875Z"
   },
   {
    "duration": 7,
    "start_time": "2022-06-12T17:30:20.295Z"
   },
   {
    "duration": 2,
    "start_time": "2022-06-12T17:30:33.172Z"
   },
   {
    "duration": 188,
    "start_time": "2022-06-12T17:33:01.724Z"
   },
   {
    "duration": 11,
    "start_time": "2022-06-12T17:34:14.726Z"
   },
   {
    "duration": 152,
    "start_time": "2022-06-12T17:34:18.153Z"
   },
   {
    "duration": 157,
    "start_time": "2022-06-12T17:34:35.715Z"
   },
   {
    "duration": 2,
    "start_time": "2022-06-12T17:35:11.683Z"
   },
   {
    "duration": 122,
    "start_time": "2022-06-12T17:35:11.688Z"
   },
   {
    "duration": 43,
    "start_time": "2022-06-12T17:35:11.811Z"
   },
   {
    "duration": 16,
    "start_time": "2022-06-12T17:35:11.855Z"
   },
   {
    "duration": 31,
    "start_time": "2022-06-12T17:35:11.872Z"
   },
   {
    "duration": 53,
    "start_time": "2022-06-12T17:35:11.904Z"
   },
   {
    "duration": 17,
    "start_time": "2022-06-12T17:35:11.959Z"
   },
   {
    "duration": 385,
    "start_time": "2022-06-12T17:35:11.978Z"
   },
   {
    "duration": 282,
    "start_time": "2022-06-12T17:35:12.366Z"
   },
   {
    "duration": 53,
    "start_time": "2022-06-12T17:35:12.650Z"
   },
   {
    "duration": 47,
    "start_time": "2022-06-12T17:35:12.704Z"
   },
   {
    "duration": 22,
    "start_time": "2022-06-12T17:35:12.754Z"
   },
   {
    "duration": 841,
    "start_time": "2022-06-12T17:35:12.779Z"
   },
   {
    "duration": 17,
    "start_time": "2022-06-12T17:35:13.622Z"
   },
   {
    "duration": 17,
    "start_time": "2022-06-12T17:35:13.641Z"
   },
   {
    "duration": 904,
    "start_time": "2022-06-12T17:35:13.659Z"
   },
   {
    "duration": 30,
    "start_time": "2022-06-12T17:35:14.564Z"
   },
   {
    "duration": 48,
    "start_time": "2022-06-12T17:35:14.596Z"
   },
   {
    "duration": 35,
    "start_time": "2022-06-12T17:35:14.645Z"
   },
   {
    "duration": 18,
    "start_time": "2022-06-12T17:35:14.681Z"
   },
   {
    "duration": 55,
    "start_time": "2022-06-12T17:35:14.701Z"
   },
   {
    "duration": 6,
    "start_time": "2022-06-12T17:35:14.757Z"
   },
   {
    "duration": 9,
    "start_time": "2022-06-12T17:35:14.765Z"
   },
   {
    "duration": 12,
    "start_time": "2022-06-12T17:35:14.777Z"
   },
   {
    "duration": 16,
    "start_time": "2022-06-12T17:35:14.790Z"
   },
   {
    "duration": 52,
    "start_time": "2022-06-12T17:35:14.807Z"
   },
   {
    "duration": 25,
    "start_time": "2022-06-12T17:35:14.860Z"
   },
   {
    "duration": 41,
    "start_time": "2022-06-12T17:35:14.887Z"
   },
   {
    "duration": 41,
    "start_time": "2022-06-12T17:35:14.931Z"
   },
   {
    "duration": 25,
    "start_time": "2022-06-12T17:35:14.974Z"
   },
   {
    "duration": 35,
    "start_time": "2022-06-12T17:35:15.023Z"
   },
   {
    "duration": 205,
    "start_time": "2022-06-12T17:35:15.060Z"
   },
   {
    "duration": 192,
    "start_time": "2022-06-12T17:35:15.266Z"
   },
   {
    "duration": 192,
    "start_time": "2022-06-12T17:35:15.460Z"
   },
   {
    "duration": 166,
    "start_time": "2022-06-12T17:35:15.654Z"
   },
   {
    "duration": 125,
    "start_time": "2022-06-12T17:35:15.827Z"
   },
   {
    "duration": 20,
    "start_time": "2022-06-12T17:35:15.954Z"
   },
   {
    "duration": 13,
    "start_time": "2022-06-12T17:35:17.609Z"
   },
   {
    "duration": 153,
    "start_time": "2022-06-12T17:35:18.577Z"
   },
   {
    "duration": 370,
    "start_time": "2022-06-12T17:37:50.271Z"
   },
   {
    "duration": 279,
    "start_time": "2022-06-12T17:39:52.710Z"
   },
   {
    "duration": 38,
    "start_time": "2022-06-12T17:41:18.817Z"
   },
   {
    "duration": 11,
    "start_time": "2022-06-12T17:42:58.007Z"
   },
   {
    "duration": 9,
    "start_time": "2022-06-12T17:43:05.625Z"
   },
   {
    "duration": 9,
    "start_time": "2022-06-12T17:43:22.983Z"
   },
   {
    "duration": 18,
    "start_time": "2022-06-12T17:45:06.451Z"
   },
   {
    "duration": 255,
    "start_time": "2022-06-12T17:45:07.168Z"
   },
   {
    "duration": 10,
    "start_time": "2022-06-12T17:45:39.107Z"
   },
   {
    "duration": 12,
    "start_time": "2022-06-12T17:47:18.451Z"
   },
   {
    "duration": 15,
    "start_time": "2022-06-12T17:49:58.074Z"
   },
   {
    "duration": 199,
    "start_time": "2022-06-12T17:50:08.184Z"
   },
   {
    "duration": 24,
    "start_time": "2022-06-12T17:55:56.941Z"
   },
   {
    "duration": 17,
    "start_time": "2022-06-12T17:56:14.754Z"
   },
   {
    "duration": 5,
    "start_time": "2022-06-12T17:56:22.790Z"
   },
   {
    "duration": 6,
    "start_time": "2022-06-12T17:56:32.305Z"
   },
   {
    "duration": 18,
    "start_time": "2022-06-12T17:56:41.906Z"
   },
   {
    "duration": 18,
    "start_time": "2022-06-12T17:56:47.023Z"
   },
   {
    "duration": 5,
    "start_time": "2022-06-12T17:56:51.066Z"
   },
   {
    "duration": 7,
    "start_time": "2022-06-12T17:57:06.242Z"
   },
   {
    "duration": 6,
    "start_time": "2022-06-12T17:57:21.617Z"
   },
   {
    "duration": 209,
    "start_time": "2022-06-12T18:00:18.225Z"
   },
   {
    "duration": 9711,
    "start_time": "2022-06-12T18:02:23.990Z"
   },
   {
    "duration": 42,
    "start_time": "2022-06-12T18:02:57.859Z"
   },
   {
    "duration": 7,
    "start_time": "2022-06-12T18:05:16.065Z"
   },
   {
    "duration": 18,
    "start_time": "2022-06-12T18:12:59.588Z"
   },
   {
    "duration": 32,
    "start_time": "2022-06-12T18:13:53.336Z"
   },
   {
    "duration": 109,
    "start_time": "2022-06-12T18:14:01.341Z"
   },
   {
    "duration": 29,
    "start_time": "2022-06-12T18:14:13.377Z"
   },
   {
    "duration": 311,
    "start_time": "2022-06-12T18:17:33.356Z"
   },
   {
    "duration": 26,
    "start_time": "2022-06-12T18:18:54.669Z"
   },
   {
    "duration": 26,
    "start_time": "2022-06-12T18:21:29.181Z"
   },
   {
    "duration": 168,
    "start_time": "2022-06-12T18:21:35.278Z"
   },
   {
    "duration": 155,
    "start_time": "2022-06-12T18:22:10.571Z"
   },
   {
    "duration": 8,
    "start_time": "2022-06-12T18:22:40.810Z"
   },
   {
    "duration": 8,
    "start_time": "2022-06-12T18:23:38.704Z"
   },
   {
    "duration": 152,
    "start_time": "2022-06-12T18:24:05.631Z"
   },
   {
    "duration": 164,
    "start_time": "2022-06-12T18:26:42.905Z"
   },
   {
    "duration": 7,
    "start_time": "2022-06-12T18:30:53.311Z"
   },
   {
    "duration": 24,
    "start_time": "2022-06-12T18:30:59.372Z"
   },
   {
    "duration": 33,
    "start_time": "2022-06-12T18:31:24.173Z"
   },
   {
    "duration": 27,
    "start_time": "2022-06-12T18:32:06.486Z"
   },
   {
    "duration": 34,
    "start_time": "2022-06-12T18:33:15.679Z"
   },
   {
    "duration": 46,
    "start_time": "2022-06-12T18:33:49.261Z"
   },
   {
    "duration": 39,
    "start_time": "2022-06-12T18:33:59.675Z"
   },
   {
    "duration": 45,
    "start_time": "2022-06-12T18:34:26.099Z"
   },
   {
    "duration": 27,
    "start_time": "2022-06-12T18:34:37.657Z"
   },
   {
    "duration": 57,
    "start_time": "2022-06-12T18:35:00.416Z"
   },
   {
    "duration": 214,
    "start_time": "2022-06-12T18:37:06.092Z"
   },
   {
    "duration": 188,
    "start_time": "2022-06-12T18:37:25.939Z"
   },
   {
    "duration": 193,
    "start_time": "2022-06-12T18:37:33.167Z"
   },
   {
    "duration": 183,
    "start_time": "2022-06-12T18:37:46.070Z"
   },
   {
    "duration": 182,
    "start_time": "2022-06-12T18:38:19.307Z"
   },
   {
    "duration": 253,
    "start_time": "2022-06-12T18:39:26.158Z"
   },
   {
    "duration": 158,
    "start_time": "2022-06-12T18:41:00.351Z"
   },
   {
    "duration": 26,
    "start_time": "2022-06-12T18:47:44.469Z"
   },
   {
    "duration": 137,
    "start_time": "2022-06-12T18:51:09.189Z"
   },
   {
    "duration": 114,
    "start_time": "2022-06-12T18:51:38.646Z"
   },
   {
    "duration": 42,
    "start_time": "2022-06-12T18:53:11.736Z"
   },
   {
    "duration": 10,
    "start_time": "2022-06-12T18:53:36.094Z"
   },
   {
    "duration": 8,
    "start_time": "2022-06-12T18:54:05.995Z"
   },
   {
    "duration": 10,
    "start_time": "2022-06-12T18:54:15.971Z"
   },
   {
    "duration": 27,
    "start_time": "2022-06-12T18:55:48.449Z"
   },
   {
    "duration": 23,
    "start_time": "2022-06-12T18:59:23.644Z"
   },
   {
    "duration": 26,
    "start_time": "2022-06-12T18:59:31.865Z"
   },
   {
    "duration": 21,
    "start_time": "2022-06-12T19:01:46.977Z"
   },
   {
    "duration": 23,
    "start_time": "2022-06-12T19:02:05.856Z"
   },
   {
    "duration": 236,
    "start_time": "2022-06-12T19:03:06.146Z"
   },
   {
    "duration": 468,
    "start_time": "2022-06-12T19:03:47.006Z"
   },
   {
    "duration": 380,
    "start_time": "2022-08-17T22:40:21.173Z"
   },
   {
    "duration": 228,
    "start_time": "2022-08-17T22:40:42.483Z"
   }
  ],
  "kernelspec": {
   "display_name": "Python 3 (ipykernel)",
   "language": "python",
   "name": "python3"
  },
  "language_info": {
   "codemirror_mode": {
    "name": "ipython",
    "version": 3
   },
   "file_extension": ".py",
   "mimetype": "text/x-python",
   "name": "python",
   "nbconvert_exporter": "python",
   "pygments_lexer": "ipython3",
   "version": "3.9.5"
  },
  "toc": {
   "base_numbering": 1,
   "nav_menu": {},
   "number_sections": true,
   "sideBar": true,
   "skip_h1_title": false,
   "title_cell": "Table of Contents",
   "title_sidebar": "Contents",
   "toc_cell": false,
   "toc_position": {},
   "toc_section_display": true,
   "toc_window_display": true
  }
 },
 "nbformat": 4,
 "nbformat_minor": 2
}
